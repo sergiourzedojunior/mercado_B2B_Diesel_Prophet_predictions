{
  "cells": [
    {
      "cell_type": "markdown",
      "metadata": {
        "nteract": {
          "transient": {
            "deleting": false
          }
        }
      },
      "source": [
        "# Tamanho do Mercado das Usinas Sucroalcooleiras"
      ]
    },
    {
      "cell_type": "markdown",
      "metadata": {
        "nteract": {
          "transient": {
            "deleting": false
          }
        }
      },
      "source": [
        "# Setup Inicial"
      ]
    },
    {
      "cell_type": "markdown",
      "metadata": {
        "nteract": {
          "transient": {
            "deleting": false
          }
        }
      },
      "source": [
        "Carregando linhas com configurações iniciais já escritas em notebook base\n",
        "\n",
        "No bloco de comando \"%run\" não pode ter nenhum outra linha de comando ou comentário"
      ]
    },
    {
      "cell_type": "code",
      "execution_count": 1,
      "metadata": {
        "jupyter": {
          "outputs_hidden": false,
          "source_hidden": false
        },
        "nteract": {
          "transient": {
            "deleting": false
          }
        }
      },
      "outputs": [],
      "source": [
        "%run nb00_Setup_Usinas{}"
      ]
    },
    {
      "cell_type": "markdown",
      "metadata": {
        "nteract": {
          "transient": {
            "deleting": false
          }
        }
      },
      "source": [
        "# Leitura dos Dados "
      ]
    },
    {
      "cell_type": "code",
      "execution_count": 2,
      "metadata": {
        "jupyter": {
          "outputs_hidden": false,
          "source_hidden": false
        },
        "nteract": {
          "transient": {
            "deleting": false
          }
        }
      },
      "outputs": [],
      "source": [
        "usinas   = pd.read_parquet(abfss_path_enriched + 'usinas/usi02_tancagens_impt_usinas.parquet',\n",
        "                            storage_options = {'linked_service' : linked_service_enriched})\n",
        "hist_usinas = pd.read_parquet(abfss_path_enriched + 'usinas/usi03_vendas_impt_mes.parquet',\n",
        "                            storage_options = {'linked_service' : linked_service_enriched})\n",
        "\n",
        "prop  = pd.read_parquet(abfss_path_enriched + 'volumetria/vol01_prop_consfinal_vegetativo.parquet',\n",
        "                        storage_options = {'linked_service' : linked_service_enriched})\n",
        "cf  = pd.read_parquet(abfss_path_enriched + 'volumetria/vol01_vendas_vibra_mes.parquet',\n",
        "                        storage_options = {'linked_service' : linked_service_enriched})\n",
        "diesel_mes = pd.read_parquet(abfss_path_enriched + 'anp/anp_diesel_mes.parquet',\n",
        "                                storage_options = {'linked_service' : linked_service_enriched})"
      ]
    },
    {
      "cell_type": "markdown",
      "metadata": {
        "nteract": {
          "transient": {
            "deleting": false
          }
        }
      },
      "source": [
        "# Tamanho do Mercado"
      ]
    },
    {
      "cell_type": "markdown",
      "metadata": {
        "nteract": {
          "transient": {
            "deleting": false
          }
        }
      },
      "source": [
        "O tamanho do mercado pode ser obtido por duas manairas:\n",
        "\n",
        "1. Pela visão da Clientela</br>\n",
        "    - $TM = C + \\bar{C} $  \n",
        "2. Pela visão da participação da Atividade Econômica no Segmento Consumidor final</br>\n",
        "    - $TM = U_{part} \\times Cons.Final$\n",
        "\n",
        "Onde assumiu-se que:</br>\n",
        "- $Cons.Final = Cons.Final_{Global}$ e</br>\n",
        "- $U_{part} = U_{part: Vibra}$"
      ]
    },
    {
      "cell_type": "code",
      "execution_count": 3,
      "metadata": {
        "jupyter": {
          "outputs_hidden": false,
          "source_hidden": false
        },
        "nteract": {
          "transient": {
            "deleting": false
          }
        }
      },
      "outputs": [],
      "source": [
        "tm1_m = hist_usinas.groupby(['Data','IMP'])['Vol_Total'].sum().reset_index()\n",
        "tm1_m = tm1_m.pivot_table(values='Vol_Total', index='Data', columns='IMP').reset_index()\n",
        "tm1_m.rename_axis(None, axis=1, inplace=True)\n",
        "tm1_m.columns = ['Data','Vol_Cliente', 'Vol_NaoCliente']\n",
        "tm1_m['Vol_Usina'] = tm1_m[['Vol_Cliente', 'Vol_NaoCliente']].sum(axis=1)"
      ]
    },
    {
      "cell_type": "code",
      "execution_count": 4,
      "metadata": {
        "jupyter": {
          "outputs_hidden": false,
          "source_hidden": false
        },
        "nteract": {
          "transient": {
            "deleting": false
          }
        }
      },
      "outputs": [],
      "source": [
        "hist = hist_usinas.groupby(['Data','IMP'])['Vol_Total'].agg('sum').reset_index()\n",
        "# hist['ds'] = pd.to_datetime(hist['ANOMES'],format='%Y-%m' )\n",
        "# hist['y']= hist['Vol_Total']\n",
        "# hist = hist[['ds','y']]"
      ]
    },
    {
      "cell_type": "code",
      "execution_count": 5,
      "metadata": {
        "jupyter": {
          "outputs_hidden": false,
          "source_hidden": false
        },
        "nteract": {
          "transient": {
            "deleting": false
          }
        }
      },
      "outputs": [],
      "source": [
        "tm1_m"
      ]
    },
    {
      "cell_type": "code",
      "execution_count": 6,
      "metadata": {
        "jupyter": {
          "outputs_hidden": false,
          "source_hidden": false
        },
        "nteract": {
          "transient": {
            "deleting": false
          }
        }
      },
      "outputs": [],
      "source": [
        "tm2_m = pd.DataFrame(diesel_mes.loc['2016':]['consumidor final']*prop['USINA'][:-1]).reset_index()\n",
        "tm2_m.columns = ['Data','Vol_Usina']"
      ]
    },
    {
      "cell_type": "code",
      "execution_count": 7,
      "metadata": {
        "jupyter": {
          "outputs_hidden": false,
          "source_hidden": false
        },
        "nteract": {
          "transient": {
            "deleting": false
          }
        }
      },
      "outputs": [],
      "source": [
        "tm2_m"
      ]
    },
    {
      "cell_type": "markdown",
      "metadata": {
        "nteract": {
          "transient": {
            "deleting": false
          }
        }
      },
      "source": [
        "# Teste de Aderência das duas séries"
      ]
    },
    {
      "cell_type": "code",
      "execution_count": 8,
      "metadata": {
        "jupyter": {
          "outputs_hidden": false,
          "source_hidden": false
        },
        "nteract": {
          "transient": {
            "deleting": false
          }
        }
      },
      "outputs": [],
      "source": [
        "# https://docs.scipy.org/doc/scipy/reference/generated/scipy.special.kolmogorov.html\n",
        "\n",
        "x = tm1_m['Vol_Usina'][:85].values\n",
        "y = tm2_m['Vol_Usina'][:85].values\n",
        "\n",
        "# probabilidades\n",
        "px = x/x.sum()\n",
        "py = y/y.sum()\n",
        "\n",
        "#probabilidades acumuladas\n",
        "pxc = px.cumsum()\n",
        "pyc = py.cumsum()\n",
        "\n",
        "\n",
        "grid = np.linspace(-3, 3, 85)\n",
        "\n",
        "plt.step(grid, px.cumsum(), label='Tamanho de Mercado 1')\n",
        "plt.plot(grid, py.cumsum(), label='Tamanho de Mercado 2')\n",
        "plt.ylim([0, 1]); plt.grid(True); plt.legend();\n",
        "\n",
        "gaps = np.column_stack([pyc-pxc, pxc-pyc])\n",
        "a, b = np.argmax(gaps, axis=0)\n",
        "plt.vlines([grid[a]], pyc[a], pxc[a], color='r', linestyle='dashed', lw=4)\n",
        "plt.vlines([grid[b]], pxc[b], pyc[b], color='r', linestyle='dashed', lw=4)\n",
        "\n",
        "#plt.show()"
      ]
    },
    {
      "cell_type": "code",
      "execution_count": 9,
      "metadata": {
        "jupyter": {
          "outputs_hidden": false,
          "source_hidden": false
        },
        "nteract": {
          "transient": {
            "deleting": false
          }
        }
      },
      "outputs": [],
      "source": [
        "Dn = np.max(gaps) # = pxc[b]- pyc[b]\n",
        "Kn = np.sqrt(len(x)) * Dn\n",
        "print('Dn=%f, sqrt(n)*Dn=%f' % (Dn, Kn))"
      ]
    },
    {
      "cell_type": "code",
      "execution_count": 10,
      "metadata": {
        "jupyter": {
          "outputs_hidden": false,
          "source_hidden": false
        },
        "nteract": {
          "transient": {
            "deleting": false
          }
        }
      },
      "outputs": [],
      "source": [
        "stats.kstest(x,y, alternative='two-sided')"
      ]
    },
    {
      "cell_type": "markdown",
      "metadata": {
        "nteract": {
          "transient": {
            "deleting": false
          }
        }
      },
      "source": [
        "# Salvando Tamanho do Mercado"
      ]
    },
    {
      "cell_type": "code",
      "execution_count": 11,
      "metadata": {
        "jupyter": {
          "outputs_hidden": false,
          "source_hidden": false
        },
        "nteract": {
          "transient": {
            "deleting": false
          }
        }
      },
      "outputs": [],
      "source": [
        "tm1_m.to_parquet(abfss_path_enriched + 'usinas/usi04_tamanho_mercado.parquet', \n",
        "                      storage_options = {'linked_service':linked_service_enriched})"
      ]
    },
    {
      "cell_type": "markdown",
      "metadata": {
        "nteract": {
          "transient": {
            "deleting": false
          }
        }
      },
      "source": [
        "# Gráficos"
      ]
    },
    {
      "cell_type": "code",
      "execution_count": 12,
      "metadata": {
        "jupyter": {
          "outputs_hidden": false,
          "source_hidden": false
        },
        "nteract": {
          "transient": {
            "deleting": false
          }
        }
      },
      "outputs": [],
      "source": [
        "cores = ['green','gray','purple', 'gold']\n",
        "\n",
        "fig = make_subplots(rows=1, cols=1,\n",
        "                    y_title='Volume (m³)',\n",
        "                    subplot_titles=(''),\n",
        "                    shared_yaxes=False,\n",
        "                    vertical_spacing=0.1 )\n",
        "\n",
        "# grafico 01\n",
        "for c,i in enumerate(tm1_m.columns[1:3]):\n",
        "    fig.add_trace(go.Scatter(\n",
        "                        name = i,\n",
        "                        x = tm1_m['Data'],\n",
        "                        y = tm1_m[i],\n",
        "                        line = {'color': cores[c]},\n",
        "                        visible=True,\n",
        "                        stackgroup='one'),\n",
        "                    row=1, col=1\n",
        "    )\n",
        "\n",
        "fig.add_trace(go.Scatter( # Linha do Crescimento Vegetativo Vibra -  Consumidor Final\n",
        "            x = tm1_m['Data'],\n",
        "            y = tm1_m['Vol_Usina'],\n",
        "            line = {'color': 'green', 'dash':'dot'},\n",
        "            name = 'TM (Cli + ÑCli)',\n",
        "            showlegend=True),\n",
        "    row=1, col=1)\n",
        "\n",
        "fig.add_trace(go.Scatter( # Linha do Tamanho de Mercado (%Usi * ConsFinal)\n",
        "            x = tm2_m['Data'],\n",
        "            y = tm2_m['Vol_Usina'],\n",
        "            line = dict(color='red', width=4),\n",
        "            name = 'TM (%Usi * ConsFinal)',\n",
        "            showlegend=True),\n",
        "    row=1, col=1)\n",
        "\n",
        "fig.update_xaxes(matches='x', rangeslider_visible=True, rangeslider_thickness = 0.05)\n",
        "fig.update_xaxes(rangeslider= {'visible':True}, row=1, col=1)\n",
        "\n",
        "fig.add_annotation(\n",
        "            showarrow=False,\n",
        "            text='Gerado em ' + dt.now(tz_SP).strftime(\"%d %b %Y às %H:%M:%S\"),\n",
        "            font=dict(size=12),\n",
        "            align=\"right\",\n",
        "            x=1.18,\n",
        "            y=-0.24,\n",
        "            xref='paper',\n",
        "            yref='paper',\n",
        "            xanchor='right',\n",
        "            yanchor='bottom',)\n",
        "\n",
        "# titulo\n",
        "fig.update_layout(\n",
        "                template='plotly_white', # template [\"plotly\", \"plotly_white\", \"plotly_dark\", \"ggplot2\", \"seaborn\", \"simple_white\", \"none\"]\n",
        "                title = 'Volume de Diesel Vendido para Usinas Sucroalcooleiras' + '<br><sup>'+ \n",
        "                        'Considerando total de usinas MAPA (mar/2023)'+'</sup>',\n",
        "                legend_title = \"Legenda\",\n",
        "                font=dict(\n",
        "                        family = \"Courier New, monospace\",\n",
        "                        size = 14,\n",
        "                        color = \"royalblue\"),\n",
        "                height=600\n",
        ")\n",
        "\n",
        "fig = plotly.offline.plot(fig, output_type='div')\n",
        "# \n",
        "displayHTML(fig)\n"
      ]
    },
    {
      "cell_type": "code",
      "execution_count": 13,
      "metadata": {
        "jupyter": {
          "outputs_hidden": false,
          "source_hidden": false
        },
        "nteract": {
          "transient": {
            "deleting": false
          }
        }
      },
      "outputs": [],
      "source": [
        "def agrup_graf(df, geo='UF'):\n",
        "    aux = df.set_index('Data')\n",
        "    aux = aux.groupby([geo])['Vol_Total'].resample('MS').sum()\n",
        "    aux = aux.unstack(level=0)\n",
        "    #aux.columns = aux.columns.droplevel(0)\n",
        "    aux = aux.rename_axis(None, axis=1)\n",
        "    return(aux)"
      ]
    },
    {
      "cell_type": "code",
      "execution_count": 14,
      "metadata": {
        "jupyter": {
          "outputs_hidden": false,
          "source_hidden": false
        },
        "nteract": {
          "transient": {
            "deleting": false
          }
        }
      },
      "outputs": [],
      "source": [
        "titulo = ('Volume de Diesel Vendido para Usinas Sucroalcooleiras por região' + '<br><sup>'+\n",
        "           'Considerando total de usinas MAPA (mar/2023)'+'</sup>')\n",
        "\n",
        "# multi_plot(agrup_graf(hist_usinas, geo='REGIAO3'), titulo, 'Agrupamentos<br>Regionais')"
      ]
    },
    {
      "cell_type": "code",
      "execution_count": 15,
      "metadata": {
        "jupyter": {
          "outputs_hidden": false,
          "source_hidden": false
        },
        "nteract": {
          "transient": {
            "deleting": false
          }
        }
      },
      "outputs": [],
      "source": [
        "df = tm1_m[['Data']]\n",
        "df['Erro'] = (tm1_m['Vol_Usina'] - tm2_m['Vol_Usina'])/tm2_m['Vol_Usina']\n",
        "\n",
        "fig = go.Figure()\n",
        "fig.add_trace(go.Scatter( # Linha do Crescimento Vegetativo Vibra -  Consumidor Final\n",
        "            x = df['Data'],\n",
        "            y = df['Erro'],\n",
        "            line = {'color': 'green', 'dash':'dot'}))\n",
        "fig.update_layout(\n",
        "                template='plotly_white', # template [\"plotly\", \"plotly_white\", \"plotly_dark\", \"ggplot2\", \"seaborn\", \"simple_white\", \"none\"]\n",
        "                title = 'Erro Relativo Mensal em relação do Tamanho do Mercado Proporcional',\n",
        "                font=dict(\n",
        "                        family = \"Courier New, monospace\",\n",
        "                        size = 14,\n",
        "                        color = \"royalblue\"),\n",
        "                height=400\n",
        ")\n",
        "fig = plotly.offline.plot(fig, output_type='div')\n",
        "displayHTML(fig)"
      ]
    }
  ],
  "metadata": {
    "description": null,
    "kernelspec": {
      "display_name": "Synapse PySpark",
      "name": "synapse_pyspark"
    },
    "language_info": {
      "name": "python"
    },
    "save_output": true
  },
  "nbformat": 4,
  "nbformat_minor": 2
}
