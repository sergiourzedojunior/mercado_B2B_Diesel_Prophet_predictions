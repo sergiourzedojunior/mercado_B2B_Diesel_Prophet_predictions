{
  "cells": [
    {
      "cell_type": "markdown",
      "metadata": {
        "nteract": {
          "transient": {
            "deleting": false
          }
        }
      },
      "source": [
        "# Configuração geral para consulta em Views montadas em SQL scrips"
      ]
    },
    {
      "cell_type": "markdown",
      "metadata": {
        "nteract": {
          "transient": {
            "deleting": false
          }
        }
      },
      "source": [
        "## Bibliotecas Utilizadas"
      ]
    },
    {
      "cell_type": "code",
      "execution_count": null,
      "metadata": {
        "jupyter": {
          "outputs_hidden": false,
          "source_hidden": false
        },
        "nteract": {
          "transient": {
            "deleting": false
          }
        }
      },
      "outputs": [],
      "source": [
        "#%%pyspark\n",
        "#\n",
        "######################################################################\n",
        "# Checa Disponibilidade da Biblioteca \n",
        "######################################################################\n",
        "#\n",
        "try:\n",
        "    import pymssql\n",
        "except ModuleNotFoundError:\n",
        "    %pip install --quiet pymssql\n",
        "    import pymssql\n",
        "\n",
        "import json"
      ]
    },
    {
      "cell_type": "markdown",
      "metadata": {
        "nteract": {
          "transient": {
            "deleting": false
          }
        }
      },
      "source": [
        "## Definições Gerais do Banco"
      ]
    },
    {
      "cell_type": "code",
      "execution_count": null,
      "metadata": {},
      "outputs": [],
      "source": [
        "# Define o header com token para importação dos dados via api\n",
        "ls_keyvault = mssparkutils.credentials.getPropertiesAll('LS_KEYVAULT_01')\n",
        "\n",
        "converter_dic_kv = json.loads(ls_keyvault)\n",
        "\n",
        "#coletando o endpoint\n",
        "end_point_kv = (converter_dic_kv['Endpoint'].split(\"/\"))[2]\n",
        "kv_name = (end_point_kv.split(\".\"))[0]\n",
        "\n",
        "# password armazenada no Key Vaul do cofre kv-dtan-prd\n",
        "psswd = mssparkutils.credentials.getSecret(kv_name,'KV-PWD-CI-DS-ISOLADO','LS_KEYVAULT_01')\n",
        "\n",
        "#\n",
        "#######################################################################\n",
        "# Definições Gerais Do Banco\n",
        "#######################################################################\n",
        "#\n",
        "dbServer   = \"syn-dtan-csting-ondemand.sql.azuresynapse.net\"\n",
        "dbUser     = \"dbadmin\"\n",
        "dbPassword = psswd\n",
        "dbDataBase = \"mercadopotencial\""
      ]
    },
    {
      "cell_type": "markdown",
      "metadata": {
        "nteract": {
          "transient": {
            "deleting": false
          }
        }
      },
      "source": [
        "## Função Geral de Consulta"
      ]
    },
    {
      "cell_type": "code",
      "execution_count": 1,
      "metadata": {
        "jupyter": {
          "outputs_hidden": false,
          "source_hidden": false
        },
        "nteract": {
          "transient": {
            "deleting": false
          }
        }
      },
      "outputs": [],
      "source": [
        "def ConsultaView(vw_fonte):\n",
        "    '''\n",
        "        Função que retorna a tabela origem em PRD .parquet definina na VIEW\n",
        "    \n",
        "    Parâmetros:\n",
        "    -----------\n",
        "        vw_fonte: string\n",
        "            Nome da view definida em SQL scrips\n",
        "    Retorno:\n",
        "    -----------\n",
        "        dfResultado: pd.DataFrame\n",
        "            Tabela com o resultado da consulta\n",
        "    '''\n",
        "    \n",
        "    sqlCMD = \"SELECT * FROM [CI].[\" + vw_fonte + \"]\"\n",
        "\n",
        "    dbConexao = pymssql.connect(server   = dbServer,                \n",
        "                                user     = dbUser, \n",
        "                                password = dbPassword, \n",
        "                                database = dbDataBase)\n",
        "\n",
        "    cursor = dbConexao.cursor(as_dict=True)\n",
        "    cursor.execute(sqlCMD)\n",
        "    \n",
        "    dfResultado = pd.DataFrame(cursor.fetchall())\n",
        "\n",
        "    dbConexao.close()\n",
        "    \n",
        "    return(dfResultado)"
      ]
    },
    {
      "cell_type": "code",
      "execution_count": null,
      "metadata": {
        "jupyter": {
          "outputs_hidden": false,
          "source_hidden": false
        },
        "nteract": {
          "transient": {
            "deleting": false
          }
        }
      },
      "outputs": [],
      "source": [
        "print('Configurações executadas com sucesso!')\n",
        "print('')\n",
        "print('Função geral de consulta carregada.\\nMaiores detalhes executar:\\nhelp(ConsultaView)')"
      ]
    }
  ],
  "metadata": {
    "description": null,
    "kernelspec": {
      "display_name": "Synapse PySpark",
      "name": "synapse_pyspark"
    },
    "language_info": {
      "name": "python"
    },
    "save_output": true
  },
  "nbformat": 4,
  "nbformat_minor": 2
}
