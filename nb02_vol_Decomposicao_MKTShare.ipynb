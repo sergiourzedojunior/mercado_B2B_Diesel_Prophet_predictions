{
  "cells": [
    {
      "cell_type": "markdown",
      "metadata": {
        "nteract": {
          "transient": {
            "deleting": false
          }
        }
      },
      "source": [
        "# Docomposição do Marketing Share da ANP"
      ]
    },
    {
      "cell_type": "markdown",
      "metadata": {
        "nteract": {
          "transient": {
            "deleting": false
          }
        }
      },
      "source": [
        "# Setup Inicial"
      ]
    },
    {
      "cell_type": "markdown",
      "metadata": {},
      "source": [
        "## Bibliotecas utilizadas"
      ]
    },
    {
      "cell_type": "code",
      "execution_count": 2,
      "metadata": {},
      "outputs": [],
      "source": [
        "import pandas as pd\n",
        "import numpy as np\n",
        "import json\n",
        "\n",
        "# Manipulação de datas\n",
        "from time import strftime\n",
        "from datetime import datetime\n",
        "from dateutil.relativedelta import relativedelta\n",
        "\n",
        "# Visualização\n",
        "import matplotlib.pyplot as plt\n",
        "import plotly\n",
        "import plotly.offline as py\n",
        "import plotly.express as px\n",
        "from plotly.subplots import make_subplots\n",
        "import plotly.graph_objects as go\n",
        "from plotly.graph_objs import *"
      ]
    },
    {
      "cell_type": "markdown",
      "metadata": {
        "nteract": {
          "transient": {
            "deleting": false
          }
        }
      },
      "source": [
        "## Definições Gerais"
      ]
    },
    {
      "cell_type": "code",
      "execution_count": 3,
      "metadata": {
        "jupyter": {
          "outputs_hidden": false,
          "source_hidden": false
        },
        "nteract": {
          "transient": {
            "deleting": false
          }
        }
      },
      "outputs": [],
      "source": [
        "# definção dos diretórios relativos\n",
        "\n",
        "# replace with your container name\n",
        "blob_container_name = 'general' \n",
        "\n",
        "# replace with your relative folder path\n",
        "blob_relative_path_raw = 'raw/mercado_potencial/'\n",
        "blob_relative_path_enriched = 'enriched/mercado_potencial/'\n",
        "\n",
        "\n",
        "# replace with your linked service name\n",
        "linked_service_raw = 'LS_ADLS_RAW_01'\n",
        "linked_service_enriched = 'LS_ADLS_ENRICHED_01'\n",
        "\n",
        "ls_raw = mssparkutils.credentials.getPropertiesAll(linked_service_raw)\n",
        "ls_enriched = mssparkutils.credentials.getPropertiesAll(linked_service_enriched)\n",
        "\n",
        "converter_dic_raw = json.loads(ls_raw)\n",
        "converter_dic_enriched = json.loads(ls_enriched)\n",
        "\n",
        "end_point_raw = (converter_dic_raw['Endpoint'].split(\"/\"))[2]\n",
        "end_point_enriched = (converter_dic_enriched['Endpoint'].split(\"/\"))[2]\n",
        "\n",
        "\n",
        "dir_raw = 'abfss://%s@%s/%s' % (blob_container_name, end_point_raw, blob_relative_path_raw)\n",
        "dir_enriched = 'abfss://%s@%s/%s' % (blob_container_name, end_point_enriched, blob_relative_path_enriched)\n"
      ]
    },
    {
      "cell_type": "code",
      "execution_count": 4,
      "metadata": {
        "jupyter": {
          "outputs_hidden": false,
          "source_hidden": false
        },
        "nteract": {
          "transient": {
            "deleting": false
          }
        }
      },
      "outputs": [],
      "source": [
        "# dir_row  = 'abfss://general@stedlk01dtandev.dfs.core.windows.net/raw/mercado_potencial/'\n",
        "# dir_enriched = 'abfss://general@stedlk02dtandev.dfs.core.windows.net/enriched/mercado_potencial/'\n",
        "\n",
        "# ls_row = 'LS_ADLS_ROW_01'\n",
        "# ls_enriched = 'LS_ADLS_ENRICHED_01'"
      ]
    },
    {
      "cell_type": "markdown",
      "metadata": {},
      "source": [
        "## Funções auxiliares"
      ]
    },
    {
      "cell_type": "code",
      "execution_count": 5,
      "metadata": {
        "jupyter": {
          "outputs_hidden": false,
          "source_hidden": false
        },
        "nteract": {
          "transient": {
            "deleting": false
          }
        }
      },
      "outputs": [],
      "source": [
        "def ajustar_data(df):\n",
        "    \"\"\"Cria data a partir de dados de ano e mês separados.\n",
        "\n",
        "        Ajusta e cria coluna em dataframe a partir de informações de \n",
        "        ano e mês separadas e em formato string. \n",
        "        \n",
        "    Parâmetros\n",
        "    ----------\n",
        "    df: pd.DdataFrame\n",
        "        Dataframe contendo as colunas 'Ano de MESANO' e 'Num mês'\n",
        "    \n",
        "    Retorno\n",
        "    -------\n",
        "    df: pd.DdataFrame\n",
        "        Dataframe contendo a coluna 'Data' em formato datatime\n",
        "    \"\"\"\n",
        "\n",
        "    df['Data'] = pd.to_datetime(['-'.join(i) for i in zip(df['Ano de MESANO'].map(str),df['Num mês'].map(str))],format='%Y-%m')\n",
        "    df.sort_values(by='Data', inplace=True)\n",
        "    df = df.set_index('Data', drop=True)\n",
        "    return (df)"
      ]
    },
    {
      "cell_type": "code",
      "execution_count": 6,
      "metadata": {
        "jupyter": {
          "outputs_hidden": false,
          "source_hidden": false
        },
        "nteract": {
          "transient": {
            "deleting": false
          }
        }
      },
      "outputs": [],
      "source": [
        "def grafico_diff (df, titulo=\"\"):\n",
        "    \"\"\"Cria gráficos de linhas para as diferenças entre ANP e VIBRA.\n",
        "\n",
        "        Cria gráficos de linhas para as diferenças entre os dados \n",
        "        da ANP e do histórico de vendas da VIBRA \n",
        "        \n",
        "    Parâmetros\n",
        "    ----------\n",
        "    df: pd.DdataFrame\n",
        "        Dataframe contendo as colunas 'data_venda' e 'CONSUMIDOR FINAL', sendo esta útima \n",
        "        a diferença entre os dados de volume de vendas fornecidos pela ANP e os \n",
        "        registrados por Histórico de vendas da VIBRA\n",
        "    \n",
        "    Retorno\n",
        "    -------\n",
        "    fig: plotly object\n",
        "        Grafico em formato plotly que poderá ser exibido ou salvo.\n",
        "    \"\"\"\n",
        "    \n",
        "    df.reset_index(inplace=True)\n",
        "\n",
        "    fig = go.Figure()\n",
        "\n",
        "    fig.add_trace(go.Scatter(\n",
        "        x=df['data_venda'],\n",
        "        y=df['CONSUMIDOR FINAL'],\n",
        "        line={'color': 'rgb(220,20,60)'},\n",
        "        name='Diferença'\n",
        "    ))\n",
        "\n",
        "    fig.update_layout(\n",
        "        title=\"Diferença \"+ titulo +\" entre o volumes de venda de Diesel <br><sup>entre ANP e Vendas Vibra para o Consumidor Final<sup>\",\n",
        "        xaxis_title=\"Período\",\n",
        "        #yaxis_title=\"Volume (m³)\",\n",
        "        legend_title=\"Legenda\",\n",
        "        font=dict(\n",
        "            family=\"Courier New, monospace\",\n",
        "            size=14,\n",
        "            color=\"royalblue\"\n",
        "        )\n",
        "    )\n",
        "    \n",
        "    return (fig)"
      ]
    },
    {
      "cell_type": "markdown",
      "metadata": {
        "nteract": {
          "transient": {
            "deleting": false
          }
        }
      },
      "source": [
        "# Análise Exploratória"
      ]
    },
    {
      "cell_type": "markdown",
      "metadata": {},
      "source": [
        "## Coletando dados de vendas Segmentados por Distribuidoras e por Cliente"
      ]
    },
    {
      "cell_type": "code",
      "execution_count": 7,
      "metadata": {
        "jupyter": {
          "outputs_hidden": false,
          "source_hidden": false
        },
        "nteract": {
          "transient": {
            "deleting": false
          }
        }
      },
      "outputs": [],
      "source": [
        "# este arquivo é fornecido periodicamente pelo Sérgio\n",
        "# tando na sandbox quanto para TI por em PRD\n",
        "arquivo = dir_raw + 'volumetria/Dados_MarketShare_CONS_TRR.xlsx' \n",
        "\n",
        "mkt_cf = pd.read_excel(arquivo, sheet_name='CONSUMIDOR - %', \n",
        "                        storage_options = {'linked_service' : linked_service_raw})\n",
        "mkt_trr = pd.read_excel(arquivo, sheet_name='TRR - %',\n",
        "                        storage_options = {'linked_service' : linked_service_raw})\n",
        "\n",
        "mktcf = pd.read_excel(arquivo, sheet_name='CONSUMIDOR - Volumes',\n",
        "                        storage_options = {'linked_service' : linked_service_raw})\n",
        "mkttrr = pd.read_excel(arquivo, sheet_name='TRR - Volumes',\n",
        "                        storage_options = {'linked_service' : linked_service_raw})"
      ]
    },
    {
      "cell_type": "markdown",
      "metadata": {
        "nteract": {
          "transient": {
            "deleting": false
          }
        }
      },
      "source": [
        "## Ajuste de Datas"
      ]
    },
    {
      "cell_type": "code",
      "execution_count": 8,
      "metadata": {
        "jupyter": {
          "outputs_hidden": false,
          "source_hidden": false
        },
        "nteract": {
          "transient": {
            "deleting": false
          }
        }
      },
      "outputs": [],
      "source": [
        "mkt_cf = ajustar_data(mkt_cf)\n",
        "mkt_trr = ajustar_data(mkt_trr)\n",
        "\n",
        "mktcf = ajustar_data(mktcf)\n",
        "mkttrr = ajustar_data(mkttrr)"
      ]
    },
    {
      "cell_type": "markdown",
      "metadata": {
        "nteract": {
          "transient": {
            "deleting": false
          }
        }
      },
      "source": [
        "## Evolução do Market Share ao longo dos anos"
      ]
    },
    {
      "cell_type": "code",
      "execution_count": 9,
      "metadata": {
        "jupyter": {
          "outputs_hidden": false,
          "source_hidden": false
        },
        "nteract": {
          "transient": {
            "deleting": false
          }
        }
      },
      "outputs": [],
      "source": [
        "empresas = np.unique(mkt_trr['_EMPRESA'].values)\n",
        "cores = ['green', 'purple', 'blue', 'red']\n",
        "\n",
        "fig = make_subplots(rows=2, cols=1,\n",
        "                        y_title='% Mercado',\n",
        "                        subplot_titles=('Consumidor Final', 'TRR'),\n",
        "                        shared_yaxes=False,\n",
        "                        vertical_spacing=0.1 )\n",
        "\n",
        "for c, i in enumerate(empresas[::-1]):\n",
        "# linhas do Consumidor Final\n",
        "        dt = mkt_cf[mkt_cf['_EMPRESA']==i]['Valores de medida']\n",
        "        fig.add_trace(go.Scatter(\n",
        "                        name = i,\n",
        "                        x = dt.index,\n",
        "                        y = dt.values*100,\n",
        "                        mode='lines+markers',\n",
        "                        marker={'color': cores[c],\n",
        "                                'size': 4,\n",
        "                                'line': {'color': cores[c],\n",
        "                                        'width': .65}\n",
        "                                },\n",
        "                        visible=True),\n",
        "                    row=1, col=1\n",
        "        )\n",
        "# linhas do TRR\n",
        "        dt = mkt_trr[mkt_trr['_EMPRESA']==i]['Valores de medida']\n",
        "        fig.add_trace(go.Scatter(\n",
        "                        name = i,\n",
        "                        x = dt.index,\n",
        "                        y = dt.values*100,\n",
        "                        mode='lines+markers',\n",
        "                        marker={'color': cores[c],\n",
        "                                'size': 4,\n",
        "                                'line': {'color': cores[c],\n",
        "                                        'width': .65}\n",
        "                                },\n",
        "                        visible=True,\n",
        "                        showlegend=False),\n",
        "                    row=2, col=1\n",
        "        )\n",
        "        \n",
        "fig.add_annotation(\n",
        "                showarrow=False,\n",
        "                text='Gerado em ' + datetime.now().strftime(\"%d %b %Y às %H:%M:%S\"),\n",
        "                font=dict(size=12),\n",
        "                xref='paper',\n",
        "                x=1.1,\n",
        "                yref='paper',\n",
        "                y=-0.25)\n",
        "    \n",
        "fig.update_xaxes(matches='x', rangeslider_visible=True, rangeslider_thickness = 0.08)\n",
        "fig.update_xaxes(rangeslider= {'visible':False}, row=1, col=1)\n",
        "\n",
        "ano_s = dt.index.min().strftime('%m.%Y')\n",
        "ano_e = dt.index.max().strftime('%m.%Y')\n",
        "\n",
        "fig.update_layout(\n",
        "                title = 'Market Share Diesel Brasil<br><sup>('+ ano_s +' - '+ ano_e+ ')</sup>',\n",
        "                #xaxis_title = \"Período\",\n",
        "                #yaxis_title = \"% mercado\",\n",
        "                legend_title = \"Legenda\",\n",
        "                font=dict(\n",
        "                    family = \"Courier New, monospace\",\n",
        "                    size = 14,\n",
        "                    color = \"royalblue\"),\n",
        "                    height=800)\n",
        "fig = plotly.offline.plot(fig, output_type='div')\n",
        "displayHTML(fig)\n",
        "        "
      ]
    },
    {
      "cell_type": "markdown",
      "metadata": {
        "nteract": {
          "transient": {
            "deleting": false
          }
        }
      },
      "source": [
        "# Decomposição do Consumidor Final\n",
        "Desagregação do mkt share consumidor final da ANP por Atividades Econômicas VIBRA por meio da aplicação das proporções oriundas do histórico de vendas VIBRA"
      ]
    },
    {
      "cell_type": "markdown",
      "metadata": {
        "nteract": {
          "transient": {
            "deleting": false
          }
        }
      },
      "source": [
        "## GET Histórico Vendas VIBRA por Atividades Econômicas"
      ]
    },
    {
      "cell_type": "code",
      "execution_count": 10,
      "metadata": {
        "jupyter": {
          "outputs_hidden": false,
          "source_hidden": false
        },
        "nteract": {
          "transient": {
            "deleting": false
          }
        }
      },
      "outputs": [],
      "source": [
        "prop  = pd.read_parquet(dir_enriched+'volumetria/vol01_prop_consfinal_vegetativo.parquet',\n",
        "                        storage_options = {'linked_service' : linked_service_enriched})\n",
        "                        \n",
        "cf  = pd.read_parquet(dir_enriched+'volumetria/vol01_vendas_vibra_mes.parquet',\n",
        "                        storage_options = {'linked_service' : linked_service_enriched})"
      ]
    },
    {
      "cell_type": "markdown",
      "metadata": {
        "nteract": {
          "transient": {
            "deleting": false
          }
        }
      },
      "source": [
        "## GET Volume Vendas Consumidor Final Vibra MKTShare "
      ]
    },
    {
      "cell_type": "code",
      "execution_count": 11,
      "metadata": {
        "jupyter": {
          "outputs_hidden": false,
          "source_hidden": false
        },
        "nteract": {
          "transient": {
            "deleting": false
          }
        }
      },
      "outputs": [],
      "source": [
        "mktcf_vibra = pd.DataFrame(mktcf[mktcf['_EMPRESA']=='VIBRA']['Valores de medida'])\n",
        "mktcf_vibra.columns = ['Vol_ConsFinal']\n",
        "mktcf_vibra = mktcf_vibra['2016':]"
      ]
    },
    {
      "cell_type": "markdown",
      "metadata": {
        "nteract": {
          "transient": {
            "deleting": false
          }
        }
      },
      "source": [
        "## Volume de Vendas Consumidor Final Vibra MKTShare Decomposta por Atividade Econômica"
      ]
    },
    {
      "cell_type": "code",
      "execution_count": 12,
      "metadata": {
        "jupyter": {
          "outputs_hidden": false,
          "source_hidden": false
        },
        "nteract": {
          "transient": {
            "deleting": false
          }
        }
      },
      "outputs": [],
      "source": [
        "# volume por atividade economica decomposta a partir das proporções de vendas vibra\n",
        "\n",
        "beg = mktcf_vibra.index.min().strftime(\"%Y-%m-%d\")\n",
        "end = mktcf_vibra.index.max().strftime(\"%Y-%m-%d\")\n",
        "# A multiplicação sempre estará delimitada ao periodo do MKT SHARE\n",
        "\n",
        "vol = prop.loc[beg:end].mul(mktcf_vibra['Vol_ConsFinal'].values, axis=0)"
      ]
    },
    {
      "cell_type": "markdown",
      "metadata": {
        "nteract": {
          "transient": {
            "deleting": false
          }
        }
      },
      "source": [
        "## Salvando Volume decomposto"
      ]
    },
    {
      "cell_type": "code",
      "execution_count": 13,
      "metadata": {
        "jupyter": {
          "outputs_hidden": false,
          "source_hidden": false
        },
        "nteract": {
          "transient": {
            "deleting": false
          }
        }
      },
      "outputs": [],
      "source": [
        "vol.to_parquet(dir_enriched + 'volumetria/vol02_MKTS_ConsFinal_Decomposto.parquet', \n",
        "                      storage_options = {'linked_service':linked_service_enriched})"
      ]
    },
    {
      "cell_type": "markdown",
      "metadata": {
        "nteract": {
          "transient": {
            "deleting": false
          }
        }
      },
      "source": [
        "## Diferença entre os volumes de venda Consumidor Final Vibra e ANP"
      ]
    },
    {
      "cell_type": "code",
      "execution_count": 14,
      "metadata": {
        "jupyter": {
          "outputs_hidden": false,
          "source_hidden": false
        },
        "nteract": {
          "transient": {
            "deleting": false
          }
        }
      },
      "outputs": [],
      "source": [
        "diff = cf['CONSUMIDOR FINAL'][beg:end].sub(mktcf_vibra['Vol_ConsFinal'].values, axis=0) # diferença mensal\n",
        "diff = pd.DataFrame(diff)\n",
        "diff_a = diff.resample('Y').sum()#.reset_index(drop=False) # Ano\n"
      ]
    },
    {
      "cell_type": "code",
      "execution_count": 15,
      "metadata": {
        "jupyter": {
          "outputs_hidden": false,
          "source_hidden": false
        },
        "nteract": {
          "transient": {
            "deleting": false
          }
        }
      },
      "outputs": [],
      "source": [
        "grafico_diff(diff, 'mensal').show()"
      ]
    },
    {
      "cell_type": "markdown",
      "metadata": {
        "nteract": {
          "transient": {
            "deleting": false
          }
        }
      },
      "source": [
        "Diferenças entre os volumes da Vibra e o registrado na ANP parece sofrer ajustes entre os meses de Dezembro e Janeiro"
      ]
    },
    {
      "cell_type": "code",
      "execution_count": 16,
      "metadata": {
        "jupyter": {
          "outputs_hidden": false,
          "source_hidden": false
        },
        "nteract": {
          "transient": {
            "deleting": false
          }
        }
      },
      "outputs": [],
      "source": [
        "grafico_diff(diff_a, 'anual').show()"
      ]
    },
    {
      "cell_type": "markdown",
      "metadata": {
        "nteract": {
          "transient": {
            "deleting": false
          }
        }
      },
      "source": [
        "Diferença entre o volume informado pela empresa e o disponibilizado pela ANP vem se estabilizando próximo de valores mínimos "
      ]
    },
    {
      "cell_type": "markdown",
      "metadata": {
        "nteract": {
          "transient": {
            "deleting": false
          }
        }
      },
      "source": [
        "# ACESSO À DOCUMENTAÇÃO"
      ]
    },
    {
      "cell_type": "code",
      "execution_count": 17,
      "metadata": {
        "jupyter": {
          "outputs_hidden": false,
          "source_hidden": false
        },
        "nteract": {
          "transient": {
            "deleting": false
          }
        }
      },
      "outputs": [],
      "source": [
        "help(ajustar_data)"
      ]
    },
    {
      "cell_type": "code",
      "execution_count": 18,
      "metadata": {
        "jupyter": {
          "outputs_hidden": false,
          "source_hidden": false
        },
        "nteract": {
          "transient": {
            "deleting": false
          }
        }
      },
      "outputs": [],
      "source": [
        "help(grafico_diff)"
      ]
    }
  ],
  "metadata": {
    "description": null,
    "kernelspec": {
      "display_name": "Synapse PySpark",
      "name": "synapse_pyspark"
    },
    "language_info": {
      "name": "python"
    },
    "save_output": true
  },
  "nbformat": 4,
  "nbformat_minor": 2
}
