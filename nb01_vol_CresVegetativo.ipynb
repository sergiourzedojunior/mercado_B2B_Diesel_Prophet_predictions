{
  "cells": [
    {
      "cell_type": "markdown",
      "metadata": {
        "nteract": {
          "transient": {
            "deleting": false
          }
        }
      },
      "source": [
        "# Previsões Crescimento Vegetativo Vibra"
      ]
    },
    {
      "cell_type": "markdown",
      "metadata": {},
      "source": [
        "# Setup Inicial\n"
      ]
    },
    {
      "cell_type": "markdown",
      "metadata": {
        "nteract": {
          "transient": {
            "deleting": false
          }
        }
      },
      "source": [
        "## Bibliotecas utilizadas"
      ]
    },
    {
      "cell_type": "code",
      "execution_count": 35,
      "metadata": {},
      "outputs": [],
      "source": [
        "import pandas as pd\n",
        "import numpy as np\n",
        "import json\n",
        "\n",
        "from datetime import datetime\n",
        "from dateutil.relativedelta import relativedelta\n",
        "\n",
        "import logging\n",
        "import warnings\n",
        "\n",
        "from prophet import Prophet\n",
        "from prophet.diagnostics import performance_metrics\n",
        "\n",
        "\n",
        "# Medir performance dos modelos\n",
        "from sklearn import metrics\n",
        "\n",
        "# Visualização\n",
        "import matplotlib.pyplot as plt\n",
        "import plotly\n",
        "from plotly.subplots import make_subplots\n",
        "import plotly.graph_objects as go\n",
        "from plotly.graph_objs import *"
      ]
    },
    {
      "cell_type": "markdown",
      "metadata": {
        "nteract": {
          "transient": {
            "deleting": false
          }
        }
      },
      "source": [
        "## Definições Gerais"
      ]
    },
    {
      "cell_type": "code",
      "execution_count": 36,
      "metadata": {
        "jupyter": {
          "outputs_hidden": false,
          "source_hidden": false
        },
        "nteract": {
          "transient": {
            "deleting": false
          }
        }
      },
      "outputs": [],
      "source": [
        "warnings.filterwarnings('ignore')"
      ]
    },
    {
      "cell_type": "code",
      "execution_count": 37,
      "metadata": {
        "jupyter": {
          "outputs_hidden": false,
          "source_hidden": false
        },
        "nteract": {
          "transient": {
            "deleting": false
          }
        }
      },
      "outputs": [],
      "source": [
        "# usado para remover as mensagens de output de processamento dos modelos prophet.\n",
        "cmdstanpy_logger = logging.getLogger(\"cmdstanpy\")\n",
        "cmdstanpy_logger.disabled = True"
      ]
    },
    {
      "cell_type": "code",
      "execution_count": 38,
      "metadata": {
        "jupyter": {
          "outputs_hidden": false,
          "source_hidden": false
        },
        "nteract": {
          "transient": {
            "deleting": false
          }
        }
      },
      "outputs": [],
      "source": [
        "# definção dos diretórios relativos\n",
        "\n",
        "# replace with your container name\n",
        "blob_container_name = 'general' \n",
        "\n",
        "# replace with your relative folder path\n",
        "blob_relative_path_raw = 'raw/mercado_potencial/'\n",
        "blob_relative_path_enriched = 'enriched/mercado_potencial/'\n",
        "\n",
        "\n",
        "# replace with your linked service name\n",
        "linked_service_raw = 'LS_ADLS_RAW_01'\n",
        "linked_service_enriched = 'LS_ADLS_ENRICHED_01'\n",
        "\n",
        "ls_raw = mssparkutils.credentials.getPropertiesAll(linked_service_raw)\n",
        "ls_enriched = mssparkutils.credentials.getPropertiesAll(linked_service_enriched)\n",
        "\n",
        "converter_dic_raw = json.loads(ls_raw)\n",
        "converter_dic_enriched = json.loads(ls_enriched)\n",
        "\n",
        "end_point_raw = (converter_dic_raw['Endpoint'].split(\"/\"))[2]\n",
        "end_point_enriched = (converter_dic_enriched['Endpoint'].split(\"/\"))[2]\n",
        "\n",
        "\n",
        "dir_raw = 'abfss://%s@%s/%s' % (blob_container_name, end_point_raw, blob_relative_path_raw)\n",
        "dir_enriched = 'abfss://%s@%s/%s' % (blob_container_name, end_point_enriched, blob_relative_path_enriched)\n"
      ]
    },
    {
      "cell_type": "markdown",
      "metadata": {},
      "source": [
        "## Funções Auxiliares"
      ]
    },
    {
      "cell_type": "code",
      "execution_count": 39,
      "metadata": {},
      "outputs": [],
      "source": [
        "def modelo_final (dados, periodos = 365, frequencia = 'd'):\n",
        "    \"\"\"Ajusta modelo prophet de serie temporal.\n",
        "\n",
        "        Define, ajusta e prevê modelo de serie temporal baseado na biblioteca prophet.\n",
        "        Modelo com a possibilidade de inclusão de variáveis regressoras. \n",
        "        \n",
        "    Parâmetros\n",
        "    ----------\n",
        "    dados: pd.DataFrame \n",
        "        Dataframe com variáveis exigidas para a criação do modelo prophet.\n",
        "        No dataframe deve conter, obrigatoriamente, coluna 'ds': datatime da série e \n",
        "        'y': variável alvo do modelo.\n",
        "        As variáveis regressoras, quando existire, devem estar presentes no mesmo dataframe.\n",
        "    periodos: int\n",
        "        Períodos, em meses, a serem previstos pelo modelo.\n",
        "        Por padrão, foi definido 12 meses a serem previstos.\n",
        "    freq: string\n",
        "        Frequência de criação dos periodos futuros a ser usado no predict.\n",
        "        ['d': diária; 'b': dias utieis, 'M': mensal (último dia); 'MS': mensal (1º dia)]\n",
        "        Referência: http://pandas.pydata.org/pandas-docs/stable/user_guide/timeseries.html#timeseries-offset-aliases\n",
        "\n",
        "    \n",
        "    Retorno\n",
        "    -------\n",
        "    previsao: pd.DataFrame\n",
        "        Dataframe com os resultados do predict model adcionada das variáveis de input do modelo.\n",
        "    modelo: prophet model\n",
        "        Modelo prophet ajustado (fitted) \n",
        "    \"\"\"\n",
        "\n",
        "    #regressores = dados.columns.to_list()[2:]       # os 2 primeiros são DataTime e o Y da serie temporal\n",
        "\n",
        "    lst_results = ['ds','yhat','yhat_lower', 'yhat_upper',\n",
        "                   'trend', 'trend_lower', 'trend_upper',\n",
        "                   'yearly', 'yearly_lower', 'yearly_upper']\n",
        "    \n",
        "    modelo = Prophet(seasonality_mode='multiplicative',\n",
        "                     yearly_seasonality=True,\n",
        "                     weekly_seasonality=True,\n",
        "                     daily_seasonality=False,\n",
        "                     changepoint_range=0.95, \n",
        "                     changepoint_prior_scale=0.1)\n",
        "\n",
        "    # for i in range(len(regressores)):               # passeia por cada lista agregativa\n",
        "    #     modelo.add_regressor(regressores[i], standardize=False)\n",
        "                \n",
        "    modelo.fit(dados)\n",
        "\n",
        "    futuro = modelo.make_future_dataframe(periods=periodos, freq=frequencia) #MS início do mês - M fim do mês\n",
        "    futuro = pd.merge(futuro, dados, on='ds', how='outer')\n",
        "    futuro = futuro.fillna(method='ffill')\n",
        "    \n",
        "    previsao = modelo.predict(futuro)\n",
        "    previsao = pd.merge(previsao[lst_results],dados, on='ds',how='outer')\n",
        "\n",
        "    return(previsao, modelo)"
      ]
    },
    {
      "cell_type": "code",
      "execution_count": 40,
      "metadata": {
        "jupyter": {
          "outputs_hidden": false,
          "source_hidden": false
        },
        "nteract": {
          "transient": {
            "deleting": false
          }
        }
      },
      "outputs": [],
      "source": [
        "def dividir_train_test(data, num_meses = 12):\n",
        "    '''\n",
        "    Função que divide os dados a serem usados pelos modelos em treino e teste conforme o\n",
        "    padrão pd.DataFrame Prothet contendo as colunas ['ds','y']\n",
        "\n",
        "    Parâmetros\n",
        "    ----------\n",
        "        data: pd.Dataframe\n",
        "            dataframe em formato time series do Prothet a ser dividido\n",
        "        num_meses: int\n",
        "            número de meses usados para teste (default 12 meses)\n",
        "    Retorno\n",
        "    -------:\n",
        "        train, test: pd.Dataframe\n",
        "            Dataframes de treino e teste\n",
        "    '''\n",
        "    train_data_fim = data['ds'].max() - relativedelta(months=num_meses)\n",
        "    # divisão dos datasets de Treino: train e Teste:test\n",
        "    train = data[data['ds'] <= train_data_fim].reset_index(drop=True)\n",
        "    test = data[data['ds'] > train_data_fim].reset_index(drop=True)\n",
        "\n",
        "    return (train, test)"
      ]
    },
    {
      "cell_type": "code",
      "execution_count": 41,
      "metadata": {},
      "outputs": [],
      "source": [
        "def grafico_volumetria (previsao , mape, titulo = 'Título do Gráfico', subtitulo = 'subtítulo do gráfico'):\n",
        "    \"\"\"Gera gráfico interativo em plotly.\n",
        "\n",
        "        Gera gráfico do valor real e do valor predito, interativo criado com auxilio da biblioteca plotly. \n",
        "        \n",
        "    Parâmetros\n",
        "    ----------\n",
        "    previsao: pd.DataFrame \n",
        "        Dataframe com variáveis `ds`: datatime, `y`: float ou int valores reais da série e \n",
        "        `yhat`: float ou int valores preditos pelo modelo\n",
        "    titulo: string\n",
        "        Título a ser plotado no gráfico.\n",
        "    y_label: string\n",
        "        Título do eixo y do gráfico \n",
        "\n",
        "    Retorno\n",
        "    -------\n",
        "    fig: plotly object\n",
        "        Gáfico a ser apresentado ou salvo \n",
        "    \"\"\"\n",
        "\n",
        "    p1 = previsao.resample('MS', on='ds').sum().reset_index(drop=False) # mês\n",
        "    p2 = previsao.resample('W', on='ds').sum().reset_index(drop=False) # semana\n",
        "    \n",
        "    p1.loc[p1['y']==0,'y'] = np.nan\n",
        "    p2.loc[p2['y']==0,'y'] = np.nan\n",
        "\n",
        "\n",
        "    \n",
        "    fig = make_subplots(rows=3, cols=1,\n",
        "                        y_title='Volume (m³)',\n",
        "                        subplot_titles=('Mensal', 'Semanal','Diário'),\n",
        "                        shared_yaxes=False,\n",
        "                        vertical_spacing=0.05 )\n",
        "\n",
        "        # grafico 01\n",
        "    fig.add_trace(go.Scatter(\n",
        "                x = p1['ds'],\n",
        "                y = p1['yhat'],\n",
        "                line = {'color': 'rgb(240,128,128)'},\n",
        "                name = 'Predito',\n",
        "                showlegend=True),\n",
        "        row=1, col=1)\n",
        "\n",
        "    fig.add_trace(go.Scatter(\n",
        "                x = p1['ds'],\n",
        "                y = p1['y'],\n",
        "                line = {'color': 'rgb(100,149,237)'},\n",
        "                name = 'Real',\n",
        "                showlegend=True),\n",
        "        row=1, col=1)\n",
        "\n",
        "        # grafico 02\n",
        "    fig.add_trace(go.Scatter(\n",
        "                x = p2['ds'],\n",
        "                y = p2['yhat'],\n",
        "                line = {'color': 'rgb(240,128,128)'},\n",
        "                name = 'Predito',\n",
        "                showlegend=False),\n",
        "        row=2, col=1)\n",
        "\n",
        "    fig.add_trace(go.Scatter(\n",
        "                x = p2['ds'],\n",
        "                y = p2['y'],\n",
        "                line = {'color': 'rgb(100,149,237)'},\n",
        "                name = 'Real',\n",
        "                showlegend=False),\n",
        "        row=2, col=1)\n",
        "\n",
        "        # grafico 03\n",
        "    fig.add_trace(go.Scatter(\n",
        "                x = previsao['ds'],\n",
        "                y = previsao['yhat'],\n",
        "                line = {'color': 'rgb(240,128,128)'},\n",
        "                name = 'Predito',\n",
        "                showlegend=False),\n",
        "        row=3, col=1)\n",
        "\n",
        "    fig.add_trace(go.Scatter(\n",
        "                x = previsao['ds'],\n",
        "                y = previsao['y'],\n",
        "                line = {'color': 'rgb(100,149,237)'},\n",
        "                name = 'Real',\n",
        "                showlegend=False),\n",
        "        row=3, col=1)\n",
        "\n",
        "\n",
        "    fig.add_annotation(\n",
        "                showarrow=False,\n",
        "                text='Gerado em ' + datetime.now().strftime(\"%d %b %Y às %H:%M:%S\"),\n",
        "                font=dict(size=12),\n",
        "                xref='paper',\n",
        "                x=1.1,\n",
        "                yref='paper',\n",
        "                y=-0.12)\n",
        "    \n",
        "    fig.add_annotation(\n",
        "                showarrow=False,\n",
        "                text='MAPE (acumulado 12 meses): {:.2f}%'.format(mape),\n",
        "                font=dict(size=14),\n",
        "                xref='paper',\n",
        "                x=0.0,\n",
        "                yref='paper',\n",
        "                y=-0.12)\n",
        "\n",
        "    fig.update_xaxes(matches='x', rangeslider_visible=True, rangeslider_thickness = 0.03)\n",
        "    fig.update_xaxes(rangeslider= {'visible':False}, row=1, col=1)\n",
        "    fig.update_xaxes(rangeslider= {'visible':False}, row=2, col=1)\n",
        "\n",
        "\n",
        "    fig.update_layout(\n",
        "                title = titulo + '<br><sup>'+ subtitulo + '</sup>',\n",
        "                #xaxis_title = \"Período\",\n",
        "                #yaxis_title = \"y_label\",\n",
        "                legend_title = \"Legenda\",\n",
        "                font=dict(\n",
        "                    family = \"Courier New, monospace\",\n",
        "                    size = 14,\n",
        "                    color = \"royalblue\"),\n",
        "                height=1200\n",
        "    )\n",
        "\n",
        "    return(fig)\n"
      ]
    },
    {
      "cell_type": "markdown",
      "metadata": {},
      "source": [
        "# Análise Exploratória\n"
      ]
    },
    {
      "cell_type": "markdown",
      "metadata": {
        "nteract": {
          "transient": {
            "deleting": false
          }
        }
      },
      "source": [
        "## Coletando dados históricos de vendas da VIBRA"
      ]
    },
    {
      "cell_type": "code",
      "execution_count": 42,
      "metadata": {},
      "outputs": [],
      "source": [
        "cols = ['VEDI_VOL', 'VEDI_DAT_VEN', 'VEDI_COD_CLI', 'CLIE_NUM_CPF_CNPJ', 'CLIE_NOM_CLIENTE', 'AECO']\n",
        "col_names = ['vol_venda','data_venda', 'cod_cliente', 'cpf_cnpj', 'nm_cliente', 'ativ_economica']"
      ]
    },
    {
      "cell_type": "code",
      "execution_count": 43,
      "metadata": {},
      "outputs": [],
      "source": [
        "#arquivo = dir_raw + 'volumetria/hist_diesel.csv'\n",
        "arquivo = dir_enriched + 'histdiesel/hist_diesel.csv'\n",
        "hist_diesel = pd.read_csv(arquivo,\n",
        "                          usecols = cols,\n",
        "                          sep=',',\n",
        "                          decimal='.',\n",
        "                          encoding='utf-8',\n",
        "                          storage_options = {'linked_service' : linked_service_enriched})\n",
        "\n",
        "# hist_diesel = pd.read_parquet(dir_enriched + 'histdiesel/hist_diesel.parquet',\n",
        "#                           storage_options = {'linked_service' : linked_service_enriched})\n"
      ]
    },
    {
      "cell_type": "markdown",
      "metadata": {},
      "source": [
        "## Ajustes Histórico Vendas"
      ]
    },
    {
      "cell_type": "code",
      "execution_count": 44,
      "metadata": {},
      "outputs": [],
      "source": [
        "hist_diesel.columns = col_names\n",
        "\n",
        "# replace = { 'PASSAG'        :'PASSAGEIRO',\n",
        "#             'MINERAÃÃO'   :'MINERACAO',\n",
        "#             'INDÃSTRIAS'   :'INDUSTRIA',\n",
        "#             'CONSTRUÃÃO'  : 'CONSTRUCAO',\n",
        "#             'FERROVIÃR'    : 'FERROVIARIO',\n",
        "#             'MARÃTIMO'     : 'MARITIMO',\n",
        "#             'QUÃMICA'      : 'QUIMICA',\n",
        "#             'TÃRMICA'      : 'TERMICA',\n",
        "#             'ÃLEO'         : 'OLEO',\n",
        "#             'GÃS'          : 'GAS',\n",
        "#             'AVIAÃÃO'     : 'AVIACAO'\n",
        "#             }\n",
        "\n",
        "# hist_diesel.replace({'ativ_economica': replace}, regex=True, inplace=True)\n",
        "hist_diesel['data_venda'] = pd.to_datetime(hist_diesel['data_venda'], format='%Y-%m-%d')\n",
        "hist_diesel[['nm_cliente','ativ_economica']]   = hist_diesel[['nm_cliente','ativ_economica']].astype('string')"
      ]
    },
    {
      "cell_type": "code",
      "execution_count": 45,
      "metadata": {},
      "outputs": [],
      "source": [
        "# agrupa volume por atividade economica\n",
        "diesel = pd.DataFrame(hist_diesel.groupby(['ativ_economica', 'data_venda'])['vol_venda'].sum().reset_index())"
      ]
    },
    {
      "cell_type": "markdown",
      "metadata": {},
      "source": [
        "## Verifica se a frequencia de vendas está em dias úteis\n"
      ]
    },
    {
      "cell_type": "code",
      "execution_count": 46,
      "metadata": {},
      "outputs": [],
      "source": [
        "diesel['weekday'] = diesel['data_venda'].dt.day_name()\n",
        "diesel['weekday'].value_counts()\n",
        "# existem vendas em finais de semana..."
      ]
    },
    {
      "cell_type": "markdown",
      "metadata": {},
      "source": [
        "## Verifica se existe venda negativa"
      ]
    },
    {
      "cell_type": "code",
      "execution_count": 47,
      "metadata": {},
      "outputs": [],
      "source": [
        "diesel[diesel['vol_venda']<0]"
      ]
    },
    {
      "cell_type": "code",
      "execution_count": 48,
      "metadata": {},
      "outputs": [],
      "source": [
        "# ajustando as vendas negativas\n",
        "diesel.loc[diesel['vol_venda']<=0, 'vol_venda'] = 0"
      ]
    },
    {
      "cell_type": "markdown",
      "metadata": {},
      "source": [
        "## Verificando a presença de vendas zero por dias da semana\n",
        "\n",
        "testar o desempenho sem os valores zerados - remover os dias ou imputar nan"
      ]
    },
    {
      "cell_type": "code",
      "execution_count": 49,
      "metadata": {},
      "outputs": [],
      "source": [
        "diesel[diesel['vol_venda']==0]['weekday'].value_counts()"
      ]
    },
    {
      "cell_type": "markdown",
      "metadata": {
        "nteract": {
          "transient": {
            "deleting": false
          }
        }
      },
      "source": [
        "# Proporções entre as Atividades Econômicas"
      ]
    },
    {
      "cell_type": "markdown",
      "metadata": {
        "nteract": {
          "transient": {
            "deleting": false
          }
        }
      },
      "source": [
        "## Agregar ConsFinal somando todos os volumes <br>revovendo TRR"
      ]
    },
    {
      "cell_type": "code",
      "execution_count": 50,
      "metadata": {
        "jupyter": {
          "outputs_hidden": false,
          "source_hidden": false
        },
        "nteract": {
          "transient": {
            "deleting": false
          }
        }
      },
      "outputs": [],
      "source": [
        "# Incluindo Consumidor final = Todas as Atividades - TRR\n",
        "filtro = diesel['ativ_economica']=='TRR'\n",
        "\n",
        "cons = pd.DataFrame(diesel[~filtro].groupby(['data_venda']).sum().reset_index())\n",
        "cons['ativ_economica'] = 'CONSUMIDOR FINAL'\n",
        "\n",
        "order = [2,0,1]\n",
        "cons = cons[cons.columns[order]]\n",
        "\n",
        "diesel = pd.concat([diesel.iloc[:,0:3], cons], axis=0, ignore_index=True)\n",
        "\n",
        "del(filtro, cons)"
      ]
    },
    {
      "cell_type": "markdown",
      "metadata": {
        "nteract": {
          "transient": {
            "deleting": false
          }
        }
      },
      "source": [
        "## Mudar formato da tabela para widetabe"
      ]
    },
    {
      "cell_type": "code",
      "execution_count": 51,
      "metadata": {
        "jupyter": {
          "outputs_hidden": false,
          "source_hidden": false
        },
        "nteract": {
          "transient": {
            "deleting": false
          }
        }
      },
      "outputs": [],
      "source": [
        "#Widetable\n",
        "diesel2 = diesel.pivot(index='data_venda', columns='ativ_economica')\n",
        "diesel2.columns = diesel2.columns.get_level_values(1)\n",
        "diesel2.columns.name = None"
      ]
    },
    {
      "cell_type": "markdown",
      "metadata": {
        "nteract": {
          "transient": {
            "deleting": false
          }
        }
      },
      "source": [
        "## Agregando vendas diárias por mês"
      ]
    },
    {
      "cell_type": "code",
      "execution_count": 52,
      "metadata": {
        "jupyter": {
          "outputs_hidden": false,
          "source_hidden": false
        },
        "nteract": {
          "transient": {
            "deleting": false
          }
        }
      },
      "outputs": [],
      "source": [
        "#agregação mensal\n",
        "diesel2m = diesel2.resample('MS').sum()#.reset_index(drop=False) # mês\n"
      ]
    },
    {
      "cell_type": "markdown",
      "metadata": {
        "nteract": {
          "transient": {
            "deleting": false
          }
        }
      },
      "source": [
        "## Salvando os volumes agrupados por mês"
      ]
    },
    {
      "cell_type": "code",
      "execution_count": 53,
      "metadata": {
        "jupyter": {
          "outputs_hidden": false,
          "source_hidden": false
        },
        "nteract": {
          "transient": {
            "deleting": false
          }
        }
      },
      "outputs": [],
      "source": [
        "diesel2m.to_parquet(dir_enriched + 'volumetria/vol01_vendas_vibra_mes.parquet', \n",
        "                      storage_options = {'linked_service':linked_service_enriched})"
      ]
    },
    {
      "cell_type": "markdown",
      "metadata": {
        "nteract": {
          "transient": {
            "deleting": false
          }
        }
      },
      "source": [
        "## Proporção as Atividades Econômicas em Consumidor Final "
      ]
    },
    {
      "cell_type": "code",
      "execution_count": 54,
      "metadata": {
        "jupyter": {
          "outputs_hidden": false,
          "source_hidden": false
        },
        "nteract": {
          "transient": {
            "deleting": false
          }
        }
      },
      "outputs": [],
      "source": [
        "# prroporção consumidor final\n",
        "filtro = ~diesel2m.columns.str.contains('TRR') # remover TRR da conta\n",
        "filtro = diesel2m.columns[filtro]\n",
        "cf_prop = diesel2m[filtro].div(diesel2m['CONSUMIDOR FINAL'].values,axis=0)"
      ]
    },
    {
      "cell_type": "markdown",
      "metadata": {
        "nteract": {
          "transient": {
            "deleting": false
          }
        }
      },
      "source": [
        "## Salvando as proporções do Consumidor Final"
      ]
    },
    {
      "cell_type": "code",
      "execution_count": 55,
      "metadata": {
        "jupyter": {
          "outputs_hidden": false,
          "source_hidden": false
        },
        "nteract": {
          "transient": {
            "deleting": false
          }
        }
      },
      "outputs": [],
      "source": [
        "cf_prop.to_parquet(dir_enriched + 'volumetria/vol01_prop_consfinal_vegetativo.parquet', \n",
        "                      storage_options = {'linked_service':linked_service_enriched})"
      ]
    },
    {
      "cell_type": "markdown",
      "metadata": {
        "nteract": {
          "transient": {
            "deleting": false
          }
        }
      },
      "source": [
        "## Proporção de TRR e Consumidor Final"
      ]
    },
    {
      "cell_type": "code",
      "execution_count": 56,
      "metadata": {
        "jupyter": {
          "outputs_hidden": false,
          "source_hidden": false
        },
        "nteract": {
          "transient": {
            "deleting": false
          }
        }
      },
      "outputs": [],
      "source": [
        "#proporção trr consumidor final\n",
        "prop = diesel2m[['TRR','CONSUMIDOR FINAL']]\n",
        "prop['total'] = prop['TRR'] + prop['CONSUMIDOR FINAL']\n",
        "prop['TRRp'] = prop['TRR'].div(prop['total'].values,axis=0)\n",
        "prop['CFp'] = prop['CONSUMIDOR FINAL'].div(prop['total'].values,axis=0)\n"
      ]
    },
    {
      "cell_type": "code",
      "execution_count": 57,
      "metadata": {
        "jupyter": {
          "outputs_hidden": false,
          "source_hidden": false
        },
        "nteract": {
          "transient": {
            "deleting": false
          }
        }
      },
      "outputs": [],
      "source": [
        "prop.to_parquet(dir_enriched + 'volumetria/vol01_prop_trr-consfinal_vegetativo.parquet', \n",
        "                      storage_options = {'linked_service':linked_service_enriched})"
      ]
    },
    {
      "cell_type": "markdown",
      "metadata": {
        "nteract": {
          "transient": {
            "deleting": false
          }
        }
      },
      "source": [
        "# Modelos de Previsão de Vendas de Diesel VIBRA "
      ]
    },
    {
      "cell_type": "markdown",
      "metadata": {
        "nteract": {
          "transient": {
            "deleting": false
          }
        }
      },
      "source": [
        "## Análise Exploratória dos Modelos"
      ]
    },
    {
      "cell_type": "markdown",
      "metadata": {
        "nteract": {
          "transient": {
            "deleting": false
          }
        }
      },
      "source": [
        "\n",
        "### Coletando lista de Atividades Econômicas"
      ]
    },
    {
      "cell_type": "code",
      "execution_count": 58,
      "metadata": {},
      "outputs": [],
      "source": [
        "# lista atividades economicas\n",
        "lista = np.unique(diesel['ativ_economica'].values)\n",
        "lista"
      ]
    },
    {
      "cell_type": "markdown",
      "metadata": {},
      "source": [
        "### Performance dos Modelos pra cada Atividade Econômica"
      ]
    },
    {
      "cell_type": "code",
      "execution_count": 59,
      "metadata": {
        "collapsed": true
      },
      "outputs": [],
      "source": [
        "cols = ['Atividade','MAPE']\n",
        "mape = pd.DataFrame(columns=cols)\n",
        "#lista = lista[3:4]\n",
        "for i, j in enumerate(lista):\n",
        "    filtro = diesel['ativ_economica']==lista[i]\n",
        "    diesel_f = diesel[filtro].set_index('data_venda')\n",
        "    diesel_f = diesel_f[diesel_f.columns[[1,0]]]\n",
        "    diesel_f.reset_index(drop=False, inplace=True)\n",
        "    diesel_f.rename({'data_venda':'ds','vol_venda':'y'}, axis=1, inplace=True)\n",
        "\n",
        "    treino, teste = dividir_train_test(diesel_f, num_meses=12)\n",
        "\n",
        "    previsao, modelo = modelo_final(dados=treino, periodos=365, frequencia='d') # modelo ajustado para prever informação diária\n",
        "\n",
        "    previsao.loc[previsao['yhat']<=0, 'yhat'] = 0 # ajuste de previsão - sem previsão negativa\n",
        "\n",
        "    a = teste.iloc[:,0:2]\n",
        "    b = previsao[previsao['y'].isnull()].iloc[:,0:2].reset_index(drop=True)\n",
        "    b.columns = ['ds','yhat']\n",
        "    c = pd.merge(a,b, how='inner') # diário\n",
        "    c['dif'] = c['yhat'] - c['y']\n",
        "\n",
        "    mape_ano = abs(c['dif'].sum()/c['y'].sum())*100\n",
        "\n",
        "    mape.loc[-1] = [lista[i],mape_ano]\n",
        "    mape.reset_index(drop=True, inplace=True)\n",
        "\n",
        "    a1 = pd.concat([treino.iloc[:,0:2], teste.iloc[:,0:2]],ignore_index=True) \n",
        "    b1 = previsao.reset_index(drop=True)\n",
        "    p1 = pd.merge(a1,b1, how='outer')\n",
        "\n",
        "    p2 = previsao.resample('MS', on='ds').sum().reset_index(drop=False) # mês\n",
        "    p3 = previsao.resample('W', on='ds').sum().reset_index(drop=False) # semana\n",
        "\n",
        "    p2.loc[p2['y']==0,'y'] = np.nan\n",
        "    p3.loc[p3['y']==0,'y'] = np.nan\n",
        " \n",
        "    ## PARA VISUALIZAR OS GRÁFICOS REMOVER COMENTATRIOS ABAIXO\n",
        "    # graf = grafico_volumetria(  p1, \n",
        "    #                            mape_ano,\n",
        "    #                            'Previsão Volumetria - ' + lista[i],\n",
        "    #                            'treino: 01.01.2016 - 30.11.2021')\n",
        "    \n",
        "    # graf = plotly.offline.plot(graf, output_type='div')\n",
        "    # displayHTML(graf)\n"
      ]
    },
    {
      "cell_type": "markdown",
      "metadata": {
        "nteract": {
          "transient": {
            "deleting": false
          }
        }
      },
      "source": [
        "### Resumo MAPE das atividades"
      ]
    },
    {
      "cell_type": "code",
      "execution_count": 60,
      "metadata": {
        "jupyter": {
          "outputs_hidden": false,
          "source_hidden": false
        },
        "nteract": {
          "transient": {
            "deleting": false
          }
        }
      },
      "outputs": [],
      "source": [
        "mape_ = mape.copy()\n",
        "mape_['MAPE'] = round(mape_['MAPE'],2)\n",
        "mape_ = mape_.sort_values('MAPE').reset_index(drop=True)\n",
        "mape_"
      ]
    },
    {
      "cell_type": "markdown",
      "metadata": {},
      "source": [
        "### Salvando dataframe MAPE em formato html\n",
        "* não foi possivel no synapse"
      ]
    },
    {
      "cell_type": "code",
      "execution_count": 61,
      "metadata": {},
      "outputs": [],
      "source": [
        "# mape_ = mape.copy()\n",
        "# mape_['MAPE'] = round(mape_['MAPE'],2)\n",
        "# mape_ = mape_.sort_values('MAPE').reset_index(drop=True)\n",
        "# mape_['Atividade'] = mape_['Atividade'].apply(lambda x: \"<a href='volumetria_{}.html'>{}</a>\".format(x,x))\n",
        "\n",
        "# mape_.columns = ['Atividade Econômica', 'MAPE (%)']\n",
        "\n",
        "\n",
        "# pd.set_option('colheader_justify', 'center')   \n",
        "\n",
        "# html_string = '''\n",
        "# <html>\n",
        "#   <head><title>Volumetria VIBRA</title></head>\n",
        "#   <link rel=\"stylesheet\" type=\"text/css\" href=\"df_style.css\"/>\n",
        "#   <body>\n",
        "#     <div id=\"cabecalho\">\n",
        "\n",
        "#     <div>\n",
        "#     <div id=\"conteudo\">\n",
        "#       <h1> Performance dos modelos de previsão para volumetria</h1>\n",
        "#       <p> Erro Percentual Absoluto (MAPE) dos modelos de previsão específicos para cada atividade econômica da Vibra Energia.</p>\n",
        "#       <p> Mape calculado com base no acumulado dos últimos 12 meses da série.</p>\n",
        "#       <br> </br>\n",
        "#       {table}\n",
        "#     <div>\n",
        "#     <div id=\"rodape\">\n",
        "      \n",
        "#     <div>\n",
        "#   </body>\n",
        "# </html>.\n",
        "# '''\n",
        "\n",
        "# # saida do dataframe em formato html \n",
        "# with open('outputs/volumetria/00_mape.html', 'w') as f:\n",
        "#     f.write(html_string.format(table=mape_.to_html(classes='mystyle',\n",
        "#                                                   render_links=True,\n",
        "#                                                   escape=False)))\n"
      ]
    },
    {
      "cell_type": "markdown",
      "metadata": {
        "nteract": {
          "transient": {
            "deleting": false
          }
        }
      },
      "source": [
        "## Previsao dos modelos por atividade econômica\n",
        "\n",
        "Salvando em enriched as previões de vendas vibra 12 meses a frente"
      ]
    },
    {
      "cell_type": "code",
      "execution_count": 62,
      "metadata": {
        "jupyter": {
          "outputs_hidden": false,
          "source_hidden": false
        },
        "nteract": {
          "transient": {
            "deleting": false
          }
        }
      },
      "outputs": [],
      "source": [
        "prev = pd.DataFrame()\n",
        "\n",
        "for i, j in enumerate(lista):\n",
        "    \n",
        "    filtro = diesel['ativ_economica']==lista[i]\n",
        "    diesel_f = diesel[filtro].set_index('data_venda')\n",
        "    diesel_f = diesel_f[diesel_f.columns[[1,0]]]\n",
        "    diesel_f.reset_index(drop=False, inplace=True)\n",
        "    diesel_f.rename({'data_venda':'ds','vol_venda':'y'}, axis=1, inplace=True)\n",
        "   \n",
        "\n",
        "    previsao, modelo = modelo_final(dados=diesel_f, periodos=365, frequencia='d') # modelo ajustado para prever informação diária\n",
        "\n",
        "    previsao.loc[previsao['yhat']<=0, 'yhat'] = 0 # ajuste de previsão - sem previsão negativa\n",
        "\n",
        "    b1 = previsao.reset_index(drop=True)\n",
        "    p1 = pd.merge(diesel_f,b1, how='outer')\n",
        "\n",
        "    p2 = p1.resample('MS', on='ds').sum().reset_index(drop=False) # mês\n",
        "    p2.loc[p2['y']==0,'y'] = np.nan\n",
        "    p2['Atv_Economica'] = lista[i]\n",
        "\n",
        "    prev = pd.concat([prev,p2], ignore_index=True)\n",
        "\n",
        "prev.to_parquet(dir_enriched + 'volumetria/vol01_prev_vegetativo.parquet', \n",
        "                      storage_options = {'linked_service':linked_service_enriched})"
      ]
    },
    {
      "cell_type": "markdown",
      "metadata": {
        "nteract": {
          "transient": {
            "deleting": false
          }
        }
      },
      "source": [
        "# Acesso à Documentação"
      ]
    },
    {
      "cell_type": "code",
      "execution_count": 63,
      "metadata": {
        "jupyter": {
          "outputs_hidden": false,
          "source_hidden": false
        },
        "nteract": {
          "transient": {
            "deleting": false
          }
        }
      },
      "outputs": [],
      "source": [
        "help(modelo_final)"
      ]
    },
    {
      "cell_type": "code",
      "execution_count": 64,
      "metadata": {
        "jupyter": {
          "outputs_hidden": false,
          "source_hidden": false
        },
        "nteract": {
          "transient": {
            "deleting": false
          }
        }
      },
      "outputs": [],
      "source": [
        "help(grafico_volumetria)"
      ]
    }
  ],
  "metadata": {
    "description": "Volumetria das vendas de diesel da Vibra.\n\"Crescimento vegetativo\"",
    "kernelspec": {
      "display_name": "Synapse PySpark",
      "name": "synapse_pyspark"
    },
    "language_info": {
      "name": "python"
    },
    "save_output": true,
    "synapse_widget": {
      "state": {},
      "version": "0.1"
    }
  },
  "nbformat": 4,
  "nbformat_minor": 2
}
