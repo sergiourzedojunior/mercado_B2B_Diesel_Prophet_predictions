{
  "cells": [
    {
      "cell_type": "markdown",
      "metadata": {
        "nteract": {
          "transient": {
            "deleting": false
          }
        }
      },
      "source": [
        "# Setup Inicial"
      ]
    },
    {
      "cell_type": "markdown",
      "metadata": {
        "nteract": {
          "transient": {
            "deleting": false
          }
        }
      },
      "source": [
        "## Bibliotecas utilizadas"
      ]
    },
    {
      "cell_type": "code",
      "execution_count": 17,
      "metadata": {
        "jupyter": {
          "outputs_hidden": false,
          "source_hidden": false
        },
        "nteract": {
          "transient": {
            "deleting": false
          }
        }
      },
      "outputs": [],
      "source": [
        "import pandas as pd\n",
        "from pyspark.sql import SparkSession\n",
        "import json"
      ]
    },
    {
      "cell_type": "markdown",
      "metadata": {
        "nteract": {
          "transient": {
            "deleting": false
          }
        }
      },
      "source": [
        "## Definições gerais"
      ]
    },
    {
      "cell_type": "code",
      "execution_count": 18,
      "metadata": {
        "jupyter": {
          "outputs_hidden": false,
          "source_hidden": false
        },
        "nteract": {
          "transient": {
            "deleting": false
          }
        }
      },
      "outputs": [],
      "source": [
        "blob_container_name = 'general' # replace with your container name\n",
        "blob_relative_path_raw = 'raw/mercado_potencial/bacen/' # replace with your relative folder path\n",
        "blob_relative_path_enriched = 'enriched/mercado_potencial/bacen/' # replace with your relative folder path\n",
        "linked_service_raw = 'LS_ADLS_RAW_01' # replace with your linked service name\n",
        "linked_service_enriched = 'LS_ADLS_ENRICHED_01' # replace with your linked service name\n",
        "\n",
        "\n",
        "ls_raw = mssparkutils.credentials.getPropertiesAll(linked_service_raw)\n",
        "ls_enriched = mssparkutils.credentials.getPropertiesAll(linked_service_enriched)\n",
        "\n",
        "converter_dic_raw = json.loads(ls_raw)\n",
        "converter_dic_enriched = json.loads(ls_enriched)\n",
        "\n",
        "#coletando o endpoint\n",
        "end_point_raw = (converter_dic_raw['Endpoint'].split(\"/\"))[2]\n",
        "end_point_enriched = (converter_dic_enriched['Endpoint'].split(\"/\"))[2]\n",
        "\n",
        "#Utilizado na leitura via metodo mssparkutils\n",
        "abfss_path_raw = 'abfss://%s@%s/%s' % (blob_container_name, end_point_raw, blob_relative_path_raw)\n",
        "abfss_path_enriched = 'abfss://%s@%s/%s' % (blob_container_name, end_point_enriched, blob_relative_path_enriched)\n",
        "\n",
        "#Utilizados na leitura e gravação dos arquivos via metodo (read_csv ou to_parquet)\n",
        "#storage_options = {'linked_service':ls_enriched}\n",
        "#dir_raw  = 'abfss://general/raw/mercado_potencial/bacen/'\n",
        "#dir_enriched = 'abfss://general/enriched/mercado_potencial/bacen/'\n"
      ]
    },
    {
      "cell_type": "markdown",
      "metadata": {
        "nteract": {
          "transient": {
            "deleting": false
          }
        }
      },
      "source": [
        "## Funções de utilizadas"
      ]
    },
    {
      "cell_type": "code",
      "execution_count": 19,
      "metadata": {
        "jupyter": {
          "outputs_hidden": false,
          "source_hidden": false
        },
        "nteract": {
          "transient": {
            "deleting": false
          }
        }
      },
      "outputs": [],
      "source": [
        "def preparaBacen(nm_serie, file):\n",
        "    \"\"\" Prepara dados coletados da API do Banco Central.\n",
        "\n",
        "        Ajusta o .json captrado direntamente da API do Banco Central trazendo \n",
        "        informações de Empregos Formais, Indice ABCR, Selix, Taxa de Câmbio . \n",
        "        \n",
        "    Parâmetros\n",
        "    ----------\n",
        "    nm_serie: str \n",
        "        string com o nome da serie a ser renomeada.\n",
        "    file: str\n",
        "        string com o endereço completo do arquivo no Data Lake\n",
        "    \n",
        "    Retorno\n",
        "    -------\n",
        "    df : pd.DataFrame\n",
        "        Dataframe contendo em cada coluna a série de dados contida em cada arquivo (`files`)\n",
        "        e em formato de serie tempora, com datatime setado como index.\n",
        "    \n",
        "    Notes\n",
        "    -----\n",
        "    Séries BACEN: https://www3.bcb.gov.br/sgspub/localizarseries/localizarSeries.do?method=prepararTelaLocalizarSeries\n",
        "\n",
        "    Para baixar uma série via API, procure o Cedigo da série e substitua em `COD` https://api.bcb.gov.br/dados/serie/bcdata.sgs.COD/dados?formato=FORMATO\n",
        "    assum como definindo o `FORMATO` como csv ou json\n",
        "\n",
        "    \"\"\"\n",
        "    df = pd.read_json(file , storage_options = {'linked_service' : linked_service_raw})\n",
        "    df['data'] = pd.to_datetime(df['data'], dayfirst = True)\n",
        "    df.rename(columns={'valor':nm_serie}, inplace=True)\n",
        "    df = df.set_index('data', drop=True)\n",
        "    return(df)"
      ]
    },
    {
      "cell_type": "markdown",
      "metadata": {
        "nteract": {
          "transient": {
            "deleting": false
          }
        }
      },
      "source": [
        "# Execução"
      ]
    },
    {
      "cell_type": "markdown",
      "metadata": {
        "nteract": {
          "transient": {
            "deleting": false
          }
        }
      },
      "source": [
        "## Leitura e ajuste dos Dados da camada raw"
      ]
    },
    {
      "cell_type": "code",
      "execution_count": 20,
      "metadata": {
        "jupyter": {
          "outputs_hidden": false,
          "source_hidden": false
        },
        "nteract": {
          "transient": {
            "deleting": false
          }
        }
      },
      "outputs": [],
      "source": [
        "#lista todos os arquivos no diretório\n",
        "files = [i.path for i in mssparkutils.fs.ls(abfss_path_raw)]\n",
        "\n",
        "# ler e trata dos dados do BACEN\n",
        "nomes = ['ME_Emprego','IndiceABCR','BC_Selic','BC_Cambio']\n",
        "\n",
        "pd_mesBACEN = pd.DataFrame()\n",
        "for i in [0,1,3,2]:#range(len(nomes)):\n",
        "    pd_mesBACEN = pd.concat([pd_mesBACEN, preparaBacen(nomes[i], files[i])], axis=1)"
      ]
    },
    {
      "cell_type": "markdown",
      "metadata": {
        "nteract": {
          "transient": {
            "deleting": false
          }
        }
      },
      "source": [
        "## Definição do período inicial das séries"
      ]
    },
    {
      "cell_type": "code",
      "execution_count": 21,
      "metadata": {
        "jupyter": {
          "outputs_hidden": false,
          "source_hidden": false
        },
        "nteract": {
          "transient": {
            "deleting": false
          }
        }
      },
      "outputs": [],
      "source": [
        "# definindo o periodo inicial da série\n",
        "pd_mesBACEN = pd_mesBACEN['2012':]"
      ]
    },
    {
      "cell_type": "markdown",
      "metadata": {
        "nteract": {
          "transient": {
            "deleting": false
          }
        }
      },
      "source": [
        "## Salvando dados mensais BACEN na camada eriched"
      ]
    },
    {
      "cell_type": "code",
      "execution_count": 22,
      "metadata": {
        "jupyter": {
          "outputs_hidden": false,
          "source_hidden": false
        },
        "nteract": {
          "transient": {
            "deleting": false
          }
        }
      },
      "outputs": [],
      "source": [
        "# SALVA TABELA EM FORMATO .parquet\n",
        "pd_mesBACEN.to_parquet(abfss_path_enriched + 'BACEN_mes.parquet', \n",
        "                     storage_options = {'linked_service':linked_service_enriched})"
      ]
    },
    {
      "cell_type": "markdown",
      "metadata": {
        "nteract": {
          "transient": {
            "deleting": false
          }
        }
      },
      "source": [
        "# Acesso à documentação"
      ]
    },
    {
      "cell_type": "code",
      "execution_count": 23,
      "metadata": {
        "jupyter": {
          "outputs_hidden": false,
          "source_hidden": false
        },
        "nteract": {
          "transient": {
            "deleting": false
          }
        }
      },
      "outputs": [],
      "source": [
        "help(preparaBacen)"
      ]
    }
  ],
  "metadata": {
    "description": null,
    "kernelspec": {
      "display_name": "Synapse PySpark",
      "name": "synapse_pyspark"
    },
    "language_info": {
      "name": "python"
    },
    "save_output": true
  },
  "nbformat": 4,
  "nbformat_minor": 2
}
