{
  "cells": [
    {
      "cell_type": "markdown",
      "metadata": {
        "nteract": {
          "transient": {
            "deleting": false
          }
        }
      },
      "source": [
        "# Comparação entre o Crescimento Vegetativo e a Decomposição do MKT Share"
      ]
    },
    {
      "cell_type": "markdown",
      "metadata": {
        "nteract": {
          "transient": {
            "deleting": false
          }
        }
      },
      "source": [
        "# Setup Inicial"
      ]
    },
    {
      "cell_type": "markdown",
      "metadata": {},
      "source": [
        "## Bibliotecas utilizadas"
      ]
    },
    {
      "cell_type": "code",
      "execution_count": 1,
      "metadata": {},
      "outputs": [],
      "source": [
        "import pandas as pd\n",
        "import numpy as np\n",
        "import json\n",
        "\n",
        "# Manipulação de datas\n",
        "from time import strftime\n",
        "from datetime import datetime\n",
        "from dateutil.relativedelta import relativedelta\n",
        "\n",
        "# Visualização\n",
        "import matplotlib.pyplot as plt\n",
        "import plotly\n",
        "from plotly.subplots import make_subplots\n",
        "import plotly.graph_objects as go\n",
        "from plotly.graph_objs import *"
      ]
    },
    {
      "cell_type": "markdown",
      "metadata": {
        "nteract": {
          "transient": {
            "deleting": false
          }
        }
      },
      "source": [
        "## Definições Gerais"
      ]
    },
    {
      "cell_type": "code",
      "execution_count": 2,
      "metadata": {
        "jupyter": {
          "outputs_hidden": false,
          "source_hidden": false
        },
        "nteract": {
          "transient": {
            "deleting": false
          }
        }
      },
      "outputs": [],
      "source": [
        "# definção dos diretórios relativos\n",
        "\n",
        "# replace with your container name\n",
        "blob_container_name = 'general' \n",
        "\n",
        "# replace with your relative folder path\n",
        "blob_relative_path_raw = 'raw/mercado_potencial/'\n",
        "blob_relative_path_enriched = 'enriched/mercado_potencial/'\n",
        "\n",
        "\n",
        "# replace with your linked service name\n",
        "linked_service_raw = 'LS_ADLS_RAW_01'\n",
        "linked_service_enriched = 'LS_ADLS_ENRICHED_01'\n",
        "\n",
        "ls_raw = mssparkutils.credentials.getPropertiesAll(linked_service_raw)\n",
        "ls_enriched = mssparkutils.credentials.getPropertiesAll(linked_service_enriched)\n",
        "\n",
        "converter_dic_raw = json.loads(ls_raw)\n",
        "converter_dic_enriched = json.loads(ls_enriched)\n",
        "\n",
        "end_point_raw = (converter_dic_raw['Endpoint'].split(\"/\"))[2]\n",
        "end_point_enriched = (converter_dic_enriched['Endpoint'].split(\"/\"))[2]\n",
        "\n",
        "\n",
        "dir_raw = 'abfss://%s@%s/%s' % (blob_container_name, end_point_raw, blob_relative_path_raw)\n",
        "dir_enriched = 'abfss://%s@%s/%s' % (blob_container_name, end_point_enriched, blob_relative_path_enriched)\n"
      ]
    },
    {
      "cell_type": "code",
      "execution_count": 3,
      "metadata": {
        "jupyter": {
          "outputs_hidden": false,
          "source_hidden": false
        },
        "nteract": {
          "transient": {
            "deleting": false
          }
        }
      },
      "outputs": [],
      "source": [
        "# dir_row  = 'abfss://general@stedlk01dtandev.dfs.core.windows.net/raw/mercado_potencial/'\n",
        "# dir_enriched = 'abfss://general@stedlk02dtandev.dfs.core.windows.net/enriched/mercado_potencial/'\n",
        "\n",
        "# ls_row = 'LS_ADLS_ROW_01'\n",
        "# ls_enriched = 'LS_ADLS_ENRICHED_01'"
      ]
    },
    {
      "cell_type": "markdown",
      "metadata": {},
      "source": [
        "## Funções auxiliares"
      ]
    },
    {
      "cell_type": "code",
      "execution_count": 4,
      "metadata": {
        "jupyter": {
          "outputs_hidden": false,
          "source_hidden": false
        },
        "nteract": {
          "transient": {
            "deleting": false
          }
        }
      },
      "outputs": [],
      "source": [
        "def delta_indice(df_ind, df_vol):\n",
        "    \"\"\" Criação do delta dos índice de volume de vendas diesel\n",
        "        \n",
        "        Cria serie de deltas, baseados nas variações do índice de volume de vendas a ser \n",
        "        aplicado no último mês de volume de dados disponível nas séries de dados.\n",
        "    \n",
        "    Parâmetros:\n",
        "    -------------\n",
        "    df_ind: pd.DataFrame\n",
        "        Dataframe contendo os indices que serão consumidos\n",
        "    df_vol: pd.DataFrame\n",
        "        Dataframe com os volumes do MKTshare\n",
        "    Retornos:\n",
        "    -------------\n",
        "    df2: pd.DataFrame\n",
        "        Dataframe com o Delta a ser aplicado nos volumes\n",
        "    start: datatime\n",
        "        Data de início que será aplicado o Delta. A partir do primeiro mês projetado.\n",
        "    \"\"\"\n",
        "\n",
        "    pri = df_ind.loc[pd.isna(df_ind['y_Indice_ConsumidorFinal']), :].index[0] #primeiro nan\n",
        "    start_i = df_ind.loc[pri,'ds'] - relativedelta(months=1) # inicio do periodo a ser projetado\n",
        "    start_v = df_vol.index.max()\n",
        "    start = start_v.strftime('%Y-%m-%d') if start_v <= start_i else start_i.strftime('%Y-%m-%d')\n",
        "    \n",
        "    df2 = df_ind[df_ind['ds']>=start][['ds','y_Indice_ConsumidorFinal','yhat']] # filtro a partir do inicio do periodo\n",
        "    df2.reset_index(inplace=True, drop=True)\n",
        "    df2.columns = ['ds','y', 'yhat']\n",
        "    df2['Delta'] = df2['yhat'].div(df2['yhat'][0], axis=0) # delta com base no último mês de indice do volume disponível\n",
        "\n",
        "    return(df2, start)"
      ]
    },
    {
      "cell_type": "markdown",
      "metadata": {
        "nteract": {
          "transient": {
            "deleting": false
          }
        }
      },
      "source": [
        "# Coleta dos Volumes de Vendas por Atividade Econômica"
      ]
    },
    {
      "cell_type": "markdown",
      "metadata": {
        "nteract": {
          "transient": {
            "deleting": false
          }
        }
      },
      "source": [
        "## GET Histórico Vendas VIBRA por Atividades Econômicas"
      ]
    },
    {
      "cell_type": "code",
      "execution_count": 5,
      "metadata": {
        "jupyter": {
          "outputs_hidden": false,
          "source_hidden": false
        },
        "nteract": {
          "transient": {
            "deleting": false
          }
        }
      },
      "outputs": [],
      "source": [
        "cf  = pd.read_parquet(dir_enriched + 'volumetria/vol01_vendas_vibra_mes.parquet',\n",
        "                        storage_options = {'linked_service' : linked_service_enriched})"
      ]
    },
    {
      "cell_type": "markdown",
      "metadata": {
        "nteract": {
          "transient": {
            "deleting": false
          }
        }
      },
      "source": [
        "## GET Volume Vendas Consumidor Final Vibra MKTShare Decomposto por Atividade Econômica"
      ]
    },
    {
      "cell_type": "code",
      "execution_count": 6,
      "metadata": {
        "jupyter": {
          "outputs_hidden": false,
          "source_hidden": false
        },
        "nteract": {
          "transient": {
            "deleting": false
          }
        }
      },
      "outputs": [],
      "source": [
        "vol  = pd.read_parquet(dir_enriched + 'volumetria/vol02_MKTS_ConsFinal_Decomposto.parquet',\n",
        "                        storage_options = {'linked_service' : linked_service_enriched})"
      ]
    },
    {
      "cell_type": "markdown",
      "metadata": {
        "nteract": {
          "transient": {
            "deleting": false
          }
        }
      },
      "source": [
        "# Projeções"
      ]
    },
    {
      "cell_type": "markdown",
      "metadata": {
        "nteract": {
          "transient": {
            "deleting": false
          }
        }
      },
      "source": [
        "## Volume do MKTShare Decomposto do Consumidor Final para Transporte de Carga e de Passageiros"
      ]
    },
    {
      "cell_type": "code",
      "execution_count": 7,
      "metadata": {
        "jupyter": {
          "outputs_hidden": false,
          "source_hidden": false
        },
        "nteract": {
          "transient": {
            "deleting": false
          }
        }
      },
      "outputs": [],
      "source": [
        "# VOLUME DECOMPOSTO DO MKTSHARE\n",
        "#vol[['TRANSPORTE DE CARGAS','TRANSPORTE DE PASSAGEIRO']]"
      ]
    },
    {
      "cell_type": "markdown",
      "metadata": {
        "nteract": {
          "transient": {
            "deleting": false
          }
        }
      },
      "source": [
        "## Volume Histórico de Vendas Vibra para Transporte de Carga e de Passageiros"
      ]
    },
    {
      "cell_type": "code",
      "execution_count": 8,
      "metadata": {
        "jupyter": {
          "outputs_hidden": false,
          "source_hidden": false
        },
        "nteract": {
          "transient": {
            "deleting": false
          }
        }
      },
      "outputs": [],
      "source": [
        "# Volume histórico Vibra\n",
        "#cf[['TRANSPORTE DE CARGAS','TRANSPORTE DE PASSAGEIRO']]"
      ]
    },
    {
      "cell_type": "markdown",
      "metadata": {
        "nteract": {
          "transient": {
            "deleting": false
          }
        }
      },
      "source": [
        "## Resgatando os Índices de Transporte de Carga e de Passageiros dos modelos de Consumidor Final"
      ]
    },
    {
      "cell_type": "code",
      "execution_count": 9,
      "metadata": {
        "jupyter": {
          "outputs_hidden": false,
          "source_hidden": false
        },
        "nteract": {
          "transient": {
            "deleting": false
          }
        }
      },
      "outputs": [],
      "source": [
        "indice_cg  = pd.read_parquet(dir_enriched + 'output_models/previsao_ConsFinal_Carga.parquet',\n",
        "                                storage_options = {'linked_service' : linked_service_enriched})\n",
        "indice_ps  = pd.read_parquet(dir_enriched + 'output_models/previsao_ConsFinal_Passageiros.parquet',\n",
        "                                storage_options = {'linked_service' : linked_service_enriched})"
      ]
    },
    {
      "cell_type": "markdown",
      "metadata": {
        "nteract": {
          "transient": {
            "deleting": false
          }
        }
      },
      "source": [
        "## Criação do Delta do índice de volume de venda previsto a partir do último mês de dados reais"
      ]
    },
    {
      "cell_type": "code",
      "execution_count": 10,
      "metadata": {
        "jupyter": {
          "outputs_hidden": false,
          "source_hidden": false
        },
        "nteract": {
          "transient": {
            "deleting": false
          }
        }
      },
      "outputs": [],
      "source": [
        "delta_carga, start = delta_indice(indice_cg, vol)\n",
        "delta_passag, start = delta_indice(indice_ps, vol)"
      ]
    },
    {
      "cell_type": "markdown",
      "metadata": {
        "nteract": {
          "transient": {
            "deleting": false
          }
        }
      },
      "source": [
        "## Aplicando os Deltas"
      ]
    },
    {
      "cell_type": "markdown",
      "metadata": {
        "nteract": {
          "transient": {
            "deleting": false
          }
        }
      },
      "source": [
        "### Aos Volumes de Transporte de Cargas"
      ]
    },
    {
      "cell_type": "code",
      "execution_count": 11,
      "metadata": {
        "jupyter": {
          "outputs_hidden": false,
          "source_hidden": false
        },
        "nteract": {
          "transient": {
            "deleting": false
          }
        }
      },
      "outputs": [],
      "source": [
        "# vol MKT Share\n",
        "vol1 = vol[['TRANSPORTE DE CARGAS','TRANSPORTE DE PASSAG']]\n",
        "vol1 = vol1[start:start]\n",
        "x1 = delta_carga['Delta'].mul(vol1['TRANSPORTE DE CARGAS'].values[0],axis=0)\n",
        "\n",
        "# volume histórico vibra\n",
        "cf1 = cf[['TRANSPORTE DE CARGAS','TRANSPORTE DE PASSAG']]\n",
        "cf1 = cf1[start:start]\n",
        "x2 = delta_carga['Delta'].mul(cf1['TRANSPORTE DE CARGAS'].values[0],axis=0)"
      ]
    },
    {
      "cell_type": "code",
      "execution_count": 12,
      "metadata": {
        "jupyter": {
          "outputs_hidden": false,
          "source_hidden": false
        },
        "nteract": {
          "transient": {
            "deleting": false
          }
        }
      },
      "outputs": [],
      "source": [
        "proj_cg = pd.concat([delta_carga, x1,x2,], ignore_index=True, axis=1)\n",
        "proj_cg.columns = ['data', 'y', 'indice_carga', 'delta','proj_mktsh','proj_veget' ]\n",
        "proj_cg = proj_cg.drop(['y'], axis=1)\n",
        "\n",
        "proj_cg.insert(1,\n",
        "               'data_str', \n",
        "               proj_cg['data'].dt.strftime('%Y-%m-%d').astype('string'),\n",
        "               True) # auxilio para leitura da data em formato string pelo tableau\n",
        "#proj_cg"
      ]
    },
    {
      "cell_type": "markdown",
      "metadata": {
        "nteract": {
          "transient": {
            "deleting": false
          }
        }
      },
      "source": [
        "### Aos Volumes de Transporte de Passageiros"
      ]
    },
    {
      "cell_type": "code",
      "execution_count": 13,
      "metadata": {
        "jupyter": {
          "outputs_hidden": false,
          "source_hidden": false
        },
        "nteract": {
          "transient": {
            "deleting": false
          }
        }
      },
      "outputs": [],
      "source": [
        "# vol MKT Share\n",
        "vol1 = vol[['TRANSPORTE DE CARGAS','TRANSPORTE DE PASSAG']]\n",
        "vol1 = vol1[start:start]\n",
        "x1 = delta_passag['Delta'].mul(vol1['TRANSPORTE DE PASSAG'].values[0],axis=0)\n",
        "\n",
        "# volume histórico vibra\n",
        "cf1 = cf[['TRANSPORTE DE CARGAS','TRANSPORTE DE PASSAG']]\n",
        "cf1 = cf1[start:start]\n",
        "x2 = delta_passag['Delta'].mul(cf1['TRANSPORTE DE PASSAG'].values[0],axis=0)\n"
      ]
    },
    {
      "cell_type": "code",
      "execution_count": 14,
      "metadata": {
        "jupyter": {
          "outputs_hidden": false,
          "source_hidden": false
        },
        "nteract": {
          "transient": {
            "deleting": false
          }
        }
      },
      "outputs": [],
      "source": [
        "proj_ps = pd.concat([delta_passag, x1,x2,], ignore_index=True, axis=1)\n",
        "proj_ps.columns = ['data', 'y', 'indice_passageiros', 'delta','proj_mktsh','proj_veget' ]\n",
        "proj_ps = proj_ps.drop(['y'], axis=1)\n",
        "\n",
        "proj_ps.insert(1,\n",
        "               'data_str', \n",
        "               proj_ps['data'].dt.strftime('%Y-%m-%d').astype('string'),\n",
        "               True) # auxilio para leitura da data em formato string pelo tableau\n",
        "#proj_ps"
      ]
    },
    {
      "cell_type": "markdown",
      "metadata": {
        "nteract": {
          "transient": {
            "deleting": false
          }
        }
      },
      "source": [
        "## Salvando as Projeções"
      ]
    },
    {
      "cell_type": "code",
      "execution_count": 15,
      "metadata": {
        "jupyter": {
          "outputs_hidden": false,
          "source_hidden": false
        },
        "nteract": {
          "transient": {
            "deleting": false
          }
        }
      },
      "outputs": [],
      "source": [
        "proj_cg.to_parquet(dir_enriched + 'volumetria/vol03_projecao_carga.parquet', \n",
        "                   storage_options = {'linked_service':linked_service_enriched})\n",
        "                   \n",
        "proj_ps.to_parquet(dir_enriched + 'volumetria/vol03_projecao_passageiro.parquet',\n",
        "                   storage_options = {'linked_service':linked_service_enriched})"
      ]
    },
    {
      "cell_type": "markdown",
      "metadata": {
        "nteract": {
          "transient": {
            "deleting": false
          }
        }
      },
      "source": [
        "## Resgatando previsão vegetativa dos Transporte de Carga e de Passageiros"
      ]
    },
    {
      "cell_type": "code",
      "execution_count": 16,
      "metadata": {
        "jupyter": {
          "outputs_hidden": false,
          "source_hidden": false
        },
        "nteract": {
          "transient": {
            "deleting": false
          }
        }
      },
      "outputs": [],
      "source": [
        "prev_vibra  = pd.read_parquet(dir_enriched + 'volumetria/vol01_prev_vegetativo.parquet',\n",
        "                                storage_options = {'linked_service' : linked_service_enriched})"
      ]
    },
    {
      "cell_type": "code",
      "execution_count": 17,
      "metadata": {
        "jupyter": {
          "outputs_hidden": false,
          "source_hidden": false
        },
        "nteract": {
          "transient": {
            "deleting": false
          }
        }
      },
      "outputs": [],
      "source": [
        "prev_cg = prev_vibra[prev_vibra['Atv_Economica']=='TRANSPORTE DE CARGAS']\n",
        "prev_ps = prev_vibra[prev_vibra['Atv_Economica']=='TRANSPORTE DE PASSAGEIRO']"
      ]
    },
    {
      "cell_type": "code",
      "execution_count": 18,
      "metadata": {
        "jupyter": {
          "outputs_hidden": false,
          "source_hidden": false
        },
        "nteract": {
          "transient": {
            "deleting": false
          }
        }
      },
      "outputs": [],
      "source": [
        "end = proj_cg['data'].max()#+ relativedelta(months=1)\n",
        "end = end.strftime('%Y-%m-%d')\n",
        "x3 = prev_cg[(prev_cg['ds']>=start) & (prev_cg['ds']<=end)]['yhat'].reset_index(drop=True)\n",
        "x4 = prev_ps[(prev_ps['ds']>=start) & (prev_ps['ds']<=end)]['yhat'].reset_index(drop=True)"
      ]
    },
    {
      "cell_type": "markdown",
      "metadata": {
        "nteract": {
          "transient": {
            "deleting": false
          }
        }
      },
      "source": [
        "## Comparativos"
      ]
    },
    {
      "cell_type": "code",
      "execution_count": 19,
      "metadata": {
        "jupyter": {
          "outputs_hidden": false,
          "source_hidden": false
        },
        "nteract": {
          "transient": {
            "deleting": false
          }
        }
      },
      "outputs": [],
      "source": [
        "# remover a data em formato string\n",
        "proj_cg.drop(['data_str'],axis=1, inplace=True)\n",
        "\n",
        "comparativo_cg = pd.concat([proj_cg, x3], axis=1)\n",
        "comparativo_cg.rename(columns={'yhat':'prev_veget'}, inplace=True)\n",
        "#comparativo_cg"
      ]
    },
    {
      "cell_type": "code",
      "execution_count": 20,
      "metadata": {
        "jupyter": {
          "outputs_hidden": false,
          "source_hidden": false
        },
        "nteract": {
          "transient": {
            "deleting": false
          }
        }
      },
      "outputs": [],
      "source": [
        "# remover a data em formato string\n",
        "proj_ps.drop(['data_str'],axis=1, inplace=True)\n",
        "\n",
        "comparativo_ps = pd.concat([proj_ps, x4], axis=1)\n",
        "comparativo_ps.rename(columns={'yhat':'prev_veget'}, inplace=True)\n",
        "#comparativo_ps"
      ]
    },
    {
      "cell_type": "code",
      "execution_count": 21,
      "metadata": {
        "jupyter": {
          "outputs_hidden": false,
          "source_hidden": false
        },
        "nteract": {
          "transient": {
            "deleting": false
          }
        }
      },
      "outputs": [],
      "source": [
        "# comparativo_cg.to_csv(dir_enriched + 'volumetria/comparativo_cg.csv', index=False, sep=';', decimal=',',\n",
        "#                       storage_options = {'linked_service':ls_enriched})\n",
        "\n",
        "# comparativo_ps.to_csv(dir_enriched + 'volumetria/comparativo_ps.csv', index=False, sep=';', decimal=',',\n",
        "#                       storage_options = {'linked_service':ls_enriched})"
      ]
    },
    {
      "cell_type": "code",
      "execution_count": 22,
      "metadata": {
        "jupyter": {
          "outputs_hidden": false,
          "source_hidden": false
        },
        "nteract": {
          "transient": {
            "deleting": false
          }
        }
      },
      "outputs": [],
      "source": [
        "cores = ['red','orange','green', 'purple', 'blue', 'red']\n",
        "series= ['Proj Mkt Share','Proj Decomposição Vegetativo', 'Previsão Vegetativo']\n",
        "\n",
        "# fig = go.Figure()\n",
        "\n",
        "fig = make_subplots(rows=2, cols=1,\n",
        "                        y_title='Volume (m³)',\n",
        "                        subplot_titles=('Transporte de Cargas', 'Transporte de Passageiros'),\n",
        "                        shared_yaxes=False,\n",
        "                        vertical_spacing=0.1 )\n",
        "\n",
        "for i, c in enumerate(comparativo_cg.columns[3:]):\n",
        "# linhas do Consumidor Final\n",
        "        dt = comparativo_cg\n",
        "        fig.add_trace(go.Scatter(\n",
        "                        name = series[i],\n",
        "                        x = dt['data'],\n",
        "                        y = dt.iloc[:,3+i],\n",
        "                        mode='lines+markers',\n",
        "                        marker={'color': cores[i],\n",
        "                                'size': 4,\n",
        "                                'line': {'color': cores[i],\n",
        "                                        'width': .65}\n",
        "                                },\n",
        "                        visible=True),\n",
        "                    row=1, col=1\n",
        "        )\n",
        "# linhas do TRR\n",
        "        dt = comparativo_ps\n",
        "        fig.add_trace(go.Scatter(\n",
        "                        name = series[i],\n",
        "                        x = dt['data'],\n",
        "                        y = dt.iloc[:,3+i],\n",
        "                        mode='lines+markers',\n",
        "                        marker={'color': cores[i],\n",
        "                                'size': 4,\n",
        "                                'line': {'color': cores[i],\n",
        "                                        'width': .65}\n",
        "                                },\n",
        "                        visible=True,\n",
        "                        showlegend=False),\n",
        "                    row=2, col=1\n",
        "        )\n",
        "        \n",
        "fig.add_annotation(\n",
        "                showarrow=False,\n",
        "                text='Gerado em ' + datetime.now().strftime(\"%d %b %Y às %H:%M:%S\"),\n",
        "                font=dict(size=12),\n",
        "                xref='paper',\n",
        "                x=1.1,\n",
        "                yref='paper',\n",
        "                y=-0.25)\n",
        "    \n",
        "fig.update_xaxes(matches='x', rangeslider_visible=True, rangeslider_thickness = 0.08)\n",
        "fig.update_xaxes(rangeslider= {'visible':False}, row=1, col=1)\n",
        "\n",
        "ano_s = dt['data'].min().strftime('%m.%Y')\n",
        "ano_e = dt['data'].max().strftime('%m.%Y')\n",
        "\n",
        "fig.update_layout(\n",
        "                title = 'Comparativo Volumes Previstos e Projetados<br><sup>('+ ano_s +' - '+ ano_e+ ')</sup>',\n",
        "                #xaxis_title = \"Período\",\n",
        "                #yaxis_title = \"% mercado\",\n",
        "                legend_title = \"Legenda\",\n",
        "                font=dict(\n",
        "                    family = \"Courier New, monospace\",\n",
        "                    size = 14,\n",
        "                    color = \"royalblue\"),\n",
        "                    height=900)\n",
        "#\n",
        "fig.show()\n",
        "fig = plotly.offline.plot(fig, output_type='div')\n",
        "#displayHTML(fig)\n",
        "        "
      ]
    },
    {
      "cell_type": "markdown",
      "metadata": {
        "nteract": {
          "transient": {
            "deleting": false
          }
        }
      },
      "source": [
        "#"
      ]
    },
    {
      "cell_type": "markdown",
      "metadata": {
        "nteract": {
          "transient": {
            "deleting": false
          }
        }
      },
      "source": [
        "# Acesso à Documentação"
      ]
    },
    {
      "cell_type": "code",
      "execution_count": 23,
      "metadata": {
        "jupyter": {
          "outputs_hidden": false,
          "source_hidden": false
        },
        "nteract": {
          "transient": {
            "deleting": false
          }
        }
      },
      "outputs": [],
      "source": [
        "help(delta_indice)"
      ]
    }
  ],
  "metadata": {
    "description": "Comparações entre as projeções e previsões do volume de vendas de diesel",
    "kernelspec": {
      "display_name": "Synapse PySpark",
      "name": "synapse_pyspark"
    },
    "language_info": {
      "name": "python"
    },
    "save_output": false
  },
  "nbformat": 4,
  "nbformat_minor": 2
}
