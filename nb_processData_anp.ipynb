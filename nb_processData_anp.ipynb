{
  "cells": [
    {
      "cell_type": "markdown",
      "metadata": {
        "nteract": {
          "transient": {
            "deleting": false
          }
        }
      },
      "source": [
        "# Setup Inicial"
      ]
    },
    {
      "cell_type": "code",
      "execution_count": 19,
      "metadata": {
        "jupyter": {
          "outputs_hidden": false,
          "source_hidden": false
        },
        "nteract": {
          "transient": {
            "deleting": false
          }
        }
      },
      "outputs": [],
      "source": [
        "try:\n",
        "    import unidecode\n",
        "except ModuleNotFoundError:\n",
        "    !pip install unidecode"
      ]
    },
    {
      "cell_type": "markdown",
      "metadata": {
        "nteract": {
          "transient": {
            "deleting": false
          }
        }
      },
      "source": [
        "## Bibliotecas utilizadas"
      ]
    },
    {
      "cell_type": "code",
      "execution_count": 20,
      "metadata": {
        "jupyter": {
          "outputs_hidden": false,
          "source_hidden": false
        },
        "nteract": {
          "transient": {
            "deleting": false
          }
        }
      },
      "outputs": [],
      "source": [
        "import pandas as pd\n",
        "import numpy as np\n",
        "from unidecode import unidecode\n",
        "import json"
      ]
    },
    {
      "cell_type": "markdown",
      "metadata": {
        "nteract": {
          "transient": {
            "deleting": false
          }
        }
      },
      "source": [
        "## Definições gerais"
      ]
    },
    {
      "cell_type": "code",
      "execution_count": 21,
      "metadata": {
        "jupyter": {
          "outputs_hidden": false,
          "source_hidden": false
        },
        "nteract": {
          "transient": {
            "deleting": false
          }
        }
      },
      "outputs": [],
      "source": [
        "blob_container_name = 'general' # replace with your container name\n",
        "blob_relative_path_raw = 'raw/mercado_potencial/anp/' # replace with your relative folder path\n",
        "blob_relative_path_enriched = 'enriched/mercado_potencial/anp/' # replace with your relative folder path\n",
        "linked_service_raw = 'LS_ADLS_RAW_01' # replace with your linked service name\n",
        "linked_service_enriched = 'LS_ADLS_ENRICHED_01' # replace with your linked service name\n",
        "\n",
        "\n",
        "ls_raw = mssparkutils.credentials.getPropertiesAll(linked_service_raw)\n",
        "ls_enriched = mssparkutils.credentials.getPropertiesAll(linked_service_enriched)\n",
        "\n",
        "converter_dic_raw = json.loads(ls_raw)\n",
        "converter_dic_enriched = json.loads(ls_enriched)\n",
        "\n",
        "#coletando o endpoint\n",
        "end_point_raw = (converter_dic_raw['Endpoint'].split(\"/\"))[2]\n",
        "end_point_enriched = (converter_dic_enriched['Endpoint'].split(\"/\"))[2]\n",
        "\n",
        "#Utilizado na leitura via metodo mssparkutils\n",
        "abfss_path_raw = 'abfss://%s@%s/%s' % (blob_container_name, end_point_raw, blob_relative_path_raw)\n",
        "abfss_path_enriched = 'abfss://%s@%s/%s' % (blob_container_name, end_point_enriched, blob_relative_path_enriched)\n",
        "\n",
        "\n",
        "\n",
        "#dir_enriched = 'abfss://general/enriched/mercado_potencial/anp/'\n",
        "#ls_enriched = 'LS_ADLS_ENRICHED_01'"
      ]
    },
    {
      "cell_type": "markdown",
      "metadata": {
        "nteract": {
          "transient": {
            "deleting": false
          }
        }
      },
      "source": [
        "## Funções de utilizadas"
      ]
    },
    {
      "cell_type": "code",
      "execution_count": 22,
      "metadata": {
        "jupyter": {
          "outputs_hidden": false,
          "source_hidden": false
        },
        "nteract": {
          "transient": {
            "deleting": false
          }
        }
      },
      "outputs": [],
      "source": [
        "def ajustar_data(mes, ano):\n",
        "    \"\"\"Ajusta e agrupa as datas em formato de ano e mês separados.\n",
        "\n",
        "        Ajusta as datas que são apresentadas em colunas separadas e em formato string. \n",
        "        \n",
        "    Parâmetros\n",
        "    ----------\n",
        "    mes: string\n",
        "        Lista com o nome do mês reduzido em portugues\n",
        "    ano: int \n",
        "        Lista com os anos\n",
        "       \n",
        "    Retornos\n",
        "    -------\n",
        "    data_ajustada: datatime\n",
        "        Lista com data em formato datatime.\n",
        "    \"\"\" \n",
        "    \n",
        "    #dicionário com representação dos meses compactos minusculos em portugues\n",
        "    meses = {'jan': '01', 'fev': '02', 'mar': '03',\n",
        "            'abr': '04', 'mai': '05', 'jun': '06',\n",
        "            'jul': '07', 'ago': '08', 'set': '09',\n",
        "            'out': '10', 'nov': '11', 'dez': '12'}\n",
        "\n",
        "    # list comprehension percorre os dados de 'mes' convertendo em minusculo e já \n",
        "    # trazendo o valor equivalente do dicionário de meses acima\n",
        "    mes_minusculo = [meses[i.lower()] for i in mes]\n",
        "\n",
        "    #cria coluna data a partir do ano e mes\n",
        "    data_ajustada = ano.astype(str) + mes_minusculo\n",
        "    \n",
        "    # converte em formato datatime\n",
        "    data_ajustada = pd.to_datetime(data_ajustada, format='%Y%m')\n",
        "\n",
        "    return(data_ajustada)\n"
      ]
    },
    {
      "cell_type": "markdown",
      "metadata": {
        "nteract": {
          "transient": {
            "deleting": false
          }
        }
      },
      "source": [
        "# Execução"
      ]
    },
    {
      "cell_type": "markdown",
      "metadata": {
        "nteract": {
          "transient": {
            "deleting": false
          }
        }
      },
      "source": [
        "## Leitura dos dados da camada row"
      ]
    },
    {
      "cell_type": "code",
      "execution_count": 23,
      "metadata": {
        "jupyter": {
          "outputs_hidden": false,
          "source_hidden": false
        },
        "nteract": {
          "transient": {
            "deleting": false
          }
        }
      },
      "outputs": [],
      "source": [
        "arquivo = abfss_path_raw + 'vendas-combustiveis-segmento-m3.csv'\n",
        "diesel_anp = pd.read_csv( arquivo , sep=\";\", decimal=',' , storage_options = {'linked_service' : linked_service_raw})"
      ]
    },
    {
      "cell_type": "markdown",
      "metadata": {
        "nteract": {
          "transient": {
            "deleting": false
          }
        }
      },
      "source": [
        "## Ajustes iniciais"
      ]
    },
    {
      "cell_type": "code",
      "execution_count": 24,
      "metadata": {},
      "outputs": [],
      "source": [
        "# In[4]: PREPARA DADOS DA ANP\n",
        "\n",
        "# Ajustes dos dados coletados\n",
        "# remove acentos e deixa nome das colunas em minúsculo;\n",
        "# mantem somente o produto DIESEL\n",
        "\n",
        "# Ajusta os titulos sem acento e em minusculo\n",
        "diesel_anp.columns = [unidecode(i.lower()) for i in list(diesel_anp.columns)]\n",
        "diesel_anp.rename(columns={'unidade da federacao':'uf'}, inplace=True)\n",
        "\n",
        "# Elimina os demais combustíveis diferente de diesel\n",
        "diesel_anp = diesel_anp[diesel_anp['produto'].str.contains('DIESEL')].reset_index(drop=True)\n",
        "\n",
        "# Melt de vendas por segmento e uf\n",
        "diesel_uf = diesel_anp.copy()\n",
        "diesel_uf = diesel_uf.set_index(['ano', 'mes','uf', 'segmento'])['vendas'].unstack().reset_index()\n",
        "\n",
        "# Ajusta dos nomes das colunas para minúscula\n",
        "diesel_uf.columns = [unidecode(i.lower()) for i in list(diesel_uf.columns)]\n",
        "\n",
        "# Agrupa dados por Mês/Ano, Segmento, Brasil\n",
        "# Agrupa vendas Brasil por mês  \n",
        "diesel_br = pd.DataFrame(diesel_uf.groupby(['ano','mes']).sum().reset_index())\n",
        "\n",
        "# Ajusta data e removendo colunas de mes e ano\n",
        "diesel_br['data'] = ajustar_data(diesel_br['mes'],diesel_br['ano'])\n",
        "diesel_br.drop(['ano', 'mes'], axis=1, inplace=True)\n",
        "\n",
        "# Seta data com indice\n",
        "diesel_br = diesel_br.sort_values(by='data') # ordenando por data\n",
        "diesel_br = diesel_br.set_index('data', drop=False) # mantendo a data como variavel para ajudar na hora do gráfico\n",
        "\n",
        "# Remove Posto Revendedor\n",
        "diesel_br.drop('posto revendedor',axis=1, inplace=True)"
      ]
    },
    {
      "cell_type": "markdown",
      "metadata": {
        "nteract": {
          "transient": {
            "deleting": false
          }
        }
      },
      "source": [
        "## Criação do índice de volume de vendas de diesel"
      ]
    },
    {
      "cell_type": "code",
      "execution_count": 25,
      "metadata": {
        "jupyter": {
          "outputs_hidden": false,
          "source_hidden": false
        },
        "nteract": {
          "transient": {
            "deleting": false
          }
        }
      },
      "outputs": [],
      "source": [
        "# criando indice com base jan/2012=100\n",
        "\n",
        "indice = ['Indice_ConsumidorFinal', 'Indice_TRR' ]\n",
        "diesel_br[indice] = np.nan\n",
        "\n",
        "for i,c in enumerate(diesel_br.columns[0:2]):\n",
        "    diesel_br[indice[i]] = diesel_br[c].values / diesel_br[c][0] * 100"
      ]
    },
    {
      "cell_type": "markdown",
      "metadata": {
        "nteract": {
          "transient": {
            "deleting": false
          }
        }
      },
      "source": [
        "## Ajustes finais"
      ]
    },
    {
      "cell_type": "code",
      "execution_count": 26,
      "metadata": {
        "jupyter": {
          "outputs_hidden": false,
          "source_hidden": false
        },
        "nteract": {
          "transient": {
            "deleting": false
          }
        }
      },
      "outputs": [],
      "source": [
        "#ordenando colunas\n",
        "diesel_br = diesel_br[diesel_br.columns[[2,0,3,1,4]]]"
      ]
    },
    {
      "cell_type": "markdown",
      "metadata": {
        "nteract": {
          "transient": {
            "deleting": false
          }
        }
      },
      "source": [
        "## Salvando dados mensais da ANP na camada eriched"
      ]
    },
    {
      "cell_type": "code",
      "execution_count": 27,
      "metadata": {
        "jupyter": {
          "outputs_hidden": false,
          "source_hidden": false
        },
        "nteract": {
          "transient": {
            "deleting": false
          }
        }
      },
      "outputs": [],
      "source": [
        "diesel_br.to_parquet(abfss_path_enriched + 'anp_diesel_mes.parquet', \n",
        "                     storage_options = {'linked_service':linked_service_enriched})"
      ]
    },
    {
      "cell_type": "markdown",
      "metadata": {
        "nteract": {
          "transient": {
            "deleting": false
          }
        }
      },
      "source": [
        "# Acesso à documentação"
      ]
    },
    {
      "cell_type": "code",
      "execution_count": 28,
      "metadata": {
        "jupyter": {
          "outputs_hidden": false,
          "source_hidden": false
        },
        "nteract": {
          "transient": {
            "deleting": false
          }
        }
      },
      "outputs": [],
      "source": [
        "help(ajustar_data)"
      ]
    }
  ],
  "metadata": {
    "description": null,
    "kernelspec": {
      "display_name": "Synapse PySpark",
      "name": "synapse_pyspark"
    },
    "language_info": {
      "name": "python"
    },
    "save_output": true,
    "synapse_widget": {
      "state": {},
      "version": "0.1"
    }
  },
  "nbformat": 4,
  "nbformat_minor": 2
}
