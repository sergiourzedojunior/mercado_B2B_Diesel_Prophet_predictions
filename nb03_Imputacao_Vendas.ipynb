{
  "cells": [
    {
      "cell_type": "markdown",
      "metadata": {
        "nteract": {
          "transient": {
            "deleting": false
          }
        }
      },
      "source": [
        "# Coleta, Tratamento e Unificação das bases de dados relativas as Usinas Sucroalcooleiras"
      ]
    },
    {
      "cell_type": "markdown",
      "metadata": {
        "nteract": {
          "transient": {
            "deleting": false
          }
        }
      },
      "source": [
        "# Setup Inicial"
      ]
    },
    {
      "cell_type": "markdown",
      "metadata": {
        "nteract": {
          "transient": {
            "deleting": false
          }
        }
      },
      "source": [
        "Carregando linhas com configurações iniciais já escritas em notebook base\n",
        "\n",
        "No bloco de comando \"%run\" não pode ter nenhum outra linha de comando ou comentário"
      ]
    },
    {
      "cell_type": "code",
      "execution_count": 14,
      "metadata": {
        "jupyter": {
          "outputs_hidden": false,
          "source_hidden": false
        },
        "nteract": {
          "transient": {
            "deleting": false
          }
        }
      },
      "outputs": [],
      "source": [
        "%run nb00_Setup_Usinas{}"
      ]
    },
    {
      "cell_type": "markdown",
      "metadata": {
        "nteract": {
          "transient": {
            "deleting": false
          }
        }
      },
      "source": [
        "# Leitura dos Dados "
      ]
    },
    {
      "cell_type": "code",
      "execution_count": 15,
      "metadata": {
        "jupyter": {
          "outputs_hidden": false,
          "source_hidden": false
        },
        "nteract": {
          "transient": {
            "deleting": false
          }
        }
      },
      "outputs": [],
      "source": [
        "usinas   = pd.read_parquet(abfss_path_enriched + 'usinas/usi02_tancagens_impt_usinas.parquet',\n",
        "                            storage_options = {'linked_service' : linked_service_enriched})\n",
        "\n",
        "prop  = pd.read_parquet(abfss_path_enriched + 'volumetria/vol01_prop_consfinal_vegetativo.parquet',\n",
        "                        storage_options = {'linked_service' : linked_service_enriched})\n",
        "\n",
        "cf  = pd.read_parquet(abfss_path_enriched + 'volumetria/vol01_vendas_vibra_mes.parquet',\n",
        "                        storage_options = {'linked_service' : linked_service_enriched})\n",
        "\n",
        "diesel_mes = pd.read_parquet(abfss_path_enriched + 'anp/anp_diesel_mes.parquet',\n",
        "                                storage_options = {'linked_service' : linked_service_enriched})\n",
        "\n",
        "hist = pd.read_parquet(abfss_path_enriched + 'histdiesel/hist_diesel.parquet',\n",
        "                        storage_options = {'linked_service' : linked_service_enriched})\n"
      ]
    },
    {
      "cell_type": "code",
      "execution_count": 16,
      "metadata": {
        "jupyter": {
          "outputs_hidden": false,
          "source_hidden": false
        },
        "nteract": {
          "transient": {
            "deleting": false
          }
        }
      },
      "outputs": [],
      "source": [
        "vol_usinas = pd.DataFrame(diesel_mes.loc['2016':]['consumidor final']*prop['USINA'][:-1])"
      ]
    },
    {
      "cell_type": "markdown",
      "metadata": {
        "nteract": {
          "transient": {
            "deleting": false
          }
        }
      },
      "source": [
        "# Ajuste do Histórico de Vendas da VIBRA"
      ]
    },
    {
      "cell_type": "code",
      "execution_count": 17,
      "metadata": {
        "jupyter": {
          "outputs_hidden": false,
          "source_hidden": false
        },
        "nteract": {
          "transient": {
            "deleting": false
          }
        }
      },
      "outputs": [],
      "source": [
        "# col_names = pd.read_csv(arq_vol, nrows=0).columns                               # coletando informações de cabeçalho\n",
        "# col_types = {col: str for col in col_names if col not in {}}                    # todas as colunas como str\n",
        "\n",
        "\n",
        "\n",
        "\n",
        "\n",
        "# #hist.drop(['Unnamed: 0','index'],axis=1,inplace=True) # var não necessária\n",
        "# hist['VEDI_VOL'] = hist['VEDI_VOL'].astype(float)\n",
        "# hist['VEDI_DAT_VEN'] = pd.to_datetime(hist['VEDI_DAT_VEN'])\n",
        "\n",
        "#organizando o Coreto!\n",
        "hist = hist[['CLIE_NUM_CPF_CNPJ', 'CLIE_NOM_CLIENTE','VEDI_COD_CLI', 'VEDI_VOL', 'VEDI_DAT_VEN', 'ProdutoD', 'AECO']]\n",
        "\n",
        "hist.rename(columns={'CLIE_NUM_CPF_CNPJ': 'CNPJ'}, errors='raise', inplace=True)\n",
        "\n",
        "\n",
        "# hist['CNPJ'] = hist['CNPJ'].astype(str).apply(lambda x: x.zfill(14))            # Transforma CPNJ em string\n",
        "# hist = hist[~hist['CNPJ'].str.startswith('000')]                                # removendo possiveis CPFs\n",
        "\n",
        "hist = hist.merge(usinas[['CNPJ','UF']], how='left', on ='CNPJ')                # trazendo infos de Usinas Gov para filtro\n",
        "\n",
        "hist = hist[hist['VEDI_VOL'] > 0].sort_values('VEDI_DAT_VEN')                   # Eliminando Vendas negativas ou zeradas\n",
        "\n",
        "hist = hist[~hist['UF'].isna()].reset_index(drop=True)                          # Filtrando CNPJ que estão na base Usinas - independente da AECO"
      ]
    },
    {
      "cell_type": "markdown",
      "metadata": {
        "nteract": {
          "transient": {
            "deleting": false
          }
        }
      },
      "source": [
        "### Agrupando vendas por mês"
      ]
    },
    {
      "cell_type": "code",
      "execution_count": 18,
      "metadata": {
        "jupyter": {
          "outputs_hidden": false,
          "source_hidden": false
        },
        "nteract": {
          "transient": {
            "deleting": false
          }
        }
      },
      "outputs": [],
      "source": [
        "hist['ANOMES'] = hist['VEDI_DAT_VEN'].dt.strftime('%Y-%m')\n",
        "\n",
        "hist_m = hist.groupby(['CNPJ','ANOMES'])['VEDI_VOL'].agg(Vol_Total = 'sum', Freq='count', Vol_Medio='mean').reset_index()\n",
        "hist_m['data'] = pd.to_datetime(hist_m['ANOMES'], format='%Y-%m-%d')\n",
        "hist_m = hist_m.set_index('data').sort_index()"
      ]
    },
    {
      "cell_type": "markdown",
      "metadata": {
        "nteract": {
          "transient": {
            "deleting": false
          }
        }
      },
      "source": [
        "### Incluindo vendas 0 nos meses que não houveram vendas"
      ]
    },
    {
      "cell_type": "code",
      "execution_count": 19,
      "metadata": {
        "jupyter": {
          "outputs_hidden": false,
          "source_hidden": false
        },
        "nteract": {
          "transient": {
            "deleting": false
          }
        }
      },
      "outputs": [],
      "source": [
        "hist_e = pd.DataFrame()\n",
        "periodo = pd.date_range(start='2016-01-01', end=dt.today(), freq='MS')\n",
        "\n",
        "for x in periodo.year.unique():\n",
        "    per = [a for a in periodo if a.year==x]\n",
        "    aux = (hist_m.loc[str(x)].groupby('CNPJ')\n",
        "                 .apply(lambda x: x.reindex(per).fillna(0))  # preenche os meses sem vendas com 0\n",
        "                 .rename_axis(('CNPJ','Data'))\n",
        "                 .drop(['CNPJ','ANOMES'], axis=1)\n",
        "                 .reset_index())\n",
        "    hist_e = pd.concat([hist_e, aux], axis=0, ignore_index=True)\n",
        "    \n",
        "hist_e = hist_e.merge(hist[~hist['CNPJ'].duplicated()][['CNPJ','AECO']], how='left', on='CNPJ')   # resgatando a AECO"
      ]
    },
    {
      "cell_type": "markdown",
      "metadata": {
        "nteract": {
          "transient": {
            "deleting": false
          }
        }
      },
      "source": [
        "# Filtrando histórico de Clientes Vibra Contidos na Base de Usinas do GOV"
      ]
    },
    {
      "cell_type": "code",
      "execution_count": 20,
      "metadata": {
        "jupyter": {
          "outputs_hidden": false,
          "source_hidden": false
        },
        "nteract": {
          "transient": {
            "deleting": false
          }
        }
      },
      "outputs": [],
      "source": [
        "df = usinas[['CNPJ', 'MUNICIPIO','UF', 'CAP_HIDRATADO','CAP_ANIDRO','TANCAGEM_ETANOL','TANCAGEM_DIESEL', 'SITUACAO_ANP']].merge(\n",
        "       hist_e, how='left', on ='CNPJ')\n",
        "\n",
        "df = df[~df['Data'].isna()]                                                                       # somente os clientes vibra dentro do MAPA+ANP\n",
        "df['ANOMES'] = df['Data'].dt.strftime('%Y-%m')\n",
        "df['ANO'] = df['Data'].dt.strftime('%Y')"
      ]
    },
    {
      "cell_type": "markdown",
      "metadata": {
        "nteract": {
          "transient": {
            "deleting": false
          }
        }
      },
      "source": [
        "# Imputação das Vendas"
      ]
    },
    {
      "cell_type": "markdown",
      "metadata": {
        "nteract": {
          "transient": {
            "deleting": false
          }
        }
      },
      "source": [
        "### Imputação Mensal"
      ]
    },
    {
      "cell_type": "code",
      "execution_count": 21,
      "metadata": {
        "jupyter": {
          "outputs_hidden": false,
          "source_hidden": false
        },
        "nteract": {
          "transient": {
            "deleting": false
          }
        }
      },
      "outputs": [],
      "source": [
        "# Imputação ANO MES\n",
        "\n",
        "cols = ['CNPJ','UF','REGIAO','Data', 'ANOMES', 'ANO', 'CAP_HIDRATADO','CAP_ANIDRO','TANCAGEM_ETANOL','TANCAGEM_DIESEL', 'Vol_Total','Freq','Vol_Medio']\n",
        "var  = ['CAP_HIDRATADO','CAP_ANIDRO','TANCAGEM_ETANOL','TANCAGEM_DIESEL','Vol_Total','Freq','Vol_Medio']\n",
        "\n",
        "res_m = imp_anual(df, freq='ANOMES', l=['CNPJ','Data','ANOMES', 'ANO'], cols=cols, var=var, ind=False)\n",
        "\n",
        "res_m['ANO']= [ x[:4] for x in res_m['ANOMES']]\n",
        "res_m['IMP'] = [1 if pd.isnull(x) else 0 for x in res_m['Data']]\n",
        "res_m['Data'] = pd.to_datetime(res_m['ANOMES'], format='%Y-%m-%d')"
      ]
    },
    {
      "cell_type": "code",
      "execution_count": 22,
      "metadata": {
        "jupyter": {
          "outputs_hidden": false,
          "source_hidden": false
        },
        "nteract": {
          "transient": {
            "deleting": false
          }
        }
      },
      "outputs": [],
      "source": [
        "reg = {'N':'N-NE','NE':'N-NE','S':'CO-S-SE','CO':'CO-S-SE', 'SE':'CO-S-SE'}\n",
        "\n",
        "res_m['REGIAO2'] = [reg[x] for x in res_m['REGIAO']]\n",
        "res_m['REGIAO3'] = np.where(res_m['UF']=='SP', res_m['UF'], res_m['REGIAO2'])"
      ]
    },
    {
      "cell_type": "markdown",
      "metadata": {
        "nteract": {
          "transient": {
            "deleting": false
          }
        }
      },
      "source": [
        "### Imputação Anual"
      ]
    },
    {
      "cell_type": "code",
      "execution_count": 23,
      "metadata": {
        "jupyter": {
          "outputs_hidden": false,
          "source_hidden": false
        },
        "nteract": {
          "transient": {
            "deleting": false
          }
        }
      },
      "outputs": [],
      "source": [
        "df_ga = df.groupby(['CNPJ','ANO']).sum().reset_index()\n",
        "\n",
        "cols = ['CNPJ','UF','REGIAO','ANO', 'CAP_HIDRATADO','CAP_ANIDRO','TANCAGEM_ETANOL','TANCAGEM_DIESEL', 'Vol_Total','Freq','Vol_Medio']\n",
        "var  = ['CAP_HIDRATADO','CAP_ANIDRO','TANCAGEM_ETANOL','TANCAGEM_DIESEL','Vol_Total','Freq','Vol_Medio']\n",
        "\n",
        "res_a = imp_anual(df_ga, 'ANO',['CNPJ','ANO'],cols, var, ind=False)\n",
        "\n",
        "res_a['REGIAO2'] = [reg[x] for x in res_a['REGIAO']]\n",
        "res_a['REGIAO3'] = np.where(res_a['UF']=='SP', res_a['UF'], res_a['REGIAO2'])"
      ]
    },
    {
      "cell_type": "markdown",
      "metadata": {
        "nteract": {
          "transient": {
            "deleting": false
          }
        }
      },
      "source": [
        "# Salvando dados"
      ]
    },
    {
      "cell_type": "code",
      "execution_count": 24,
      "metadata": {
        "jupyter": {
          "outputs_hidden": false,
          "source_hidden": false
        },
        "nteract": {
          "transient": {
            "deleting": false
          }
        }
      },
      "outputs": [],
      "source": [
        "res_m.to_parquet(abfss_path_enriched + 'usinas/usi03_vendas_impt_mes.parquet', \n",
        "                     storage_options = {'linked_service':linked_service_enriched})\n",
        "res_a.to_parquet(abfss_path_enriched + 'usinas/usi03_vendas_impt_ano.parquet', \n",
        "                     storage_options = {'linked_service':linked_service_enriched})"
      ]
    },
    {
      "cell_type": "code",
      "execution_count": 25,
      "metadata": {
        "jupyter": {
          "outputs_hidden": false,
          "source_hidden": false
        },
        "nteract": {
          "transient": {
            "deleting": false
          }
        }
      },
      "outputs": [],
      "source": [
        "def agrup_graf(df, geo='UF'):\n",
        "    aux = df.set_index('Data')\n",
        "    aux = aux.groupby([geo])['Vol_Total'].resample('MS').sum()\n",
        "    aux = aux.unstack(level=0)\n",
        "    #aux.columns = aux.columns.droplevel(0)\n",
        "    aux = aux.rename_axis(None, axis=1)\n",
        "    return(aux)"
      ]
    },
    {
      "cell_type": "code",
      "execution_count": 27,
      "metadata": {
        "jupyter": {
          "outputs_hidden": false,
          "source_hidden": false
        },
        "nteract": {
          "transient": {
            "deleting": false
          }
        }
      },
      "outputs": [],
      "source": [
        "multi_plot(agrup_graf(res_m, geo='REGIAO3'))"
      ]
    }
  ],
  "metadata": {
    "description": null,
    "kernelspec": {
      "display_name": "Synapse PySpark",
      "name": "synapse_pyspark"
    },
    "language_info": {
      "name": "python"
    },
    "save_output": true
  },
  "nbformat": 4,
  "nbformat_minor": 2
}
