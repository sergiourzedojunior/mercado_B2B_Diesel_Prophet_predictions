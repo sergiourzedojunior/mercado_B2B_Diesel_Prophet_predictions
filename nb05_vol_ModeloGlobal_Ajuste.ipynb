{
  "cells": [
    {
      "cell_type": "markdown",
      "metadata": {
        "nteract": {
          "transient": {
            "deleting": false
          }
        }
      },
      "source": [
        "# Previsões do Modelo Global x Previsões de Vendas Vibra"
      ]
    },
    {
      "cell_type": "markdown",
      "metadata": {
        "nteract": {
          "transient": {
            "deleting": false
          }
        }
      },
      "source": [
        "# Setup Inicial"
      ]
    },
    {
      "cell_type": "markdown",
      "metadata": {},
      "source": [
        "## Imporação das bibliotecas"
      ]
    },
    {
      "cell_type": "code",
      "execution_count": 1,
      "metadata": {
        "jupyter": {
          "outputs_hidden": false,
          "source_hidden": false
        },
        "nteract": {
          "transient": {
            "deleting": false
          }
        }
      },
      "outputs": [],
      "source": [
        "# Manipulação de dados\n",
        "import numpy as np\n",
        "import pandas as pd\n",
        "import json\n",
        "\n",
        "# Manipulação de datas\n",
        "from time import strftime\n",
        "from datetime import datetime\n",
        "import pytz\n",
        "\n",
        "# alertas e mensagens de execução\n",
        "import logging\n",
        "import warnings\n",
        "\n",
        "# Visualização\n",
        "import matplotlib.pyplot as plt\n",
        "import plotly\n",
        "from plotly.subplots import make_subplots\n",
        "import plotly.graph_objects as go\n",
        "from plotly.graph_objs import *\n",
        "\n",
        "# Prophet para previsão de series de tempo\n",
        "from prophet import Prophet\n"
      ]
    },
    {
      "cell_type": "markdown",
      "metadata": {
        "nteract": {
          "transient": {
            "deleting": false
          }
        }
      },
      "source": [
        "## Definições Gerais"
      ]
    },
    {
      "cell_type": "code",
      "execution_count": 2,
      "metadata": {
        "jupyter": {
          "outputs_hidden": false,
          "source_hidden": false
        },
        "nteract": {
          "transient": {
            "deleting": false
          }
        }
      },
      "outputs": [],
      "source": [
        "# usado para remover as mensagens de output de processamento dos modelos prophet.\n",
        "cmdstanpy_logger = logging.getLogger(\"cmdstanpy\")\n",
        "cmdstanpy_logger.disabled = True"
      ]
    },
    {
      "cell_type": "code",
      "execution_count": 3,
      "metadata": {
        "jupyter": {
          "outputs_hidden": false,
          "source_hidden": false
        },
        "nteract": {
          "transient": {
            "deleting": false
          }
        }
      },
      "outputs": [],
      "source": [
        "# definção dos diretórios relativos\n",
        "\n",
        "# replace with your container name\n",
        "blob_container_name = 'general' \n",
        "\n",
        "# replace with your relative folder path\n",
        "blob_relative_path_raw = 'raw/mercado_potencial/'\n",
        "blob_relative_path_enriched = 'enriched/mercado_potencial/'\n",
        "\n",
        "\n",
        "# replace with your linked service name\n",
        "linked_service_raw = 'LS_ADLS_RAW_01'\n",
        "linked_service_enriched = 'LS_ADLS_ENRICHED_01'\n",
        "\n",
        "ls_raw = mssparkutils.credentials.getPropertiesAll(linked_service_raw)\n",
        "ls_enriched = mssparkutils.credentials.getPropertiesAll(linked_service_enriched)\n",
        "\n",
        "converter_dic_raw = json.loads(ls_raw)\n",
        "converter_dic_enriched = json.loads(ls_enriched)\n",
        "\n",
        "end_point_raw = (converter_dic_raw['Endpoint'].split(\"/\"))[2]\n",
        "end_point_enriched = (converter_dic_enriched['Endpoint'].split(\"/\"))[2]\n",
        "\n",
        "\n",
        "dir_raw = 'abfss://%s@%s/%s' % (blob_container_name, end_point_raw, blob_relative_path_raw)\n",
        "dir_enriched = 'abfss://%s@%s/%s' % (blob_container_name, end_point_enriched, blob_relative_path_enriched)\n"
      ]
    },
    {
      "cell_type": "markdown",
      "metadata": {},
      "source": [
        "## Funções auxiliares"
      ]
    },
    {
      "cell_type": "code",
      "execution_count": 4,
      "metadata": {},
      "outputs": [],
      "source": [
        "def modelo_final (dados, periodos = 12):\n",
        "    r\"\"\"Ajusta modelo prophet de serie temporal.\n",
        "\n",
        "        Define, ajusta e prevê modelo de serie temporal baseado na biblioteca prophet.\n",
        "        Modelo com a possibilidade de inclusão de variáveis regressoras. \n",
        "        \n",
        "    Parameters\n",
        "    ----------\n",
        "    dados: pd.DataFrame \n",
        "        Dataframe com variáveis exigidas para a criação do modelo prophet.\n",
        "        No dataframe deve conter, obrigatoriamente, coluna 'ds': datatime da série e \n",
        "        'y': variável alvo do modelo.\n",
        "        As variáveis regressoras, quando existire, devem estar presentes no mesmo dataframe.\n",
        "    periodos: int\n",
        "        Períodos, em meses, a serem previstos pelo modelo.\n",
        "        Por padrão, doi feinido 12 meses a serem previstos.\n",
        "    \n",
        "    Returns\n",
        "    -------\n",
        "    previsao: pd.DataFrame\n",
        "        Dataframe com os resultados do predict model adcionada das variáveis de input do modelo.\n",
        "    modelo: prophet model\n",
        "        Modelo prophet ajustado (fitted) \n",
        "    \"\"\"\n",
        "\n",
        "    regressores = dados.columns.to_list()[2:]       # os 2 primeiros são DataTime e o Y da serie temporal\n",
        "\n",
        "    lst_results = ['ds','yhat','yhat_lower', 'yhat_upper',\n",
        "                   'trend', 'trend_lower', 'trend_upper',\n",
        "                   'yearly', 'yearly_lower', 'yearly_upper']\n",
        "    \n",
        "    modelo = Prophet(seasonality_mode='multiplicative',\n",
        "                     yearly_seasonality=True, \n",
        "                     weekly_seasonality=False,\n",
        "                     daily_seasonality=False,\n",
        "                     changepoint_range=0.8,\n",
        "                     changepoint_prior_scale=0.05)\n",
        "\n",
        "    for i in range(len(regressores)):               # passeia por cada lista agregativa\n",
        "        modelo.add_regressor(regressores[i], standardize=False)\n",
        "                \n",
        "    modelo.fit(dados)\n",
        "\n",
        "    futuro = modelo.make_future_dataframe(periods=periodos, freq='MS') #MS início do mês \n",
        "    futuro = pd.merge(futuro, dados, on='ds', how='outer')\n",
        "    futuro = futuro.fillna(method='ffill')\n",
        "    \n",
        "    previsao = modelo.predict(futuro)\n",
        "    previsao = pd.merge(previsao[lst_results], dados, on='ds',how='outer') # checar essa função\n",
        "\n",
        "    return(previsao, modelo)"
      ]
    },
    {
      "cell_type": "code",
      "execution_count": 5,
      "metadata": {
        "jupyter": {
          "outputs_hidden": false,
          "source_hidden": false
        },
        "nteract": {
          "transient": {
            "deleting": false
          }
        }
      },
      "outputs": [],
      "source": [
        "def process_modelos (dados, lista):\n",
        "    r\"\"\"Processa o modelo e prepara os resultados para salvaguarda.\n",
        "\n",
        "        Auxilia no processamento em lote de todos os modelos definidos. \n",
        "        \n",
        "    Parameters\n",
        "    ----------\n",
        "    dt: pd.DataFrame\n",
        "        Dataframe com os dados a serem processados\n",
        "    lista: lista de strings \n",
        "        Lista com o nome das váriaveis escolhidas para o modelo    \n",
        "    Returns\n",
        "    -------\n",
        "    previsao: pd.DataFrame\n",
        "        Dataframe com os resultados do predict model adcionada das variáveis de input do modelo.\n",
        "        Nele a variável alvo do modelo \"y\" retoma o nome original do dataset, com o prefixo 'y_'\n",
        "        deixando clara que as demais informações 'yhat', 'trend', 'yearly' e seus intervalos de confiança\n",
        "        foram obtidos por meio do 'y_' e demais regressoras do dataset. \n",
        "    \"\"\"\n",
        "    data = dados[lista]\n",
        "    data.reset_index(drop=True,inplace=True)\n",
        "    #data.columns = data.columns.str.replace('data', 'ds')\n",
        "    data.columns = data.columns.str.replace(lista[1], 'y')\n",
        "    \n",
        "    previsao, modelo  = modelo_final(data)\n",
        "    previsao.insert(1, 'y_'+lista[1], previsao['y'])\n",
        "    previsao.drop('y',axis=1,inplace=True)\n",
        "\n",
        "    return(previsao)"
      ]
    },
    {
      "cell_type": "code",
      "execution_count": 6,
      "metadata": {
        "jupyter": {
          "outputs_hidden": false,
          "source_hidden": false
        },
        "nteract": {
          "transient": {
            "deleting": false
          }
        }
      },
      "outputs": [],
      "source": [
        "def ajustar_data(df):\n",
        "    \"\"\"Cria data a partir de dados de ano e mês separados.\n",
        "\n",
        "        Ajusta e cria coluna em dataframe a partir de informações de \n",
        "        ano e mês separadas e em formato string. \n",
        "        \n",
        "    Parâmetros\n",
        "    ----------\n",
        "    df: pd.DdataFrame\n",
        "        Dataframe contendo as colunas 'Ano de MESANO' e 'Num mês'\n",
        "    \n",
        "    Retorno\n",
        "    -------\n",
        "    df: pd.DdataFrame\n",
        "        Dataframe contendo a coluna 'Data' em formato datatime\n",
        "    \"\"\"\n",
        "\n",
        "    df['Data'] = pd.to_datetime(['-'.join(i) for i in zip(df['Ano de MESANO'].map(str),df['Num mês'].map(str))],format='%Y-%m')\n",
        "    df.sort_values(by='Data', inplace=True)\n",
        "    df = df.set_index('Data', drop=True)\n",
        "    return (df)"
      ]
    },
    {
      "cell_type": "markdown",
      "metadata": {
        "nteract": {
          "transient": {
            "deleting": false
          }
        }
      },
      "source": [
        "# Ajuste do Modelo Global para TRR e para Consumidor Final"
      ]
    },
    {
      "cell_type": "markdown",
      "metadata": {},
      "source": [
        "## Resgate dos dados a serem usados nos modelos"
      ]
    },
    {
      "cell_type": "code",
      "execution_count": 7,
      "metadata": {
        "jupyter": {
          "outputs_hidden": false,
          "source_hidden": false
        },
        "nteract": {
          "transient": {
            "deleting": false
          }
        }
      },
      "outputs": [],
      "source": [
        "dinamica   = pd.read_parquet(dir_enriched + 'volumetria/vol04_dinamica_diesel.parquet',\n",
        "                                storage_options = {'linked_service' : linked_service_enriched})\n",
        "dinamica_par   = pd.read_parquet(dir_enriched + 'volumetria/vol04_dinamica_diesel_parcial.parquet',\n",
        "                                storage_options = {'linked_service' : linked_service_enriched})\n",
        "cons_final = pd.read_parquet(dir_enriched + 'volumetria/vol04_metricas_global_ConsFinal.parquet',\n",
        "                                storage_options = {'linked_service' : linked_service_enriched})\n",
        "trr = pd.read_parquet(dir_enriched + 'volumetria/vol04_metricas_global_TRR.parquet',\n",
        "                                storage_options = {'linked_service' : linked_service_enriched})"
      ]
    },
    {
      "cell_type": "markdown",
      "metadata": {
        "nteract": {
          "transient": {
            "deleting": false
          }
        }
      },
      "source": [
        "## Lista de variáveis que serão ajustadas em seus respectivos modelos"
      ]
    },
    {
      "cell_type": "code",
      "execution_count": 8,
      "metadata": {
        "jupyter": {
          "outputs_hidden": false,
          "source_hidden": false
        },
        "nteract": {
          "transient": {
            "deleting": false
          }
        }
      },
      "outputs": [],
      "source": [
        "Best_Reg_CF = cons_final[cons_final.MAPE == cons_final.MAPE.min()].iloc[0,:][1].tolist()\n",
        "lista_CF = dinamica.columns[0:2].tolist() # usando a variável de Volume\n",
        "lista_CF.extend(Best_Reg_CF)"
      ]
    },
    {
      "cell_type": "code",
      "execution_count": 9,
      "metadata": {
        "jupyter": {
          "outputs_hidden": false,
          "source_hidden": false
        },
        "nteract": {
          "transient": {
            "deleting": false
          }
        }
      },
      "outputs": [],
      "source": [
        "Best_Reg_TRR = trr[trr.MAPE == trr.MAPE.min()].iloc[0,:][1].tolist()\n",
        "lista_TRR = dinamica.columns[[0,3]].tolist() # usando a variável de volume\n",
        "lista_TRR.extend(Best_Reg_TRR)"
      ]
    },
    {
      "cell_type": "markdown",
      "metadata": {},
      "source": [
        "## Definindo Variáveis dos Modelos"
      ]
    },
    {
      "cell_type": "code",
      "execution_count": 10,
      "metadata": {
        "jupyter": {
          "outputs_hidden": false,
          "source_hidden": false
        },
        "nteract": {
          "transient": {
            "deleting": false
          }
        }
      },
      "outputs": [],
      "source": [
        "dict_var = {\n",
        "            'ConsFinal':  lista_CF,\n",
        "            'TRR'      :  lista_TRR,\n",
        "}"
      ]
    },
    {
      "cell_type": "markdown",
      "metadata": {
        "nteract": {
          "transient": {
            "deleting": false
          }
        }
      },
      "source": [
        "## Processa e salva todos os resultados dos modelos"
      ]
    },
    {
      "cell_type": "code",
      "execution_count": 11,
      "metadata": {
        "jupyter": {
          "outputs_hidden": false,
          "source_hidden": false
        },
        "nteract": {
          "transient": {
            "deleting": false
          }
        }
      },
      "outputs": [],
      "source": [
        "for i in range(len(dict_var)):\n",
        "    prev = process_modelos(dinamica_par,list(dict_var.values())[i])\n",
        "\n",
        "    #salvando data em formato string para auxiliar nos relatórios e visualizações do Tableau\n",
        "    data_str = prev['ds'].dt.strftime('%Y-%m-%d').astype('string')     \n",
        "    prev.insert(1, 'data_str',data_str, True)\n",
        "    if prev.columns[2] == 'y_Indice_ConsumidorFinal':\n",
        "        prev = pd.merge(prev,dinamica_par[['ds','Volume_ConsumidorFinal']] , on='ds',how='outer') # checar essa função\n",
        "    else:\n",
        "        prev = pd.merge(prev,dinamica_par[['ds','Volume_TRR']] , on='ds',how='outer') # checar essa função\n",
        "\n",
        "    prev.to_parquet(dir_enriched + 'volumetria/vol05_prev_global_' + \n",
        "                                     list(dict_var.keys())[i] +\n",
        "                                     '.parquet', \n",
        "                      storage_options = {'linked_service':linked_service_enriched})"
      ]
    },
    {
      "cell_type": "markdown",
      "metadata": {
        "nteract": {
          "transient": {
            "deleting": false
          }
        }
      },
      "source": [
        "# Exposição dos Resultados"
      ]
    },
    {
      "cell_type": "markdown",
      "metadata": {
        "nteract": {
          "transient": {
            "deleting": false
          }
        }
      },
      "source": [
        "## Resgatando dados das Previsões Globais TRR e Consumidor Final"
      ]
    },
    {
      "cell_type": "code",
      "execution_count": 12,
      "metadata": {
        "jupyter": {
          "outputs_hidden": false,
          "source_hidden": false
        },
        "nteract": {
          "transient": {
            "deleting": false
          }
        }
      },
      "outputs": [],
      "source": [
        "cf = pd.read_parquet(dir_enriched + 'volumetria/vol05_prev_global_ConsFinal.parquet',\n",
        "                        storage_options = {'linked_service' : linked_service_enriched})\n",
        "trr = pd.read_parquet(dir_enriched + 'volumetria/vol05_prev_global_TRR.parquet',\n",
        "                        storage_options = {'linked_service' : linked_service_enriched})"
      ]
    },
    {
      "cell_type": "code",
      "execution_count": 13,
      "metadata": {
        "jupyter": {
          "outputs_hidden": false,
          "source_hidden": false
        },
        "nteract": {
          "transient": {
            "deleting": false
          }
        }
      },
      "outputs": [],
      "source": [
        "# filtrando dados a partir de 2016\n",
        "cf = cf[cf['ds']>='2016']\n",
        "trr = trr[trr['ds']>='2016']"
      ]
    },
    {
      "cell_type": "markdown",
      "metadata": {
        "nteract": {
          "transient": {
            "deleting": false
          }
        }
      },
      "source": [
        "## Resgatando dados das Previsões de Vendas Vibra - Vegetativo"
      ]
    },
    {
      "cell_type": "code",
      "execution_count": 14,
      "metadata": {
        "jupyter": {
          "outputs_hidden": false,
          "source_hidden": false
        },
        "nteract": {
          "transient": {
            "deleting": false
          }
        }
      },
      "outputs": [],
      "source": [
        "prev_vibra  = pd.read_parquet(dir_enriched + 'volumetria/vol01_prev_vegetativo.parquet',\n",
        "                                storage_options = {'linked_service' : linked_service_enriched})\n",
        "\n"
      ]
    },
    {
      "cell_type": "code",
      "execution_count": 15,
      "metadata": {
        "jupyter": {
          "outputs_hidden": false,
          "source_hidden": false
        },
        "nteract": {
          "transient": {
            "deleting": false
          }
        }
      },
      "outputs": [],
      "source": [
        "prev_cf  = prev_vibra[prev_vibra['Atv_Economica']=='CONSUMIDOR FINAL']\n",
        "prev_trr = prev_vibra[prev_vibra['Atv_Economica']=='TRR']"
      ]
    },
    {
      "cell_type": "code",
      "execution_count": 16,
      "metadata": {
        "jupyter": {
          "outputs_hidden": false,
          "source_hidden": false
        },
        "nteract": {
          "transient": {
            "deleting": false
          }
        }
      },
      "outputs": [],
      "source": [
        "prev_cf  = prev_cf[:-1] # remover o último mês  - normalmente mês corrente - dados imcompletos\n",
        "prev_trr = prev_trr[:-1]"
      ]
    },
    {
      "cell_type": "markdown",
      "metadata": {
        "nteract": {
          "transient": {
            "deleting": false
          }
        }
      },
      "source": [
        "## Gráfico Comparativo"
      ]
    },
    {
      "cell_type": "code",
      "execution_count": 17,
      "metadata": {
        "jupyter": {
          "outputs_hidden": false,
          "source_hidden": false
        },
        "nteract": {
          "transient": {
            "deleting": false
          }
        }
      },
      "outputs": [],
      "source": [
        "# informações\n",
        "# primeiro dado nan - mes ainda a ser disponibilizado o pib\n",
        "pri = dinamica.loc[pd.isna(dinamica['PIB_Exportacao']), :] #primeiro nan\n",
        "fim = dinamica['ds'].max()\n",
        "#pri = pri.strftime('%Y-%m')"
      ]
    },
    {
      "cell_type": "code",
      "execution_count": 18,
      "metadata": {
        "jupyter": {
          "outputs_hidden": false,
          "source_hidden": false
        },
        "nteract": {
          "transient": {
            "deleting": false
          }
        }
      },
      "outputs": [],
      "source": [
        "\n",
        "fig = make_subplots(rows=2, cols=1,\n",
        "                    y_title='Volume (m³)',\n",
        "                    subplot_titles=('Consumidor Final', 'TRR',),\n",
        "                    shared_yaxes=False,\n",
        "                    vertical_spacing=0.1 )\n",
        "\n",
        "# grafico 01\n",
        "fig.add_trace(go.Scatter(\n",
        "            x = cf['ds'],\n",
        "            y = cf['yhat'],\n",
        "            line = dict(color='red', width=3),\n",
        "            name = 'Global',\n",
        "            legendgroup = 'Global',\n",
        "            showlegend=True),\n",
        "    row=1, col=1)\n",
        "\n",
        "fig.add_trace(go.Scatter(\n",
        "            x = prev_cf['ds'],\n",
        "            y = prev_cf['yhat'],\n",
        "            line = {'color': 'green'},\n",
        "            name = 'Vegetativo VIBRA',\n",
        "            legendgroup = 'Veg_VIBRA',\n",
        "            showlegend=True),\n",
        "    row=1, col=1)\n",
        "\n",
        "# grafico 02\n",
        "fig.add_trace(go.Scatter(\n",
        "            x = trr['ds'],\n",
        "            y = trr['yhat'],\n",
        "            line = dict(color='red', width=3),\n",
        "            name = 'Global',\n",
        "            legendgroup = 'Global',\n",
        "            showlegend=False),\n",
        "    row=2, col=1)\n",
        "\n",
        "fig.add_trace(go.Scatter(\n",
        "            x = prev_trr['ds'],\n",
        "            y = prev_trr['yhat'],\n",
        "            line = {'color': 'green'},\n",
        "            name = 'Vegetativo VIBRA',\n",
        "            legendgroup = 'Veg_VIBRA',\n",
        "            showlegend=False),\n",
        "    row=2, col=1)\n",
        "\n",
        "if len(pri)>0:\n",
        "    fig.add_annotation(\n",
        "            text= ('<b>Nota: </b> <br>De ' + pri.index[0].strftime('%b de %Y') +' a ' + fim.strftime('%b de %Y')) + \n",
        "            (' algumas regressoras tiveram imputação de dado por meio de médias móveis.<br>Pois, estas ainda não foram disponibilizadas pelas suas fontes geradoras.'),\n",
        "            showarrow=False,\n",
        "            font=dict(size=12),\n",
        "            align=\"left\",\n",
        "            x=0.0,\n",
        "            y=-0.2,\n",
        "            xref='paper',\n",
        "            yref='paper',\n",
        "            xanchor='left',\n",
        "            yanchor='bottom',\n",
        "            xshift=-1,\n",
        "            yshift=-5)\n",
        "\n",
        "fig.add_annotation(\n",
        "            showarrow=False,\n",
        "            text='Gerado em ' + datetime.now().strftime(\"%d %b %Y às %H:%M:%S\"),\n",
        "            font=dict(size=12),\n",
        "            align=\"right\",\n",
        "            x=1.18,\n",
        "            y=-0.2,\n",
        "            xref='paper',\n",
        "            yref='paper',\n",
        "            xanchor='right',\n",
        "            yanchor='bottom',)\n",
        "    \n",
        "fig.update_xaxes(matches='x', rangeslider_visible=True, rangeslider_thickness = 0.05)\n",
        "fig.update_xaxes(rangeslider= {'visible':False}, row=1, col=1)\n",
        "\n",
        "fig.update_layout(\n",
        "            title = 'Previsão de Vendas Diesel' + '<br><sup>'+ 'jan/2016 - nov/2023' + '</sup>',\n",
        "            #xaxis_title = \"Período\",\n",
        "            #yaxis_title = \"y_label\",\n",
        "            legend_title = \"Legenda\",\n",
        "            font=dict(\n",
        "                family = \"Courier New, monospace\",\n",
        "                size = 14,\n",
        "                color = \"royalblue\"),\n",
        "            height=900\n",
        ")\n",
        "fig.show()\n",
        "fig = plotly.offline.plot(fig, output_type='div')\n",
        "displayHTML(fig)\n"
      ]
    },
    {
      "cell_type": "markdown",
      "metadata": {
        "nteract": {
          "transient": {
            "deleting": false
          }
        }
      },
      "source": [
        "# Acesso à Documentação"
      ]
    },
    {
      "cell_type": "code",
      "execution_count": 19,
      "metadata": {
        "jupyter": {
          "outputs_hidden": false,
          "source_hidden": false
        },
        "nteract": {
          "transient": {
            "deleting": false
          }
        }
      },
      "outputs": [],
      "source": [
        "help(modelo_final)"
      ]
    },
    {
      "cell_type": "code",
      "execution_count": 20,
      "metadata": {
        "jupyter": {
          "outputs_hidden": false,
          "source_hidden": false
        },
        "nteract": {
          "transient": {
            "deleting": false
          }
        }
      },
      "outputs": [],
      "source": [
        "help(process_modelos)"
      ]
    },
    {
      "cell_type": "code",
      "execution_count": 21,
      "metadata": {
        "jupyter": {
          "outputs_hidden": false,
          "source_hidden": false
        },
        "nteract": {
          "transient": {
            "deleting": false
          }
        }
      },
      "outputs": [],
      "source": [
        "help(ajustar_data)"
      ]
    }
  ],
  "metadata": {
    "description": null,
    "kernelspec": {
      "display_name": "Synapse PySpark",
      "name": "synapse_pyspark"
    },
    "language_info": {
      "name": "python"
    },
    "save_output": true
  },
  "nbformat": 4,
  "nbformat_minor": 2
}
