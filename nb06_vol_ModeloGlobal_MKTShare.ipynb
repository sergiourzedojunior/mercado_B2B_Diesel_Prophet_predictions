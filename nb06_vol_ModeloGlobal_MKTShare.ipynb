{
  "cells": [
    {
      "cell_type": "markdown",
      "metadata": {
        "nteract": {
          "transient": {
            "deleting": false
          }
        }
      },
      "source": [
        "# Previsões do Modelo Global x Previsões de Vendas Vibra"
      ]
    },
    {
      "cell_type": "markdown",
      "metadata": {
        "nteract": {
          "transient": {
            "deleting": false
          }
        }
      },
      "source": [
        "## Histórico de Atualizações"
      ]
    },
    {
      "cell_type": "markdown",
      "metadata": {
        "nteract": {
          "transient": {
            "deleting": false
          }
        }
      },
      "source": [
        "# Setup Inicial"
      ]
    },
    {
      "cell_type": "markdown",
      "metadata": {},
      "source": [
        "## Imporação das bibliotecas"
      ]
    },
    {
      "cell_type": "code",
      "execution_count": 1,
      "metadata": {
        "jupyter": {
          "outputs_hidden": false,
          "source_hidden": false
        },
        "nteract": {
          "transient": {
            "deleting": false
          }
        }
      },
      "outputs": [],
      "source": [
        "# Manipulação de dados\n",
        "import numpy as np\n",
        "import pandas as pd\n",
        "import json\n",
        "\n",
        "# Calculo de estatisticas\n",
        "from scipy import stats\n",
        "\n",
        "# Manipulação de datas\n",
        "from time import strftime\n",
        "from datetime import datetime\n",
        "import pytz\n",
        "from dateutil.relativedelta import relativedelta\n",
        "\n",
        "# alertas e mensagens de execução\n",
        "import logging\n",
        "import warnings\n",
        "\n",
        "# Visualização\n",
        "import matplotlib.pyplot as plt\n",
        "import plotly\n",
        "from plotly.subplots import make_subplots\n",
        "import plotly.graph_objects as go\n",
        "from plotly.graph_objs import *\n",
        "\n",
        "# Prophet para previsão de series de tempo\n",
        "from prophet import Prophet\n"
      ]
    },
    {
      "cell_type": "markdown",
      "metadata": {
        "nteract": {
          "transient": {
            "deleting": false
          }
        }
      },
      "source": [
        "## Definições Gerais"
      ]
    },
    {
      "cell_type": "code",
      "execution_count": 2,
      "metadata": {
        "jupyter": {
          "outputs_hidden": false,
          "source_hidden": false
        },
        "nteract": {
          "transient": {
            "deleting": false
          }
        }
      },
      "outputs": [],
      "source": [
        "# usado para remover as mensagens de output de processamento dos modelos prophet.\n",
        "cmdstanpy_logger = logging.getLogger(\"cmdstanpy\")\n",
        "cmdstanpy_logger.disabled = True"
      ]
    },
    {
      "cell_type": "code",
      "execution_count": 3,
      "metadata": {
        "jupyter": {
          "outputs_hidden": false,
          "source_hidden": false
        },
        "nteract": {
          "transient": {
            "deleting": false
          }
        }
      },
      "outputs": [],
      "source": [
        "# definção dos diretórios relativos\n",
        "\n",
        "# replace with your container name\n",
        "blob_container_name = 'general' \n",
        "\n",
        "# replace with your relative folder path\n",
        "blob_relative_path_raw = 'raw/mercado_potencial/'\n",
        "blob_relative_path_enriched = 'enriched/mercado_potencial/'\n",
        "\n",
        "\n",
        "# replace with your linked service name\n",
        "linked_service_raw = 'LS_ADLS_RAW_01'\n",
        "linked_service_enriched = 'LS_ADLS_ENRICHED_01'\n",
        "\n",
        "ls_raw = mssparkutils.credentials.getPropertiesAll(linked_service_raw)\n",
        "ls_enriched = mssparkutils.credentials.getPropertiesAll(linked_service_enriched)\n",
        "\n",
        "converter_dic_raw = json.loads(ls_raw)\n",
        "converter_dic_enriched = json.loads(ls_enriched)\n",
        "\n",
        "end_point_raw = (converter_dic_raw['Endpoint'].split(\"/\"))[2]\n",
        "end_point_enriched = (converter_dic_enriched['Endpoint'].split(\"/\"))[2]\n",
        "\n",
        "\n",
        "dir_raw = 'abfss://%s@%s/%s' % (blob_container_name, end_point_raw, blob_relative_path_raw)\n",
        "dir_enriched = 'abfss://%s@%s/%s' % (blob_container_name, end_point_enriched, blob_relative_path_enriched)\n"
      ]
    },
    {
      "cell_type": "code",
      "execution_count": 4,
      "metadata": {
        "jupyter": {
          "outputs_hidden": false,
          "source_hidden": false
        },
        "nteract": {
          "transient": {
            "deleting": false
          }
        }
      },
      "outputs": [],
      "source": [
        "# # getting linked services connection string \n",
        "# adls_account_name = 'stedlk01dtandev'  \n",
        "# sas_key = r\"9999\"\n",
        "\n",
        "# dir_enriched = 'abfss://general@stedlk02dtandev.dfs.core.windows.net/enriched/mercado_potencial/'\n",
        "# ls_enriched = 'LS_ADLS_ENRICHED_01'"
      ]
    },
    {
      "cell_type": "markdown",
      "metadata": {},
      "source": [
        "## Funções Auxiliares"
      ]
    },
    {
      "cell_type": "code",
      "execution_count": 5,
      "metadata": {},
      "outputs": [],
      "source": [
        "def modelo_final (dados, periodos = 12):\n",
        "    r\"\"\"Ajusta modelo prophet de serie temporal.\n",
        "\n",
        "        Define, ajusta e prevê modelo de serie temporal baseado na biblioteca prophet.\n",
        "        Modelo com a possibilidade de inclusão de variáveis regressoras. \n",
        "        \n",
        "    Parameters\n",
        "    ----------\n",
        "    dados: pd.DataFrame \n",
        "        Dataframe com variáveis exigidas para a criação do modelo prophet.\n",
        "        No dataframe deve conter, obrigatoriamente, coluna 'ds': datatime da série e \n",
        "        'y': variável alvo do modelo.\n",
        "        As variáveis regressoras, quando existire, devem estar presentes no mesmo dataframe.\n",
        "    periodos: int\n",
        "        Períodos, em meses, a serem previstos pelo modelo.\n",
        "        Por padrão, doi feinido 12 meses a serem previstos.\n",
        "    \n",
        "    Returns\n",
        "    -------\n",
        "    previsao: pd.DataFrame\n",
        "        Dataframe com os resultados do predict model adcionada das variáveis de input do modelo.\n",
        "    modelo: prophet model\n",
        "        Modelo prophet ajustado (fitted) \n",
        "    \"\"\"\n",
        "\n",
        "    regressores = dados.columns.to_list()[2:]       # os 2 primeiros são DataTime e o Y da serie temporal\n",
        "\n",
        "    lst_results = ['ds','yhat','yhat_lower', 'yhat_upper',\n",
        "                   'trend', 'trend_lower', 'trend_upper',\n",
        "                   'yearly', 'yearly_lower', 'yearly_upper']\n",
        "    \n",
        "    modelo = Prophet(seasonality_mode='multiplicative',\n",
        "                     yearly_seasonality=True, \n",
        "                     weekly_seasonality=False,\n",
        "                     daily_seasonality=False,\n",
        "                     changepoint_range=0.8,\n",
        "                     changepoint_prior_scale=0.05)\n",
        "\n",
        "    for i in range(len(regressores)):               # passeia por cada lista agregativa\n",
        "        modelo.add_regressor(regressores[i], standardize=False)\n",
        "                \n",
        "    modelo.fit(dados)\n",
        "\n",
        "    futuro = modelo.make_future_dataframe(periods=periodos, freq='MS') #MS início do mês \n",
        "    futuro = pd.merge(futuro, dados, on='ds', how='outer')\n",
        "    futuro = futuro.fillna(method='ffill')\n",
        "    \n",
        "    previsao = modelo.predict(futuro)\n",
        "    previsao = pd.merge(previsao[lst_results], dados, on='ds',how='outer') \n",
        "\n",
        "    return(previsao, modelo)"
      ]
    },
    {
      "cell_type": "code",
      "execution_count": 6,
      "metadata": {
        "jupyter": {
          "outputs_hidden": false,
          "source_hidden": false
        },
        "nteract": {
          "transient": {
            "deleting": false
          }
        }
      },
      "outputs": [],
      "source": [
        "def prev_mkt(data, dados, lista_emp, lista_reg):\n",
        "    \"\"\" Chamada de previsao dos modelos por empresa para o MKTShare\n",
        "\n",
        "        Chamada de modelos e ajuste dos resultados previstos em único dataframe com coluna que diferencia as \"Empresas\"\n",
        "\n",
        "    Parâmetros:\n",
        "    ------------    \n",
        "        data: pd.DataFrame\n",
        "            Dataframe com as informações do mktshare ajusado\n",
        "        lista_reg: lista de strings\n",
        "            lista com o nome das coluna que serão ajustadas no modelo\n",
        "\n",
        "    Retorno:\n",
        "    -----------\n",
        "        prev: pd.DataFrame\n",
        "            Dataframe com as previsões associadas aos dados originais da dinamica e do MKTShare\n",
        "    \"\"\"\n",
        "    prev = pd.DataFrame()\n",
        "    for i in lista_emp:\n",
        "        filtro = data['Empresa']==i\n",
        "        df = data[filtro].iloc[:,0:2]           # remove a coluna Empresa\n",
        "        df.reset_index(drop=True, inplace=True)\n",
        "        df2 = pd.merge(df, dados, on='ds')      # agrega a dinamica\n",
        "        previsao, mod = modelo_final(df2[lista_reg])\n",
        "        previsao['Empresa'] = i                 # insere a coluna empresa no dataframee previsao\n",
        "        prev = pd.concat([prev,previsao], ignore_index=True)\n",
        "    return(prev)"
      ]
    },
    {
      "cell_type": "code",
      "execution_count": 7,
      "metadata": {
        "jupyter": {
          "outputs_hidden": false,
          "source_hidden": false
        },
        "nteract": {
          "transient": {
            "deleting": false
          }
        }
      },
      "outputs": [],
      "source": [
        "def ajustar_data(df):\n",
        "    \"\"\"Cria data a partir de dados de ano e mês separados.\n",
        "\n",
        "        Ajusta e cria coluna em dataframe a partir de informações de \n",
        "        ano e mês separadas e em formato string. \n",
        "        \n",
        "    Parâmetros\n",
        "    ----------\n",
        "    df: pd.DdataFrame\n",
        "        Dataframe contendo as colunas 'Ano de MESANO' e 'Num mês'\n",
        "    \n",
        "    Retorno\n",
        "    -------\n",
        "    df: pd.DdataFrame\n",
        "        Dataframe contendo a coluna 'Data' em formato datatime\n",
        "    \"\"\"\n",
        "\n",
        "    df['Data'] = pd.to_datetime(['-'.join(i) for i in zip(df['Ano de MESANO'].map(str),df['Num mês'].map(str))],format='%Y-%m')\n",
        "    df.sort_values(by='Data', inplace=True)\n",
        "    df = df.set_index('Data', drop=True)\n",
        "    return (df)"
      ]
    },
    {
      "cell_type": "code",
      "execution_count": 8,
      "metadata": {
        "jupyter": {
          "outputs_hidden": false,
          "source_hidden": false
        },
        "nteract": {
          "transient": {
            "deleting": false
          }
        }
      },
      "outputs": [],
      "source": [
        "def ajusta_mkt (df):\n",
        "    \"\"\" Remove colunas não utilizadas\n",
        "\n",
        "        Remove colunas desnecessárias e renomeia as utilizadas\n",
        "    Parâmetros:\n",
        "    -----------\n",
        "    df: pd.DataFrame\n",
        "        Dataframe original, com as culunas a serem removidas:\n",
        "            - 'Ano de MESANO';\n",
        "            - 'Num mês';\n",
        "            -  'Mês de MESANO';\n",
        "            - 'Nomes de medida'.\n",
        "    \n",
        "    Retorno:\n",
        "    ----------\n",
        "    df: pd.DataFrame\n",
        "        Dataframe ajustado e com colunas renomeadas\n",
        "\n",
        "    \"\"\"\n",
        "    df = df.drop(['Ano de MESANO', 'Num mês', 'Mês de MESANO','Nomes de medida'], axis=1)\n",
        "    df.reset_index(drop=False, inplace=True)\n",
        "    df.columns = ['ds','Empresa', 'y']   # já deixa o dataframe preparado para o parquet\n",
        "    order = [0,2,1]\n",
        "    df = df[df.columns[order]]\n",
        "    return(df)"
      ]
    },
    {
      "cell_type": "code",
      "execution_count": 9,
      "metadata": {
        "jupyter": {
          "outputs_hidden": false,
          "source_hidden": false
        },
        "nteract": {
          "transient": {
            "deleting": false
          }
        }
      },
      "outputs": [],
      "source": [
        "def agrega_global_mkt (df):\n",
        "    \"\"\" Agraga Volume Global ao dataframe de MKT Share\n",
        "\n",
        "        Agrega a coluna 'Empresa' o 'Global' que é o somatório de todas as outras empresas.\n",
        "        Ou seja, recriando o Volume de Vendas para cada segmento conformo os dados da dinamica\n",
        "\n",
        "    Parâmetros:\n",
        "    -----------\n",
        "    df: pd.DataFrame\n",
        "        Dataframe original\n",
        "    \n",
        "    Retorno:\n",
        "    ----------\n",
        "    df: pd.DataFrame\n",
        "        Dataframe ajustado com o Global incorporado as Empresas\n",
        "\n",
        "    \"\"\"\n",
        "\n",
        "    df1 = pd.DataFrame(df.groupby(['ds']).sum().reset_index())\n",
        "    df1['Empresa'] = 'Global'\n",
        "    df2 = pd.concat([df, df1], axis=0, ignore_index=True)\n",
        "\n",
        "    return(df2)"
      ]
    },
    {
      "cell_type": "markdown",
      "metadata": {
        "nteract": {
          "transient": {
            "deleting": false
          }
        }
      },
      "source": [
        "# Resgate dos Dados Dinâmica Global e MKT Share"
      ]
    },
    {
      "cell_type": "markdown",
      "metadata": {},
      "source": [
        "## Dados da Dinâmica Global do Diesel e melhores regressoras para<br/> ajuste dos modelos Globais de TRR e Consumidor Final"
      ]
    },
    {
      "cell_type": "code",
      "execution_count": 10,
      "metadata": {
        "jupyter": {
          "outputs_hidden": false,
          "source_hidden": false
        },
        "nteract": {
          "transient": {
            "deleting": false
          }
        }
      },
      "outputs": [],
      "source": [
        "dinamica   = pd.read_parquet(dir_enriched + 'volumetria/vol04_dinamica_diesel.parquet',\n",
        "                                storage_options = {'linked_service' : linked_service_enriched})\n",
        "dinamica_par   = pd.read_parquet(dir_enriched + 'volumetria/vol04_dinamica_diesel_parcial.parquet',\n",
        "                                storage_options = {'linked_service' : linked_service_enriched})\n",
        "cons_final = pd.read_parquet(dir_enriched + 'volumetria/vol04_metricas_global_ConsFinal.parquet',\n",
        "                                storage_options = {'linked_service' : linked_service_enriched})\n",
        "trr = pd.read_parquet(dir_enriched + 'volumetria/vol04_metricas_global_TRR.parquet',\n",
        "                                storage_options = {'linked_service' : linked_service_enriched})"
      ]
    },
    {
      "cell_type": "markdown",
      "metadata": {
        "nteract": {
          "transient": {
            "deleting": false
          }
        }
      },
      "source": [
        "## Dados do MKT Share"
      ]
    },
    {
      "cell_type": "markdown",
      "metadata": {
        "nteract": {
          "transient": {
            "deleting": false
          }
        }
      },
      "source": [
        "Coleta dados e faz ajustes para poder compatibilizar os dados do mktshare aos da dinamica"
      ]
    },
    {
      "cell_type": "code",
      "execution_count": 11,
      "metadata": {
        "jupyter": {
          "outputs_hidden": false,
          "source_hidden": false
        },
        "nteract": {
          "transient": {
            "deleting": false
          }
        }
      },
      "outputs": [],
      "source": [
        "arquivo = dir_raw + 'volumetria/Dados_MarketShare_CONS_TRR.xlsx'\n",
        "\n",
        "mktcf = pd.read_excel(arquivo, sheet_name='CONSUMIDOR - Volumes',\n",
        "                        storage_options = {'linked_service' : linked_service_raw})\n",
        "mkttrr = pd.read_excel(arquivo, sheet_name='TRR - Volumes',\n",
        "                        storage_options = {'linked_service' : linked_service_raw})\n",
        "\n",
        "# arquivo = 'abfss://general@stedlk01dtandev.dfs.core.windows.net/raw/mercado_potencial/volumetria/Dados_MarketShare_CONS_TRR.xlsx'\n",
        "\n",
        "# mktcf = pd.read_excel(arquivo, sheet_name='CONSUMIDOR - Volumes')\n",
        "# mkttrr = pd.read_excel(arquivo, sheet_name='TRR - Volumes')\n",
        "\n",
        "mktcf = ajustar_data(mktcf)\n",
        "mkttrr = ajustar_data(mkttrr)\n",
        "\n",
        "# alinhar data com as informações da dinamica\n",
        "mktcf = mktcf['2012-06':]\n",
        "mkttrr = mkttrr['2012-06':]\n",
        "\n",
        "#Ajusta mkt para alinhar a dinamica\n",
        "mktcf  = ajusta_mkt(mktcf)\n",
        "mkttrr = ajusta_mkt(mkttrr)\n",
        "\n",
        "# Inclui o Global as empresas\n",
        "mktcf  = agrega_global_mkt(mktcf)\n",
        "mkttrr = agrega_global_mkt(mkttrr)"
      ]
    },
    {
      "cell_type": "markdown",
      "metadata": {
        "nteract": {
          "transient": {
            "deleting": false
          }
        }
      },
      "source": [
        "## Verificando se existem diferenças entre os dados de volume da Dinamica e do MKTShare"
      ]
    },
    {
      "cell_type": "markdown",
      "metadata": {
        "nteract": {
          "transient": {
            "deleting": false
          }
        }
      },
      "source": [
        "Espera-se que os volumes de Consumidor Final e TRR da Dinâmica sejam compatíveis com os volumes Globais criados a partir das empresas no MKT Share."
      ]
    },
    {
      "cell_type": "code",
      "execution_count": 12,
      "metadata": {
        "jupyter": {
          "outputs_hidden": false,
          "source_hidden": false
        },
        "nteract": {
          "transient": {
            "deleting": false
          }
        }
      },
      "outputs": [],
      "source": [
        "# Dataframes auxiliares para coletar o MKTShare do Consumidor Final e do TRR\n",
        "x1 = mktcf[mktcf['Empresa']=='Global'].reset_index(drop=True)\n",
        "x2 = mkttrr[mkttrr['Empresa']=='Global'].reset_index(drop=True)"
      ]
    },
    {
      "cell_type": "code",
      "execution_count": 13,
      "metadata": {
        "jupyter": {
          "outputs_hidden": false,
          "source_hidden": false
        },
        "nteract": {
          "transient": {
            "deleting": false
          }
        }
      },
      "outputs": [],
      "source": [
        "fig = make_subplots(rows=2, cols=1,\n",
        "                    y_title='Volume (m³)',\n",
        "                    subplot_titles=('Consumidor Final', 'TRR',),\n",
        "                    shared_yaxes=False,\n",
        "                    vertical_spacing=0.1 )\n",
        "\n",
        "# grafico 01\n",
        "fig.add_trace(go.Scatter(\n",
        "            x = x1['ds'],\n",
        "            y = x1['y'],\n",
        "            line = dict(color='orange', width=5),\n",
        "            name = 'MKT Share',\n",
        "            legendgroup = 'MKT Share',\n",
        "            showlegend=True),\n",
        "    row=1, col=1)\n",
        "\n",
        "fig.add_trace(go.Scatter(\n",
        "        x=dinamica['ds'],\n",
        "        y=dinamica['Volume_ConsumidorFinal'],\n",
        "        line={'color': 'green'},\n",
        "        name='Dinamica',\n",
        "        legendgroup = 'Dinamica',\n",
        "        showlegend=True),\n",
        "    row=1, col=1)\n",
        "\n",
        "# grafico 02\n",
        "fig.add_trace(go.Scatter(\n",
        "            x = x2['ds'],\n",
        "            y = x2['y'],\n",
        "            line = dict(color='orange', width=5),\n",
        "            name = 'MKT Share',\n",
        "            legendgroup = 'MKT Share',\n",
        "            showlegend=False),\n",
        "    row=2, col=1)\n",
        "\n",
        "fig.add_trace(go.Scatter(\n",
        "        x=dinamica['ds'],\n",
        "        y=dinamica['Volume_TRR'],\n",
        "        line={'color': 'green'},\n",
        "        name='Dinamica',\n",
        "        legendgroup = 'Dinamica',\n",
        "        showlegend=False),\n",
        "    row=2, col=1)\n",
        "\n",
        "fig.update_xaxes(matches='x', rangeslider_visible=True, rangeslider_thickness = 0.05)\n",
        "fig.update_xaxes(rangeslider= {'visible':False}, row=1, col=1)\n",
        "\n",
        "fig.update_layout(\n",
        "            title = 'Comparativo de Volumes' + '<br><sup>'+ 'Dinâmica Diesel x MKT Share' + '</sup>',\n",
        "            #xaxis_title = \"Período\",\n",
        "            #yaxis_title = \"y_label\",\n",
        "            legend_title = \"Legenda\",\n",
        "            font=dict(\n",
        "                family = \"Courier New, monospace\",\n",
        "                size = 14,\n",
        "                color = \"royalblue\"),\n",
        "            height=900\n",
        ")\n",
        "\n",
        "fig = plotly.offline.plot(fig, output_type='div')\n",
        "#displayHTML(fig)\n",
        "#fig.show()\n"
      ]
    },
    {
      "cell_type": "markdown",
      "metadata": {
        "nteract": {
          "transient": {
            "deleting": false
          }
        }
      },
      "source": [
        "# Ajuste dos Modelos para o MKT Share por 'Empresa'"
      ]
    },
    {
      "cell_type": "markdown",
      "metadata": {
        "nteract": {
          "transient": {
            "deleting": false
          }
        }
      },
      "source": [
        "## Lista de variáveis que serão ajustadas em seus respectivos modelos"
      ]
    },
    {
      "cell_type": "code",
      "execution_count": 14,
      "metadata": {
        "jupyter": {
          "outputs_hidden": false,
          "source_hidden": false
        },
        "nteract": {
          "transient": {
            "deleting": false
          }
        }
      },
      "outputs": [],
      "source": [
        "# Consumidor Final\n",
        "Best_Reg_CF = cons_final[cons_final.MAPE == cons_final.MAPE.min()].iloc[0,:][1].tolist()\n",
        "lista_CF = ['ds','y']\n",
        "lista_CF.extend(Best_Reg_CF)\n",
        "\n",
        "# TRR\n",
        "Best_Reg_TRR = trr[trr.MAPE == trr.MAPE.min()].iloc[0,:][1].tolist()\n",
        "lista_TRR = ['ds','y']\n",
        "lista_TRR.extend(Best_Reg_TRR)\n"
      ]
    },
    {
      "cell_type": "code",
      "execution_count": 15,
      "metadata": {
        "jupyter": {
          "outputs_hidden": false,
          "source_hidden": false
        },
        "nteract": {
          "transient": {
            "deleting": false
          }
        }
      },
      "outputs": [],
      "source": [
        "print('Regressoras utilizadas no ajuste de modelo MKT Share Consumidor Final')\n",
        "print(lista_CF)\n",
        "\n",
        "print(\"\")\n",
        "\n",
        "print('Regressoras utilizadas no ajuste de modelo MKT Share TRR')\n",
        "print(lista_TRR)"
      ]
    },
    {
      "cell_type": "markdown",
      "metadata": {
        "nteract": {
          "transient": {
            "deleting": false
          }
        }
      },
      "source": [
        "Os modelos de MKTShare foram ajustados con auxílio das regressoras dos respectivos segmentos definidas na exploração anterior"
      ]
    },
    {
      "cell_type": "markdown",
      "metadata": {
        "nteract": {
          "transient": {
            "deleting": false
          }
        }
      },
      "source": [
        "## Ajuste dos Modelos"
      ]
    },
    {
      "cell_type": "code",
      "execution_count": 16,
      "metadata": {
        "jupyter": {
          "outputs_hidden": false,
          "source_hidden": false
        },
        "nteract": {
          "transient": {
            "deleting": false
          }
        }
      },
      "outputs": [],
      "source": [
        "empresas = ['VIBRA','RAIZEN', 'IPIRANGA','OUTRAS NP','Global']\n",
        "\n",
        "# Previsão MKT Share Consumidor Final por empresa\n",
        "prev_mktcf = prev_mkt(mktcf, dinamica_par, empresas, lista_CF)\n",
        "\n",
        "# Previsão MKT Share TRR por empresa\n",
        "prev_mkttrr = prev_mkt(mkttrr, dinamica_par, empresas, lista_TRR)"
      ]
    },
    {
      "cell_type": "markdown",
      "metadata": {
        "nteract": {
          "transient": {
            "deleting": false
          }
        }
      },
      "source": [
        "## Salvando as Previões para o MKT Share"
      ]
    },
    {
      "cell_type": "code",
      "execution_count": 17,
      "metadata": {
        "jupyter": {
          "outputs_hidden": false,
          "source_hidden": false
        },
        "nteract": {
          "transient": {
            "deleting": false
          }
        }
      },
      "outputs": [],
      "source": [
        "# Salvando as previsoe s de MKT Share\n",
        "prev_mktcf.to_parquet(dir_enriched + 'volumetria/vol06_prev_mkt_ConsFinal.parquet', \n",
        "                        storage_options = {'linked_service':linked_service_enriched})\n",
        "prev_mkttrr.to_parquet(dir_enriched + 'volumetria/vol06_prev_mkt_TRR.parquet', \n",
        "                        storage_options = {'linked_service':linked_service_enriched})"
      ]
    },
    {
      "cell_type": "markdown",
      "metadata": {
        "nteract": {
          "transient": {
            "deleting": false
          }
        }
      },
      "source": [
        "# Visualização das Previsões"
      ]
    },
    {
      "cell_type": "markdown",
      "metadata": {
        "nteract": {
          "transient": {
            "deleting": false
          }
        }
      },
      "source": [
        "## Resgatando Dados das Previsões de Crescimento Vegetativo (Vendas Vibra)"
      ]
    },
    {
      "cell_type": "code",
      "execution_count": 18,
      "metadata": {
        "jupyter": {
          "outputs_hidden": false,
          "source_hidden": false
        },
        "nteract": {
          "transient": {
            "deleting": false
          }
        }
      },
      "outputs": [],
      "source": [
        "prev_vibra  = pd.read_parquet(dir_enriched + 'volumetria/vol01_prev_vegetativo.parquet',\n",
        "    storage_options = {'linked_service' : linked_service_enriched})\n",
        "\n",
        "# Filtrando Consumidor Final e TRR\n",
        "prev_vibracf  = prev_vibra[prev_vibra['Atv_Economica']=='CONSUMIDOR FINAL']\n",
        "prev_vibratrr = prev_vibra[prev_vibra['Atv_Economica']=='TRR']\n",
        "\n",
        "# remover o último mês  - normalmente mês corrente - dados imcompletos\n",
        "prev_vibracf  = prev_vibracf[:-1] \n",
        "prev_vibratrr = prev_vibratrr[:-1]"
      ]
    },
    {
      "cell_type": "markdown",
      "metadata": {
        "nteract": {
          "transient": {
            "deleting": false
          }
        }
      },
      "source": [
        "## Ajustando dados da previsão do  MKT Share"
      ]
    },
    {
      "cell_type": "code",
      "execution_count": 19,
      "metadata": {
        "jupyter": {
          "outputs_hidden": false,
          "source_hidden": false
        },
        "nteract": {
          "transient": {
            "deleting": false
          }
        }
      },
      "outputs": [],
      "source": [
        "prev_mktcf = prev_mktcf[prev_mktcf['ds']>='2016']\n",
        "prev_mkttrr = prev_mkttrr[prev_mkttrr['ds']>='2016']"
      ]
    },
    {
      "cell_type": "markdown",
      "metadata": {
        "nteract": {
          "transient": {
            "deleting": false
          }
        }
      },
      "source": [
        "### Criando 'ygraf' variável gerada da união dos dados reais 'y' e dos dados previstos'yhat'\n"
      ]
    },
    {
      "cell_type": "code",
      "execution_count": 20,
      "metadata": {
        "jupyter": {
          "outputs_hidden": false,
          "source_hidden": false
        },
        "nteract": {
          "transient": {
            "deleting": false
          }
        }
      },
      "outputs": [],
      "source": [
        "# Consumidor Final\n",
        "prev_mktcf['ygraf'] = prev_mktcf['y']\n",
        "prev_mktcf.loc[prev_mktcf['y'].isnull(),'ygraf'] = prev_mktcf['yhat']\n",
        "\n",
        "# TRR\n",
        "prev_mkttrr['ygraf'] = prev_mkttrr['y']\n",
        "prev_mkttrr.loc[prev_mkttrr['y'].isnull(),'ygraf'] = prev_mkttrr['yhat']"
      ]
    },
    {
      "cell_type": "code",
      "execution_count": 21,
      "metadata": {
        "jupyter": {
          "outputs_hidden": false,
          "source_hidden": false
        },
        "nteract": {
          "transient": {
            "deleting": false
          }
        }
      },
      "outputs": [],
      "source": [
        "def start_prev(df):\n",
        "    # pegar ultima data real =  primeira da previsao\n",
        "    pri = df.loc[pd.isna(df['y']), :].index[0] #primeiro nan\n",
        "    start = df.loc[pri,'ds'] #- relativedelta(months=1) # inicio do periodo a ser projetado\n",
        "    #start = start + relativedelta(months=3)\n",
        "    #start = start.strftime('%Y-%m-%d')\n",
        "    return(start)"
      ]
    },
    {
      "cell_type": "markdown",
      "metadata": {
        "nteract": {
          "transient": {
            "deleting": false
          }
        }
      },
      "source": [
        "## Representação Gráfica"
      ]
    },
    {
      "cell_type": "code",
      "execution_count": 22,
      "metadata": {
        "jupyter": {
          "outputs_hidden": false,
          "source_hidden": false
        },
        "nteract": {
          "transient": {
            "deleting": false
          }
        }
      },
      "outputs": [],
      "source": [
        "# empresas = ['OUTRAS NP','IPIRANGA','RAIZEN','VIBRA']\n",
        "# cores = ['gray','gold','purple','green']\n",
        "\n",
        "empresas = ['VIBRA','RAIZEN', 'IPIRANGA','OUTRAS NP']\n",
        "cores = ['green', 'purple', 'gold', 'gray']\n",
        "\n",
        "pri = dinamica.loc[pd.isna(dinamica['PIB_Exportacao']), :] #primeiro nan da dinamica\n",
        "\n",
        "inicio_prev = start_prev(prev_mktcf).strftime('%Y-%m-%d')\n",
        "y1 = prev_mktcf['ygraf'].max()\n",
        "y2 = prev_mkttrr['ygraf'].max()\n",
        "\n",
        "fig = make_subplots(rows=2, cols=1,\n",
        "                    y_title='Volume (m³)',\n",
        "                    subplot_titles=('Consumidor Final', 'TRR',),\n",
        "                    shared_yaxes=False,\n",
        "                    vertical_spacing=0.1 )\n",
        "\n",
        "# grafico 01\n",
        "dt = prev_mktcf[prev_mktcf['Empresa']=='Global'].reset_index(drop=True) # Consumidor Final - MKT Share - Global(Somatorio das Empresa)\n",
        "fig.add_trace(go.Scatter( \n",
        "            x = dt['ds'],\n",
        "            y = dt['ygraf'],\n",
        "            line = dict(color='red', width=4),\n",
        "            name = 'MKTSH_Global',\n",
        "            legendgroup = 'Global',\n",
        "            showlegend=True),\n",
        "    row=1, col=1)\n",
        "\n",
        "fig.add_trace(go.Scatter( # Linha do Crescimento Vegetativo Vibra -  Consumidor Final\n",
        "            x = prev_vibracf['ds'],\n",
        "            y = prev_vibracf['yhat'],\n",
        "            line = {'color': 'green', 'dash':'dot'},\n",
        "            name = 'Veg_VIBRA',\n",
        "            legendgroup = 'Veg_VIBRA',\n",
        "            showlegend=True),\n",
        "    row=1, col=1)\n",
        "\n",
        "for c, i in enumerate(empresas):\n",
        "# linhas do  Consumidor Final - MKT Share - por empresa\n",
        "        dt = prev_mktcf[prev_mktcf['Empresa']==i].reset_index(drop=True)\n",
        "        fig.add_trace(go.Scatter(\n",
        "                        name = 'MKTSH_'+i,\n",
        "                        legendgroup = 'MKTSH_'+i,\n",
        "                        x = dt['ds'],\n",
        "                        y = dt['ygraf'],\n",
        "                        line = {'color': cores[c]},\n",
        "                        visible=True,\n",
        "                        stackgroup='one'),\n",
        "                    row=1, col=1\n",
        "        )\n",
        "\n",
        "# grafico 02\n",
        "dt = prev_mkttrr[prev_mkttrr['Empresa']=='Global'].reset_index(drop=True) # TRR - MKT Share - Global(Somatorio das Empresa)\n",
        "fig.add_trace(go.Scatter(\n",
        "            x = dt['ds'],\n",
        "            y = dt['ygraf'],\n",
        "            line = dict(color='red', width=4),\n",
        "            name = 'MKTSH_Global',\n",
        "            legendgroup = 'Global',\n",
        "            showlegend=False),\n",
        "    row=2, col=1)\n",
        "\n",
        "fig.add_trace(go.Scatter( # Linha do Crescimento Vegetativo Vibra -  TRR\n",
        "            x = prev_vibratrr['ds'],\n",
        "            y = prev_vibratrr['yhat'],\n",
        "            line = {'color': 'green', 'dash':'dot'},\n",
        "            name = 'Veg_VIBRA',\n",
        "            legendgroup = 'Veg_VIBRA',\n",
        "            showlegend=False),\n",
        "    row=2, col=1)\n",
        "\n",
        "for c, i in enumerate(empresas):\n",
        "# linhas do TRR\n",
        "        dt = prev_mkttrr[prev_mkttrr['Empresa']==i].reset_index(drop=True)\n",
        "        fig.add_trace(go.Scatter(\n",
        "                        name = i,\n",
        "                        legendgroup = 'MKTSH_'+i,\n",
        "                        x = dt['ds'],\n",
        "                        y = dt['ygraf'],\n",
        "                        line = {'color': cores[c]},\n",
        "                        visible=True,\n",
        "                        stackgroup='one',\n",
        "                        showlegend=False),\n",
        "                    row=2, col=1\n",
        "        )\n",
        "    \n",
        "fig.update_xaxes(matches='x', rangeslider_visible=True, rangeslider_thickness = 0.05)\n",
        "fig.update_xaxes(rangeslider= {'visible':False}, row=1, col=1)\n",
        "\n",
        "if len(pri)>0:\n",
        "    fig.add_annotation(\n",
        "            text= ('<b>Nota: </b> <br>De ' + pri.index[0].strftime('%b de %Y') +' a ' + start_prev(prev_mktcf).strftime('%b de %Y')) + \n",
        "            (' algumas regressoras tiveram dados imputados por meio de médias móveis.<br>Pois, estes dados ainda não foram disponibilizadas pelas suas fontes geradoras.'),\n",
        "            showarrow=False,\n",
        "            font=dict(size=12),\n",
        "            align=\"left\",\n",
        "            x=-0.05,\n",
        "            y=-0.24,\n",
        "            xref='paper',\n",
        "            yref='paper',\n",
        "            xanchor='left',\n",
        "            yanchor='bottom',\n",
        "            xshift=-1,\n",
        "            yshift=-5)\n",
        "\n",
        "fig.add_annotation(\n",
        "            showarrow=False,\n",
        "            text='Gerado em ' + datetime.now().strftime(\"%d %b %Y às %H:%M:%S\"),\n",
        "            font=dict(size=12),\n",
        "            align=\"right\",\n",
        "            x=1.18,\n",
        "            y=-0.24,\n",
        "            xref='paper',\n",
        "            yref='paper',\n",
        "            xanchor='right',\n",
        "            yanchor='bottom',)\n",
        "\n",
        "# Linhas de divisão das previsões\n",
        "fig.update_layout(\n",
        "    shapes=[\n",
        "        dict(type=\"line\", xref=\"x\", yref=\"y\",\n",
        "                x0=inicio_prev, x1=inicio_prev, \n",
        "                y0=0, y1=y1*1.05,\n",
        "                line=dict(color=\"black\",\n",
        "                          width=2,\n",
        "                          dash=\"dot\")\n",
        "                ),\n",
        "        dict(type=\"line\", xref=\"x2\", yref=\"y2\",\n",
        "                x0=inicio_prev, x1=inicio_prev, \n",
        "                y0=0, y1=y2*1.05,\n",
        "                line=dict(color=\"black\",\n",
        "                          width=2,\n",
        "                          dash=\"dot\")\n",
        "                ),\n",
        "    ])\n",
        "\n",
        "# Área de previsão\n",
        "fig.add_vrect(x0=inicio_prev, x1=dt['ds'].max().strftime('%Y-%m-%d'), \n",
        "              annotation_text=\"Previsão\",\n",
        "              annotation_position=\"bottom left\",  \n",
        "              annotation_font_size=14,\n",
        "              annotation_font_color=\"white\",\n",
        "              #fillcolor=\"gray\",\n",
        "              opacity=0.15,\n",
        "              line_width=0)\n",
        "\n",
        "# titulo\n",
        "fig.update_layout(\n",
        "                template='simple_white', # template [\"plotly\", \"plotly_white\", \"plotly_dark\", \"ggplot2\", \"seaborn\", \"simple_white\", \"none\"]\n",
        "                # plot_bgcolor='rgba(0, 0, 0, 0)',\n",
        "                # paper_bgcolor='rgba(0, 0, 0, 0)',\n",
        "                title = 'Volume de Diesel (m³)' + '<br><sup>'+ \n",
        "                        prev_mkttrr['ds'].min().strftime('%m-%Y')+' a ' + \n",
        "                        prev_mkttrr['ds'].max().strftime('%m-%Y')+'</sup>',\n",
        "                #xaxis_title = \"Período\",\n",
        "                #yaxis_title = \"y_label\",\n",
        "                legend_title = \"Legenda\",\n",
        "                font=dict(\n",
        "                        family = \"Courier New, monospace\",\n",
        "                        size = 14,\n",
        "                        color = \"royalblue\"),\n",
        "                height=900\n",
        ")\n",
        "\n",
        "fig = plotly.offline.plot(fig, output_type='div')\n",
        "displayHTML(fig)\n",
        "#fig.show()\n"
      ]
    },
    {
      "cell_type": "markdown",
      "metadata": {
        "nteract": {
          "transient": {
            "deleting": false
          }
        }
      },
      "source": [
        "# Acesso à Documentação"
      ]
    },
    {
      "cell_type": "code",
      "execution_count": 23,
      "metadata": {
        "jupyter": {
          "outputs_hidden": false,
          "source_hidden": false
        },
        "nteract": {
          "transient": {
            "deleting": false
          }
        }
      },
      "outputs": [],
      "source": [
        "help(modelo_final)"
      ]
    },
    {
      "cell_type": "code",
      "execution_count": 24,
      "metadata": {
        "jupyter": {
          "outputs_hidden": false,
          "source_hidden": false
        },
        "nteract": {
          "transient": {
            "deleting": false
          }
        }
      },
      "outputs": [],
      "source": [
        "help(prev_mkt)"
      ]
    },
    {
      "cell_type": "code",
      "execution_count": 25,
      "metadata": {
        "jupyter": {
          "outputs_hidden": false,
          "source_hidden": false
        },
        "nteract": {
          "transient": {
            "deleting": false
          }
        }
      },
      "outputs": [],
      "source": [
        "help(ajustar_data)"
      ]
    },
    {
      "cell_type": "code",
      "execution_count": 26,
      "metadata": {
        "jupyter": {
          "outputs_hidden": false,
          "source_hidden": false
        },
        "nteract": {
          "transient": {
            "deleting": false
          }
        }
      },
      "outputs": [],
      "source": [
        "help(ajusta_mkt)"
      ]
    },
    {
      "cell_type": "code",
      "execution_count": 27,
      "metadata": {
        "jupyter": {
          "outputs_hidden": false,
          "source_hidden": false
        },
        "nteract": {
          "transient": {
            "deleting": false
          }
        }
      },
      "outputs": [],
      "source": [
        "help(agrega_global_mkt)"
      ]
    }
  ],
  "metadata": {
    "description": null,
    "kernelspec": {
      "display_name": "Synapse PySpark",
      "name": "synapse_pyspark"
    },
    "language_info": {
      "name": "python"
    },
    "save_output": true
  },
  "nbformat": 4,
  "nbformat_minor": 2
}
